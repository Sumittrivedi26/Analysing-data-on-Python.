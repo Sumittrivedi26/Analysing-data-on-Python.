{
 "cells": [
  {
   "cell_type": "markdown",
   "id": "7bf371ed-0e67-4fd7-bd85-824498c7df21",
   "metadata": {},
   "source": [
    "# Analysing the Airline Passenger Satisfactory Dataset using NumPy Pandas"
   ]
  },
  {
   "cell_type": "markdown",
   "id": "90ba52b5-acee-49c3-84b8-652d0e9470fd",
   "metadata": {},
   "source": [
    "#### Dataset links: https://www.kaggle.com/datasets/teejmahal20/airline-passenger-satisfaction/data?select=test.csv and https://www.kaggle.com/datasets/teejmahal20/airline-passenger-satisfaction/data?select=train.csv were combined to increase the size of the dataset "
   ]
  },
  {
   "cell_type": "markdown",
   "id": "70589115-b91a-43d7-a5d5-5b7aa32bc7d8",
   "metadata": {},
   "source": [
    "### Moutrisha Ghosh  --  K00302103"
   ]
  },
  {
   "cell_type": "markdown",
   "id": "36a11cb6-a845-433e-972b-41b0a5e68859",
   "metadata": {},
   "source": [
    "### Sumit Trivedi -- K00302092"
   ]
  },
  {
   "cell_type": "markdown",
   "id": "14ce9bae-1e54-4519-a799-4500d221d783",
   "metadata": {},
   "source": [
    "## TASK 2"
   ]
  },
  {
   "cell_type": "markdown",
   "id": "de1df73f-2c2e-4b99-a2ad-ec3c97fa1185",
   "metadata": {},
   "source": [
    "#### First step is to import pandas and numpy library "
   ]
  },
  {
   "cell_type": "code",
   "execution_count": 6,
   "id": "d1a42fda",
   "metadata": {},
   "outputs": [],
   "source": [
    "import pandas as pd\n",
    "import numpy as np\n",
    "import time"
   ]
  },
  {
   "cell_type": "markdown",
   "id": "b8749f53-5dce-420d-8920-a49f6efd78dd",
   "metadata": {},
   "source": [
    "#### Using the read_excel Function to read the Dataset."
   ]
  },
  {
   "cell_type": "code",
   "execution_count": 5,
   "id": "670ab2e7",
   "metadata": {},
   "outputs": [
    {
     "name": "stdout",
     "output_type": "stream",
     "text": [
      "\n",
      "RunTime:  33.28091382980347\n"
     ]
    }
   ],
   "source": [
    "start = time.time() #starting time function\n",
    "\n",
    "data = pd.read_excel('train + test dataset.xlsx') #reading excel and storing it as data\n",
    "\n",
    "duration = time.time() - start #calculating the duration\n",
    "print(\"\\n\"\"RunTime: \",duration) #printing duration"
   ]
  },
  {
   "cell_type": "markdown",
   "id": "aa7a418d-7fb9-4336-bf32-9b217254f8fc",
   "metadata": {},
   "source": [
    "#### Now we will be printing the first 5 rows of our data."
   ]
  },
  {
   "cell_type": "code",
   "execution_count": 7,
   "id": "652b161c",
   "metadata": {},
   "outputs": [
    {
     "name": "stdout",
     "output_type": "stream",
     "text": [
      "   Unnamed: 0      id  Gender      Customer Type  Age   Type of Travel  \\\n",
      "0           0   70172    Male     Loyal Customer   13  Personal Travel   \n",
      "1           1    5047    Male  disloyal Customer   25  Business travel   \n",
      "2           2  110028  Female     Loyal Customer   26  Business travel   \n",
      "3           3   24026  Female     Loyal Customer   25  Business travel   \n",
      "4           4  119299    Male     Loyal Customer   61  Business travel   \n",
      "\n",
      "      Class  Flight Distance  Inflight wifi service  \\\n",
      "0  Eco Plus              460                      3   \n",
      "1  Business              235                      3   \n",
      "2  Business             1142                      2   \n",
      "3  Business              562                      2   \n",
      "4  Business              214                      3   \n",
      "\n",
      "   Departure/Arrival time convenient  ...  Inflight entertainment  \\\n",
      "0                                  4  ...                       5   \n",
      "1                                  2  ...                       1   \n",
      "2                                  2  ...                       5   \n",
      "3                                  5  ...                       2   \n",
      "4                                  3  ...                       3   \n",
      "\n",
      "   On-board service  Leg room service  Baggage handling  Checkin service  \\\n",
      "0                 4                 3                 4                4   \n",
      "1                 1                 5                 3                1   \n",
      "2                 4                 3                 4                4   \n",
      "3                 2                 5                 3                1   \n",
      "4                 3                 4                 4                3   \n",
      "\n",
      "   Inflight service  Cleanliness  Departure Delay in Minutes  \\\n",
      "0                 5            5                          25   \n",
      "1                 4            1                           1   \n",
      "2                 4            5                           0   \n",
      "3                 4            2                          11   \n",
      "4                 3            3                           0   \n",
      "\n",
      "   Arrival Delay in Minutes             satisfaction  \n",
      "0                      18.0  neutral or dissatisfied  \n",
      "1                       6.0  neutral or dissatisfied  \n",
      "2                       0.0                satisfied  \n",
      "3                       9.0  neutral or dissatisfied  \n",
      "4                       0.0                satisfied  \n",
      "\n",
      "[5 rows x 25 columns]\n",
      "\n",
      "RunTime:  0.04630088806152344\n"
     ]
    }
   ],
   "source": [
    "start = time.time() #starting time function\n",
    "\n",
    "print (data.head(5))\n",
    "\n",
    "duration = time.time() - start #calculating the duration\n",
    "print(\"\\n\"\"RunTime: \",duration) #printing duration"
   ]
  },
  {
   "cell_type": "markdown",
   "id": "c92c46e1-85b0-422f-b6a2-1c5c75b444d3",
   "metadata": {},
   "source": [
    "Checking the datatype of loaded dataset."
   ]
  },
  {
   "cell_type": "code",
   "execution_count": 8,
   "id": "a94d1c34",
   "metadata": {},
   "outputs": [
    {
     "name": "stdout",
     "output_type": "stream",
     "text": [
      "<class 'pandas.core.frame.DataFrame'>\n",
      "\n",
      "RunTime:  0.00017499923706054688\n"
     ]
    }
   ],
   "source": [
    "start = time.time()\n",
    "\n",
    "print(type(data))  #list type data\n",
    "\n",
    "duration = time.time() - start #calculating the duration\n",
    "print(\"\\n\"\"RunTime: \",duration) #printing duration"
   ]
  },
  {
   "cell_type": "markdown",
   "id": "cb9d5461-aab3-4729-bd4d-d48cc8af0787",
   "metadata": {},
   "source": [
    "#### Length of dataset"
   ]
  },
  {
   "cell_type": "code",
   "execution_count": 9,
   "id": "68173ed7",
   "metadata": {},
   "outputs": [
    {
     "name": "stdout",
     "output_type": "stream",
     "text": [
      "25\n",
      "\n",
      "RunTime:  0.0009648799896240234\n"
     ]
    }
   ],
   "source": [
    "start = time.time()\n",
    "\n",
    "print(data.shape[1])  #length of dataset\n",
    "\n",
    "duration = time.time() - start #calculating the duration\n",
    "print(\"\\n\"\"RunTime: \",duration) #printing duration"
   ]
  },
  {
   "cell_type": "markdown",
   "id": "ab98b77a-6386-4c45-b2d0-d89cbfe336a0",
   "metadata": {},
   "source": [
    "Reading the first element in our dataset."
   ]
  },
  {
   "cell_type": "code",
   "execution_count": 10,
   "id": "60790716",
   "metadata": {},
   "outputs": [
    {
     "data": {
      "text/plain": [
       "0          70172\n",
       "1           5047\n",
       "2         110028\n",
       "3          24026\n",
       "4         119299\n",
       "           ...  \n",
       "106573     98831\n",
       "106574     79478\n",
       "106575       548\n",
       "106576    112555\n",
       "106577     37339\n",
       "Name: id, Length: 106578, dtype: int64"
      ]
     },
     "execution_count": 10,
     "metadata": {},
     "output_type": "execute_result"
    }
   ],
   "source": [
    "data[\"id\"]"
   ]
  },
  {
   "cell_type": "markdown",
   "id": "e7562258-15d0-42a3-8fa1-e22c3fee5130",
   "metadata": {},
   "source": [
    "#### Printing our dataset"
   ]
  },
  {
   "cell_type": "code",
   "execution_count": 11,
   "id": "602177e6",
   "metadata": {},
   "outputs": [
    {
     "name": "stdout",
     "output_type": "stream",
     "text": [
      "        Unnamed: 0      id  Gender      Customer Type  Age   Type of Travel  \\\n",
      "0                0   70172    Male     Loyal Customer   13  Personal Travel   \n",
      "1                1    5047    Male  disloyal Customer   25  Business travel   \n",
      "2                2  110028  Female     Loyal Customer   26  Business travel   \n",
      "3                3   24026  Female     Loyal Customer   25  Business travel   \n",
      "4                4  119299    Male     Loyal Customer   61  Business travel   \n",
      "...            ...     ...     ...                ...  ...              ...   \n",
      "106573      106573   98831  Female     Loyal Customer   16  Personal Travel   \n",
      "106574      106574   79478    Male  disloyal Customer   34  Business travel   \n",
      "106575      106575     548  Female  disloyal Customer   55  Business travel   \n",
      "106576      106576  112555    Male     Loyal Customer   52  Business travel   \n",
      "106577      106577   37339  Female     Loyal Customer   58  Business travel   \n",
      "\n",
      "           Class  Flight Distance  Inflight wifi service  \\\n",
      "0       Eco Plus              460                      3   \n",
      "1       Business              235                      3   \n",
      "2       Business             1142                      2   \n",
      "3       Business              562                      2   \n",
      "4       Business              214                      3   \n",
      "...          ...              ...                    ...   \n",
      "106573       Eco              763                      2   \n",
      "106574  Business              712                      3   \n",
      "106575  Business              134                      3   \n",
      "106576  Business             3000                      3   \n",
      "106577       Eco             1076                      3   \n",
      "\n",
      "        Departure/Arrival time convenient  ...  Inflight entertainment  \\\n",
      "0                                       4  ...                       5   \n",
      "1                                       2  ...                       1   \n",
      "2                                       2  ...                       5   \n",
      "3                                       5  ...                       2   \n",
      "4                                       3  ...                       3   \n",
      "...                                   ...  ...                     ...   \n",
      "106573                                  5  ...                       5   \n",
      "106574                                  2  ...                       2   \n",
      "106575                                  3  ...                       3   \n",
      "106576                                  3  ...                       4   \n",
      "106577                                  4  ...                       3   \n",
      "\n",
      "        On-board service  Leg room service  Baggage handling  Checkin service  \\\n",
      "0                      4                 3                 4                4   \n",
      "1                      1                 5                 3                1   \n",
      "2                      4                 3                 4                4   \n",
      "3                      2                 5                 3                1   \n",
      "4                      3                 4                 4                3   \n",
      "...                  ...               ...               ...              ...   \n",
      "106573                 5                 3                 5                3   \n",
      "106574                 5                 2                 5                3   \n",
      "106575                 4                 5                 4                5   \n",
      "106576                 4                 5                 4                4   \n",
      "106577                 3                 3                 3                2   \n",
      "\n",
      "        Inflight service  Cleanliness  Departure Delay in Minutes  \\\n",
      "0                      5            5                          25   \n",
      "1                      4            1                           1   \n",
      "2                      4            5                           0   \n",
      "3                      4            2                          11   \n",
      "4                      3            3                           0   \n",
      "...                  ...          ...                         ...   \n",
      "106573                 4            5                          21   \n",
      "106574                 5            2                           0   \n",
      "106575                 4            3                           0   \n",
      "106576                 4            3                          15   \n",
      "106577                 3            1                           0   \n",
      "\n",
      "        Arrival Delay in Minutes             satisfaction  \n",
      "0                           18.0  neutral or dissatisfied  \n",
      "1                            6.0  neutral or dissatisfied  \n",
      "2                            0.0                satisfied  \n",
      "3                            9.0  neutral or dissatisfied  \n",
      "4                            0.0                satisfied  \n",
      "...                          ...                      ...  \n",
      "106573                       9.0  neutral or dissatisfied  \n",
      "106574                       9.0  neutral or dissatisfied  \n",
      "106575                       0.0  neutral or dissatisfied  \n",
      "106576                       1.0                satisfied  \n",
      "106577                       0.0  neutral or dissatisfied  \n",
      "\n",
      "[106578 rows x 25 columns]\n",
      "\n",
      "RunTime:  0.045770883560180664\n"
     ]
    }
   ],
   "source": [
    "start = time.time()\n",
    "\n",
    "print(data)  #printing the dataset\n",
    "\n",
    "duration = time.time() - start #calculating the duration\n",
    "print(\"\\n\"\"RunTime: \",duration) #printing duration"
   ]
  },
  {
   "cell_type": "markdown",
   "id": "5f87663c-bb16-4cec-8131-bed759c366b5",
   "metadata": {},
   "source": [
    "#### Number of Rows in the dataset"
   ]
  },
  {
   "cell_type": "code",
   "execution_count": 12,
   "id": "418f8360",
   "metadata": {},
   "outputs": [
    {
     "data": {
      "text/plain": [
       "106578"
      ]
     },
     "execution_count": 12,
     "metadata": {},
     "output_type": "execute_result"
    }
   ],
   "source": [
    "Total_Number_of_Rows = len(data)\n",
    "\n",
    "Total_Number_of_Rows"
   ]
  },
  {
   "cell_type": "markdown",
   "id": "f9063621-daa6-490e-a947-524262180aec",
   "metadata": {},
   "source": [
    "#### Number of Columns in the dataset"
   ]
  },
  {
   "cell_type": "code",
   "execution_count": 13,
   "id": "1920789a",
   "metadata": {},
   "outputs": [
    {
     "data": {
      "text/plain": [
       "25"
      ]
     },
     "execution_count": 13,
     "metadata": {},
     "output_type": "execute_result"
    }
   ],
   "source": [
    "Total_Number_of_Column = data.shape[1]\n",
    "\n",
    "Total_Number_of_Column"
   ]
  },
  {
   "cell_type": "markdown",
   "id": "e684c86f-0914-4827-8283-849ae3ededa9",
   "metadata": {},
   "source": [
    "#### Column names are :"
   ]
  },
  {
   "cell_type": "code",
   "execution_count": 14,
   "id": "28279b35",
   "metadata": {},
   "outputs": [
    {
     "name": "stdout",
     "output_type": "stream",
     "text": [
      "Index(['Unnamed: 0', 'id', 'Gender', 'Customer Type', 'Age', 'Type of Travel',\n",
      "       'Class', 'Flight Distance', 'Inflight wifi service',\n",
      "       'Departure/Arrival time convenient', 'Ease of Online booking',\n",
      "       'Gate location', 'Food and drink', 'Online boarding', 'Seat comfort',\n",
      "       'Inflight entertainment', 'On-board service', 'Leg room service',\n",
      "       'Baggage handling', 'Checkin service', 'Inflight service',\n",
      "       'Cleanliness', 'Departure Delay in Minutes', 'Arrival Delay in Minutes',\n",
      "       'satisfaction'],\n",
      "      dtype='object')\n",
      "\n",
      "RunTime:  0.0008299350738525391\n"
     ]
    }
   ],
   "source": [
    "start = time.time()\n",
    "\n",
    "print (data.columns)  #printing the column names of the dataset\n",
    "\n",
    "duration = time.time() - start #calculating the duration\n",
    "print(\"\\n\"\"RunTime: \",duration) #printing duration"
   ]
  },
  {
   "cell_type": "markdown",
   "id": "59e20087-6920-40d7-866d-3c452dd277b4",
   "metadata": {},
   "source": [
    "If the first column name is blank then the column name will be assigned as Index"
   ]
  },
  {
   "cell_type": "code",
   "execution_count": 15,
   "id": "d94cc68e",
   "metadata": {},
   "outputs": [
    {
     "data": {
      "text/plain": [
       "Index(['Index', 'id', 'Gender', 'Customer Type', 'Age', 'Type of Travel',\n",
       "       'Class', 'Flight Distance', 'Inflight wifi service',\n",
       "       'Departure/Arrival time convenient', 'Ease of Online booking',\n",
       "       'Gate location', 'Food and drink', 'Online boarding', 'Seat comfort',\n",
       "       'Inflight entertainment', 'On-board service', 'Leg room service',\n",
       "       'Baggage handling', 'Checkin service', 'Inflight service',\n",
       "       'Cleanliness', 'Departure Delay in Minutes', 'Arrival Delay in Minutes',\n",
       "       'satisfaction'],\n",
       "      dtype='object')"
      ]
     },
     "execution_count": 15,
     "metadata": {},
     "output_type": "execute_result"
    }
   ],
   "source": [
    "renamed_data = data.rename(columns ={'Unnamed: 0' : 'Index'})\n",
    "\n",
    "renamed_data.columns"
   ]
  },
  {
   "cell_type": "markdown",
   "id": "e5006e68-c0cd-4829-9e9a-5c877964f28f",
   "metadata": {},
   "source": [
    "#### Checking the datatype of values in columns"
   ]
  },
  {
   "cell_type": "code",
   "execution_count": 16,
   "id": "0018849c",
   "metadata": {},
   "outputs": [
    {
     "name": "stdout",
     "output_type": "stream",
     "text": [
      "Index                                  int64\n",
      "id                                     int64\n",
      "Gender                                object\n",
      "Customer Type                         object\n",
      "Age                                    int64\n",
      "Type of Travel                        object\n",
      "Class                                 object\n",
      "Flight Distance                        int64\n",
      "Inflight wifi service                  int64\n",
      "Departure/Arrival time convenient      int64\n",
      "Ease of Online booking                 int64\n",
      "Gate location                          int64\n",
      "Food and drink                         int64\n",
      "Online boarding                        int64\n",
      "Seat comfort                           int64\n",
      "Inflight entertainment                 int64\n",
      "On-board service                       int64\n",
      "Leg room service                       int64\n",
      "Baggage handling                       int64\n",
      "Checkin service                        int64\n",
      "Inflight service                       int64\n",
      "Cleanliness                            int64\n",
      "Departure Delay in Minutes             int64\n",
      "Arrival Delay in Minutes             float64\n",
      "satisfaction                          object\n",
      "dtype: object\n",
      "\n",
      "RunTime:  0.0023620128631591797\n"
     ]
    }
   ],
   "source": [
    "start = time.time()\n",
    "\n",
    "print (renamed_data.dtypes)  #printing the datatype of values in columns\n",
    "\n",
    "duration = time.time() - start #calculating the duration\n",
    "print(\"\\n\"\"RunTime: \",duration) #printing duration"
   ]
  },
  {
   "cell_type": "markdown",
   "id": "f8877dac-461f-47d8-8191-b9ffb483c984",
   "metadata": {},
   "source": [
    "#### Checking for missing values"
   ]
  },
  {
   "cell_type": "code",
   "execution_count": 17,
   "id": "b24a0c3b",
   "metadata": {},
   "outputs": [
    {
     "name": "stdout",
     "output_type": "stream",
     "text": [
      "Index                                  0\n",
      "id                                     0\n",
      "Gender                                 0\n",
      "Customer Type                          0\n",
      "Age                                    0\n",
      "Type of Travel                         0\n",
      "Class                                  0\n",
      "Flight Distance                        0\n",
      "Inflight wifi service                  0\n",
      "Departure/Arrival time convenient      0\n",
      "Ease of Online booking                 0\n",
      "Gate location                          0\n",
      "Food and drink                         0\n",
      "Online boarding                        0\n",
      "Seat comfort                           0\n",
      "Inflight entertainment                 0\n",
      "On-board service                       0\n",
      "Leg room service                       0\n",
      "Baggage handling                       0\n",
      "Checkin service                        0\n",
      "Inflight service                       0\n",
      "Cleanliness                            0\n",
      "Departure Delay in Minutes             0\n",
      "Arrival Delay in Minutes             317\n",
      "satisfaction                           0\n",
      "dtype: int64\n",
      "\n",
      "RunTime:  0.11089181900024414\n"
     ]
    }
   ],
   "source": [
    "start = time.time()\n",
    "\n",
    "print (renamed_data.isna().sum())  #checking and printing the number of missing values\n",
    "\n",
    "duration = time.time() - start #calculating the duration\n",
    "print(\"\\n\"\"RunTime: \",duration) #printing duration"
   ]
  },
  {
   "cell_type": "markdown",
   "id": "ccf6c4ab-4032-42ca-82e2-b5a2f04cca8a",
   "metadata": {},
   "source": [
    "#### Replacing the missing values with zero."
   ]
  },
  {
   "cell_type": "code",
   "execution_count": 18,
   "id": "d9ae672b",
   "metadata": {},
   "outputs": [],
   "source": [
    "dataset_new = renamed_data.fillna(value = 0)"
   ]
  },
  {
   "cell_type": "markdown",
   "id": "b588ec33-dfac-4ad4-a4b1-4f95c1fd6e64",
   "metadata": {},
   "source": [
    "#### Validating"
   ]
  },
  {
   "cell_type": "code",
   "execution_count": 19,
   "id": "5064dfe2",
   "metadata": {},
   "outputs": [
    {
     "data": {
      "text/plain": [
       "Index                                0\n",
       "id                                   0\n",
       "Gender                               0\n",
       "Customer Type                        0\n",
       "Age                                  0\n",
       "Type of Travel                       0\n",
       "Class                                0\n",
       "Flight Distance                      0\n",
       "Inflight wifi service                0\n",
       "Departure/Arrival time convenient    0\n",
       "Ease of Online booking               0\n",
       "Gate location                        0\n",
       "Food and drink                       0\n",
       "Online boarding                      0\n",
       "Seat comfort                         0\n",
       "Inflight entertainment               0\n",
       "On-board service                     0\n",
       "Leg room service                     0\n",
       "Baggage handling                     0\n",
       "Checkin service                      0\n",
       "Inflight service                     0\n",
       "Cleanliness                          0\n",
       "Departure Delay in Minutes           0\n",
       "Arrival Delay in Minutes             0\n",
       "satisfaction                         0\n",
       "dtype: int64"
      ]
     },
     "execution_count": 19,
     "metadata": {},
     "output_type": "execute_result"
    }
   ],
   "source": [
    "dataset_new.isna().sum()"
   ]
  },
  {
   "cell_type": "markdown",
   "id": "a8f92195-6040-4e90-b543-87a560433f68",
   "metadata": {},
   "source": [
    "### Summary Statistics"
   ]
  },
  {
   "cell_type": "code",
   "execution_count": 20,
   "id": "8aaaf387",
   "metadata": {},
   "outputs": [],
   "source": [
    "start = time.time()"
   ]
  },
  {
   "cell_type": "code",
   "execution_count": 21,
   "id": "f02f9e72-7e92-46d1-91b3-ab0584a82dcb",
   "metadata": {},
   "outputs": [
    {
     "data": {
      "text/html": [
       "<div>\n",
       "<style scoped>\n",
       "    .dataframe tbody tr th:only-of-type {\n",
       "        vertical-align: middle;\n",
       "    }\n",
       "\n",
       "    .dataframe tbody tr th {\n",
       "        vertical-align: top;\n",
       "    }\n",
       "\n",
       "    .dataframe thead th {\n",
       "        text-align: right;\n",
       "    }\n",
       "</style>\n",
       "<table border=\"1\" class=\"dataframe\">\n",
       "  <thead>\n",
       "    <tr style=\"text-align: right;\">\n",
       "      <th></th>\n",
       "      <th>Index</th>\n",
       "      <th>id</th>\n",
       "      <th>Age</th>\n",
       "      <th>Flight Distance</th>\n",
       "      <th>Inflight wifi service</th>\n",
       "      <th>Departure/Arrival time convenient</th>\n",
       "      <th>Ease of Online booking</th>\n",
       "      <th>Gate location</th>\n",
       "      <th>Food and drink</th>\n",
       "      <th>Online boarding</th>\n",
       "      <th>Seat comfort</th>\n",
       "      <th>Inflight entertainment</th>\n",
       "      <th>On-board service</th>\n",
       "      <th>Leg room service</th>\n",
       "      <th>Baggage handling</th>\n",
       "      <th>Checkin service</th>\n",
       "      <th>Inflight service</th>\n",
       "      <th>Cleanliness</th>\n",
       "      <th>Departure Delay in Minutes</th>\n",
       "      <th>Arrival Delay in Minutes</th>\n",
       "    </tr>\n",
       "  </thead>\n",
       "  <tbody>\n",
       "    <tr>\n",
       "      <th>count</th>\n",
       "      <td>106578.000000</td>\n",
       "      <td>106578.000000</td>\n",
       "      <td>106578.000000</td>\n",
       "      <td>106578.000000</td>\n",
       "      <td>106578.000000</td>\n",
       "      <td>106578.000000</td>\n",
       "      <td>106578.000000</td>\n",
       "      <td>106578.000000</td>\n",
       "      <td>106578.000000</td>\n",
       "      <td>106578.000000</td>\n",
       "      <td>106578.000000</td>\n",
       "      <td>106578.000000</td>\n",
       "      <td>106578.000000</td>\n",
       "      <td>106578.000000</td>\n",
       "      <td>106578.000000</td>\n",
       "      <td>106578.000000</td>\n",
       "      <td>106578.000000</td>\n",
       "      <td>106578.000000</td>\n",
       "      <td>106578.000000</td>\n",
       "      <td>106578.000000</td>\n",
       "    </tr>\n",
       "    <tr>\n",
       "      <th>mean</th>\n",
       "      <td>53288.500000</td>\n",
       "      <td>64920.549100</td>\n",
       "      <td>39.395851</td>\n",
       "      <td>1190.213947</td>\n",
       "      <td>2.730245</td>\n",
       "      <td>3.059853</td>\n",
       "      <td>2.756526</td>\n",
       "      <td>2.976656</td>\n",
       "      <td>3.203710</td>\n",
       "      <td>3.250464</td>\n",
       "      <td>3.440288</td>\n",
       "      <td>3.359380</td>\n",
       "      <td>3.382377</td>\n",
       "      <td>3.351649</td>\n",
       "      <td>3.631584</td>\n",
       "      <td>3.303721</td>\n",
       "      <td>3.641793</td>\n",
       "      <td>3.287170</td>\n",
       "      <td>14.822721</td>\n",
       "      <td>15.136341</td>\n",
       "    </tr>\n",
       "    <tr>\n",
       "      <th>std</th>\n",
       "      <td>30766.562832</td>\n",
       "      <td>37469.747182</td>\n",
       "      <td>15.119683</td>\n",
       "      <td>997.240903</td>\n",
       "      <td>1.327855</td>\n",
       "      <td>1.524542</td>\n",
       "      <td>1.398713</td>\n",
       "      <td>1.277814</td>\n",
       "      <td>1.329563</td>\n",
       "      <td>1.349609</td>\n",
       "      <td>1.319377</td>\n",
       "      <td>1.332435</td>\n",
       "      <td>1.288054</td>\n",
       "      <td>1.315383</td>\n",
       "      <td>1.180355</td>\n",
       "      <td>1.265821</td>\n",
       "      <td>1.174580</td>\n",
       "      <td>1.312555</td>\n",
       "      <td>38.285540</td>\n",
       "      <td>38.678649</td>\n",
       "    </tr>\n",
       "    <tr>\n",
       "      <th>min</th>\n",
       "      <td>0.000000</td>\n",
       "      <td>1.000000</td>\n",
       "      <td>7.000000</td>\n",
       "      <td>31.000000</td>\n",
       "      <td>0.000000</td>\n",
       "      <td>0.000000</td>\n",
       "      <td>0.000000</td>\n",
       "      <td>0.000000</td>\n",
       "      <td>0.000000</td>\n",
       "      <td>0.000000</td>\n",
       "      <td>0.000000</td>\n",
       "      <td>0.000000</td>\n",
       "      <td>0.000000</td>\n",
       "      <td>0.000000</td>\n",
       "      <td>1.000000</td>\n",
       "      <td>0.000000</td>\n",
       "      <td>0.000000</td>\n",
       "      <td>0.000000</td>\n",
       "      <td>0.000000</td>\n",
       "      <td>0.000000</td>\n",
       "    </tr>\n",
       "    <tr>\n",
       "      <th>25%</th>\n",
       "      <td>26644.250000</td>\n",
       "      <td>32514.250000</td>\n",
       "      <td>27.000000</td>\n",
       "      <td>414.000000</td>\n",
       "      <td>2.000000</td>\n",
       "      <td>2.000000</td>\n",
       "      <td>2.000000</td>\n",
       "      <td>2.000000</td>\n",
       "      <td>2.000000</td>\n",
       "      <td>2.000000</td>\n",
       "      <td>2.000000</td>\n",
       "      <td>2.000000</td>\n",
       "      <td>2.000000</td>\n",
       "      <td>2.000000</td>\n",
       "      <td>3.000000</td>\n",
       "      <td>3.000000</td>\n",
       "      <td>3.000000</td>\n",
       "      <td>2.000000</td>\n",
       "      <td>0.000000</td>\n",
       "      <td>0.000000</td>\n",
       "    </tr>\n",
       "    <tr>\n",
       "      <th>50%</th>\n",
       "      <td>53288.500000</td>\n",
       "      <td>64850.500000</td>\n",
       "      <td>40.000000</td>\n",
       "      <td>844.000000</td>\n",
       "      <td>3.000000</td>\n",
       "      <td>3.000000</td>\n",
       "      <td>3.000000</td>\n",
       "      <td>3.000000</td>\n",
       "      <td>3.000000</td>\n",
       "      <td>3.000000</td>\n",
       "      <td>4.000000</td>\n",
       "      <td>4.000000</td>\n",
       "      <td>4.000000</td>\n",
       "      <td>4.000000</td>\n",
       "      <td>4.000000</td>\n",
       "      <td>3.000000</td>\n",
       "      <td>4.000000</td>\n",
       "      <td>3.000000</td>\n",
       "      <td>0.000000</td>\n",
       "      <td>0.000000</td>\n",
       "    </tr>\n",
       "    <tr>\n",
       "      <th>75%</th>\n",
       "      <td>79932.750000</td>\n",
       "      <td>97368.750000</td>\n",
       "      <td>51.000000</td>\n",
       "      <td>1744.000000</td>\n",
       "      <td>4.000000</td>\n",
       "      <td>4.000000</td>\n",
       "      <td>4.000000</td>\n",
       "      <td>4.000000</td>\n",
       "      <td>4.000000</td>\n",
       "      <td>4.000000</td>\n",
       "      <td>5.000000</td>\n",
       "      <td>4.000000</td>\n",
       "      <td>4.000000</td>\n",
       "      <td>4.000000</td>\n",
       "      <td>5.000000</td>\n",
       "      <td>4.000000</td>\n",
       "      <td>5.000000</td>\n",
       "      <td>4.000000</td>\n",
       "      <td>12.000000</td>\n",
       "      <td>13.000000</td>\n",
       "    </tr>\n",
       "    <tr>\n",
       "      <th>max</th>\n",
       "      <td>106577.000000</td>\n",
       "      <td>129880.000000</td>\n",
       "      <td>85.000000</td>\n",
       "      <td>4983.000000</td>\n",
       "      <td>5.000000</td>\n",
       "      <td>5.000000</td>\n",
       "      <td>5.000000</td>\n",
       "      <td>5.000000</td>\n",
       "      <td>5.000000</td>\n",
       "      <td>5.000000</td>\n",
       "      <td>5.000000</td>\n",
       "      <td>5.000000</td>\n",
       "      <td>5.000000</td>\n",
       "      <td>5.000000</td>\n",
       "      <td>5.000000</td>\n",
       "      <td>5.000000</td>\n",
       "      <td>5.000000</td>\n",
       "      <td>5.000000</td>\n",
       "      <td>1592.000000</td>\n",
       "      <td>1584.000000</td>\n",
       "    </tr>\n",
       "  </tbody>\n",
       "</table>\n",
       "</div>"
      ],
      "text/plain": [
       "               Index             id            Age  Flight Distance  \\\n",
       "count  106578.000000  106578.000000  106578.000000    106578.000000   \n",
       "mean    53288.500000   64920.549100      39.395851      1190.213947   \n",
       "std     30766.562832   37469.747182      15.119683       997.240903   \n",
       "min         0.000000       1.000000       7.000000        31.000000   \n",
       "25%     26644.250000   32514.250000      27.000000       414.000000   \n",
       "50%     53288.500000   64850.500000      40.000000       844.000000   \n",
       "75%     79932.750000   97368.750000      51.000000      1744.000000   \n",
       "max    106577.000000  129880.000000      85.000000      4983.000000   \n",
       "\n",
       "       Inflight wifi service  Departure/Arrival time convenient  \\\n",
       "count          106578.000000                      106578.000000   \n",
       "mean                2.730245                           3.059853   \n",
       "std                 1.327855                           1.524542   \n",
       "min                 0.000000                           0.000000   \n",
       "25%                 2.000000                           2.000000   \n",
       "50%                 3.000000                           3.000000   \n",
       "75%                 4.000000                           4.000000   \n",
       "max                 5.000000                           5.000000   \n",
       "\n",
       "       Ease of Online booking  Gate location  Food and drink  Online boarding  \\\n",
       "count           106578.000000  106578.000000   106578.000000    106578.000000   \n",
       "mean                 2.756526       2.976656        3.203710         3.250464   \n",
       "std                  1.398713       1.277814        1.329563         1.349609   \n",
       "min                  0.000000       0.000000        0.000000         0.000000   \n",
       "25%                  2.000000       2.000000        2.000000         2.000000   \n",
       "50%                  3.000000       3.000000        3.000000         3.000000   \n",
       "75%                  4.000000       4.000000        4.000000         4.000000   \n",
       "max                  5.000000       5.000000        5.000000         5.000000   \n",
       "\n",
       "        Seat comfort  Inflight entertainment  On-board service  \\\n",
       "count  106578.000000           106578.000000     106578.000000   \n",
       "mean        3.440288                3.359380          3.382377   \n",
       "std         1.319377                1.332435          1.288054   \n",
       "min         0.000000                0.000000          0.000000   \n",
       "25%         2.000000                2.000000          2.000000   \n",
       "50%         4.000000                4.000000          4.000000   \n",
       "75%         5.000000                4.000000          4.000000   \n",
       "max         5.000000                5.000000          5.000000   \n",
       "\n",
       "       Leg room service  Baggage handling  Checkin service  Inflight service  \\\n",
       "count     106578.000000     106578.000000    106578.000000     106578.000000   \n",
       "mean           3.351649          3.631584         3.303721          3.641793   \n",
       "std            1.315383          1.180355         1.265821          1.174580   \n",
       "min            0.000000          1.000000         0.000000          0.000000   \n",
       "25%            2.000000          3.000000         3.000000          3.000000   \n",
       "50%            4.000000          4.000000         3.000000          4.000000   \n",
       "75%            4.000000          5.000000         4.000000          5.000000   \n",
       "max            5.000000          5.000000         5.000000          5.000000   \n",
       "\n",
       "         Cleanliness  Departure Delay in Minutes  Arrival Delay in Minutes  \n",
       "count  106578.000000               106578.000000             106578.000000  \n",
       "mean        3.287170                   14.822721                 15.136341  \n",
       "std         1.312555                   38.285540                 38.678649  \n",
       "min         0.000000                    0.000000                  0.000000  \n",
       "25%         2.000000                    0.000000                  0.000000  \n",
       "50%         3.000000                    0.000000                  0.000000  \n",
       "75%         4.000000                   12.000000                 13.000000  \n",
       "max         5.000000                 1592.000000               1584.000000  "
      ]
     },
     "execution_count": 21,
     "metadata": {},
     "output_type": "execute_result"
    }
   ],
   "source": [
    "dataset_new.describe()"
   ]
  },
  {
   "cell_type": "code",
   "execution_count": 22,
   "id": "df3e6a19-5482-4dd0-861c-96e644e6a2ee",
   "metadata": {},
   "outputs": [
    {
     "name": "stdout",
     "output_type": "stream",
     "text": [
      "Unique values in column  Gender  :  ['Male' 'Female'] \n",
      "\n",
      "Frequency counts for column  Gender :\n",
      "{'Female': 54025, 'Male': 52553} \n",
      "\n",
      "Mode of the Gender is ['Female'] \n",
      " \n",
      "\n",
      "Unique values in column  Customer Type  :  ['Loyal Customer' 'disloyal Customer'] \n",
      "\n",
      "Frequency counts for column  Customer Type :\n",
      "{'Loyal Customer': 87107, 'disloyal Customer': 19471} \n",
      "\n",
      "Mode of the Customer Type is ['Loyal Customer'] \n",
      " \n",
      "\n",
      "Unique values in column  Age  :  [13 25 26 61 47 52 41 20 24 12 53 33 45 38  9 17 43 58 23 57 49 36 22 31\n",
      " 15 35 67 37 40 34 39 50 29 54 21 28 27 69 60 48 59 46 30 66 64 44 51 32\n",
      " 19 42 16 11 62  8 56 68 55 18 65 72 70 63 10  7 14 80 74 71 85 73 76 77\n",
      " 75 79 78] \n",
      "\n",
      "Frequency counts for column  Age :\n",
      "{39: 3045, 25: 2874, 40: 2643, 44: 2550, 41: 2521, 42: 2518, 22: 2403, 45: 2400, 23: 2397, 38: 2386, 47: 2380, 43: 2379, 37: 2367, 36: 2366, 48: 2362, 24: 2342, 26: 2339, 49: 2286, 46: 2280, 27: 2253, 51: 2155, 50: 2137, 52: 2111, 30: 2075, 29: 1979, 35: 1967, 53: 1953, 55: 1923, 54: 1916, 56: 1906, 33: 1897, 57: 1890, 58: 1815, 59: 1798, 34: 1793, 60: 1792, 28: 1753, 31: 1647, 32: 1606, 20: 1561, 21: 1548, 17: 1007, 18: 1007, 61: 935, 19: 930, 16: 923, 62: 872, 15: 841, 63: 782, 65: 764, 64: 737, 14: 721, 9: 705, 10: 697, 66: 695, 11: 689, 67: 681, 68: 663, 69: 661, 8: 658, 13: 651, 12: 648, 70: 634, 7: 578, 72: 210, 71: 96, 77: 90, 80: 84, 75: 62, 73: 53, 74: 49, 76: 46, 79: 44, 78: 35, 85: 17} \n",
      "\n",
      "Mode of the Age is [39] \n",
      " \n",
      "\n",
      "Unique values in column  Type of Travel  :  ['Personal Travel' 'Business travel'] \n",
      "\n",
      "Frequency counts for column  Type of Travel :\n",
      "{'Business travel': 73530, 'Personal Travel': 33048} \n",
      "\n",
      "Mode of the Type of Travel is ['Business travel'] \n",
      " \n",
      "\n",
      "Unique values in column  Class  :  ['Eco Plus' 'Business' 'Eco'] \n",
      "\n",
      "Frequency counts for column  Class :\n",
      "{'Business': 50954, 'Eco': 47921, 'Eco Plus': 7703} \n",
      "\n",
      "Mode of the Class is ['Business'] \n",
      " \n",
      "\n",
      "Unique values in column  Flight Distance  :  [ 460  235 1142 ...  400 1253 1395] \n",
      "\n",
      "Frequency counts for column  Flight Distance :\n",
      "{337: 672, 594: 405, 404: 402, 2475: 389, 862: 374, 447: 369, 236: 358, 308: 345, 192: 345, 399: 340, 214: 324, 101: 318, 190: 318, 328: 315, 925: 312, 370: 310, 109: 306, 391: 305, 373: 300, 867: 286, 296: 283, 304: 281, 1744: 277, 528: 276, 762: 273, 280: 272, 2586: 269, 802: 263, 507: 262, 163: 262, 689: 262, 406: 256, 1235: 255, 679: 251, 641: 250, 226: 248, 589: 243, 224: 242, 102: 242, 432: 242, 247: 239, 237: 238, 937: 237, 550: 236, 409: 235, 1846: 234, 954: 234, 216: 233, 733: 231, 628: 230, 134: 230, 577: 230, 861: 228, 255: 227, 414: 224, 239: 223, 1121: 221, 201: 221, 599: 219, 448: 217, 588: 216, 602: 215, 581: 215, 325: 214, 1009: 213, 946: 212, 936: 212, 223: 210, 1464: 206, 425: 206, 369: 204, 666: 200, 612: 199, 590: 197, 1024: 197, 551: 197, 888: 195, 680: 193, 2454: 193, 1440: 193, 1416: 192, 546: 192, 488: 191, 1005: 191, 853: 191, 834: 191, 859: 189, 227: 189, 1096: 186, 651: 185, 429: 184, 89: 181, 1020: 181, 967: 181, 468: 181, 125: 180, 646: 179, 270: 178, 1069: 177, 2556: 177, 1947: 177, 1598: 176, 631: 175, 547: 174, 541: 173, 200: 173, 451: 172, 731: 172, 228: 171, 692: 171, 187: 171, 991: 170, 356: 169, 315: 169, 258: 169, 719: 169, 395: 168, 500: 167, 2342: 166, 544: 166, 347: 166, 1587: 166, 944: 165, 569: 164, 846: 162, 562: 162, 516: 161, 416: 161, 813: 161, 986: 160, 1389: 159, 302: 159, 209: 158, 746: 157, 1521: 157, 787: 157, 460: 156, 919: 156, 86: 156, 250: 154, 515: 153, 533: 153, 1076: 150, 436: 150, 696: 150, 1050: 150, 453: 148, 522: 148, 331: 148, 349: 147, 405: 147, 342: 147, 368: 146, 907: 146, 1747: 145, 259: 144, 1197: 144, 372: 143, 240: 143, 235: 143, 591: 143, 366: 142, 157: 142, 1379: 141, 502: 141, 868: 141, 1448: 140, 402: 140, 338: 138, 481: 136, 2288: 136, 1590: 135, 160: 134, 427: 134, 351: 134, 261: 134, 761: 134, 1303: 133, 1107: 133, 189: 133, 419: 132, 534: 132, 1620: 132, 563: 132, 748: 132, 545: 132, 413: 131, 759: 131, 140: 131, 479: 131, 912: 129, 67: 129, 895: 129, 472: 129, 305: 129, 587: 128, 674: 128, 397: 128, 964: 126, 1721: 126, 164: 126, 283: 126, 483: 125, 957: 125, 446: 124, 1773: 123, 1013: 123, 2565: 123, 248: 123, 196: 122, 669: 122, 2402: 122, 484: 122, 1400: 122, 1670: 121, 874: 120, 184: 119, 251: 119, 650: 119, 583: 118, 332: 118, 2704: 118, 130: 118, 1276: 118, 1514: 117, 271: 117, 1504: 116, 175: 116, 667: 116, 334: 115, 462: 115, 363: 115, 438: 115, 606: 115, 529: 115, 872: 114, 377: 114, 728: 114, 173: 113, 2139: 113, 158: 113, 383: 113, 526: 113, 2248: 113, 266: 112, 2521: 112, 1182: 112, 2419: 111, 950: 111, 1562: 111, 431: 110, 361: 110, 1635: 109, 489: 109, 985: 109, 1671: 109, 282: 108, 449: 108, 842: 108, 1979: 108, 2075: 108, 408: 107, 920: 107, 1199: 107, 265: 107, 354: 107, 421: 106, 495: 106, 300: 106, 262: 106, 1546: 106, 213: 106, 143: 106, 2486: 105, 480: 105, 632: 104, 605: 104, 647: 104, 229: 104, 997: 104, 622: 103, 2611: 103, 677: 103, 1189: 102, 1660: 102, 153: 102, 678: 102, 321: 102, 584: 101, 277: 101, 2133: 101, 965: 101, 147: 100, 1089: 99, 501: 99, 1723: 98, 106: 98, 199: 98, 306: 98, 1065: 98, 323: 98, 417: 98, 403: 97, 781: 97, 630: 97, 386: 97, 1892: 97, 1609: 97, 1372: 97, 978: 96, 253: 96, 1046: 95, 197: 95, 319: 95, 1576: 95, 212: 94, 1605: 94, 110: 94, 1075: 93, 817: 92, 604: 91, 1452: 91, 299: 91, 290: 91, 621: 90, 362: 90, 1874: 90, 645: 90, 1072: 90, 119: 89, 990: 89, 1237: 89, 972: 89, 191: 89, 491: 88, 358: 88, 989: 88, 585: 88, 1249: 88, 493: 88, 129: 88, 909: 87, 301: 87, 829: 87, 456: 87, 1119: 87, 371: 87, 763: 87, 177: 86, 359: 86, 852: 85, 1192: 85, 738: 85, 1399: 85, 268: 85, 345: 85, 1444: 84, 1506: 84, 204: 84, 444: 84, 2125: 83, 1222: 83, 1428: 83, 273: 83, 1068: 82, 896: 82, 1726: 82, 1055: 82, 725: 82, 341: 81, 1023: 81, 2153: 81, 1014: 81, 1085: 81, 760: 81, 639: 80, 1558: 80, 473: 80, 1608: 80, 293: 80, 309: 80, 1262: 80, 992: 79, 883: 79, 297: 79, 580: 79, 1990: 79, 231: 79, 1010: 79, 948: 79, 554: 79, 1797: 79, 1208: 79, 312: 79, 1056: 79, 737: 79, 2182: 79, 1754: 78, 600: 78, 1258: 78, 980: 78, 333: 78, 821: 78, 335: 78, 152: 78, 1035: 77, 2176: 77, 1045: 77, 272: 77, 503: 77, 542: 76, 1205: 76, 721: 76, 116: 76, 1547: 75, 316: 75, 508: 75, 151: 75, 1242: 74, 1739: 74, 1171: 74, 624: 74, 844: 74, 643: 73, 2218: 73, 794: 73, 458: 73, 697: 73, 764: 73, 1390: 72, 2422: 72, 1597: 72, 854: 72, 1476: 72, 326: 72, 1034: 72, 899: 71, 812: 71, 1325: 71, 1188: 71, 814: 71, 837: 71, 770: 70, 327: 70, 1814: 70, 156: 70, 2296: 70, 423: 70, 257: 70, 222: 70, 1028: 69, 374: 69, 181: 69, 188: 69, 1535: 69, 552: 69, 387: 69, 1310: 69, 463: 69, 931: 69, 620: 68, 775: 68, 442: 68, 2446: 67, 1481: 67, 926: 67, 929: 67, 1195: 67, 642: 66, 1616: 66, 2300: 65, 1012: 65, 1127: 65, 364: 65, 289: 65, 329: 65, 1091: 64, 1709: 64, 1062: 64, 317: 64, 611: 64, 1491: 64, 230: 64, 287: 64, 496: 64, 1190: 63, 849: 63, 649: 63, 1999: 63, 1488: 63, 295: 63, 1972: 63, 557: 62, 407: 62, 601: 62, 675: 62, 1346: 62, 1750: 61, 73: 61, 2504: 61, 238: 61, 1084: 61, 2172: 61, 1211: 60, 139: 60, 365: 60, 1703: 60, 2399: 60, 695: 60, 1123: 60, 930: 60, 1120: 60, 1044: 60, 575: 59, 819: 59, 671: 59, 1589: 59, 1749: 59, 1849: 59, 174: 59, 393: 59, 1337: 59, 135: 58, 700: 58, 170: 58, 1041: 58, 486: 58, 113: 58, 1183: 58, 634: 58, 672: 57, 390: 57, 2677: 57, 1927: 57, 452: 57, 241: 57, 2106: 57, 758: 57, 2496: 56, 1299: 56, 1460: 56, 376: 56, 2174: 56, 2079: 56, 1438: 56, 1916: 56, 1105: 56, 607: 55, 836: 55, 712: 55, 2583: 55, 1011: 55, 715: 55, 459: 55, 543: 55, 2253: 54, 441: 54, 352: 54, 475: 53, 626: 53, 1250: 53, 2640: 53, 1136: 52, 1061: 52, 1042: 52, 1047: 52, 711: 52, 469: 52, 1017: 52, 430: 52, 288: 51, 2227: 51, 1592: 51, 2329: 51, 1431: 51, 558: 51, 1674: 51, 1788: 51, 592: 51, 693: 51, 772: 50, 1145: 50, 1172: 50, 771: 50, 1124: 50, 108: 50, 1733: 50, 1037: 50, 838: 49, 1074: 49, 220: 49, 1728: 49, 1167: 49, 455: 49, 783: 49, 1371: 49, 2585: 49, 833: 49, 1086: 49, 993: 49, 780: 49, 401: 49, 644: 48, 1532: 47, 694: 47, 735: 47, 570: 47, 707: 47, 723: 46, 1092: 46, 1117: 46, 773: 46, 683: 46, 1180: 46, 788: 46, 977: 45, 1008: 45, 2306: 45, 983: 45, 1919: 45, 517: 45, 2370: 45, 616: 45, 307: 45, 691: 45, 532: 45, 357: 45, 2614: 45, 2072: 45, 1080: 45, 951: 45, 744: 44, 956: 44, 1471: 44, 1144: 44, 596: 44, 264: 44, 1426: 44, 913: 44, 657: 43, 1204: 43, 1522: 43, 471: 43, 603: 43, 882: 43, 95: 43, 1201: 42, 1111: 42, 77: 42, 782: 42, 2279: 42, 2065: 42, 668: 42, 1185: 42, 1727: 41, 627: 41, 1158: 41, 618: 41, 2295: 41, 127: 41, 2917: 41, 1334: 41, 221: 40, 2434: 40, 1524: 40, 2442: 40, 903: 40, 987: 40, 998: 40, 2165: 40, 1956: 40, 571: 40, 1542: 40, 808: 39, 850: 39, 457: 39, 281: 39, 83: 39, 166: 39, 284: 39, 2378: 39, 461: 39, 531: 39, 1269: 39, 804: 39, 150: 39, 984: 39, 685: 39, 843: 39, 1995: 39, 2425: 39, 1500: 39, 3784: 38, 466: 38, 597: 38, 2077: 38, 285: 38, 809: 38, 1066: 38, 1306: 38, 994: 38, 1048: 38, 539: 38, 1751: 38, 776: 38, 566: 38, 84: 37, 1102: 37, 234: 37, 828: 37, 2762: 37, 1090: 37, 710: 37, 2615: 37, 670: 37, 1166: 37, 521: 37, 303: 37, 1900: 37, 145: 37, 1825: 37, 1021: 37, 1475: 36, 159: 36, 2588: 36, 945: 36, 1771: 36, 687: 36, 440: 36, 1844: 36, 1129: 36, 205: 36, 825: 36, 873: 36, 752: 36, 749: 36, 1217: 36, 785: 35, 1407: 35, 1499: 35, 2845: 35, 1142: 35, 411: 35, 346: 35, 633: 34, 353: 34, 120: 34, 1482: 34, 530: 34, 2338: 34, 422: 34, 820: 34, 549: 34, 162: 34, 1931: 34, 313: 34, 2092: 34, 1126: 34, 806: 34, 420: 34, 141: 34, 1533: 34, 765: 34, 311: 33, 148: 33, 1073: 33, 845: 33, 2136: 33, 1607: 33, 927: 33, 482: 33, 1290: 33, 1487: 33, 2381: 33, 2311: 33, 757: 33, 655: 33, 179: 33, 476: 33, 1411: 33, 789: 33, 1052: 32, 2465: 32, 2554: 32, 2239: 32, 548: 32, 717: 32, 137: 32, 999: 32, 1173: 32, 1139: 32, 869: 32, 1097: 32, 971: 32, 1855: 31, 122: 31, 1618: 31, 866: 31, 314: 31, 2367: 31, 208: 31, 918: 31, 2552: 30, 524: 30, 871: 30, 2409: 30, 2039: 30, 718: 30, 74: 30, 1565: 30, 835: 30, 2603: 30, 1865: 30, 610: 30, 525: 30, 1162: 30, 78: 30, 663: 29, 1501: 29, 2355: 29, 864: 29, 509: 29, 784: 29, 811: 29, 795: 29, 1737: 29, 826: 29, 2607: 29, 1134: 29, 767: 28, 1642: 28, 210: 28, 433: 28, 576: 28, 726: 28, 1449: 28, 979: 28, 1984: 28, 1165: 28, 294: 28, 292: 27, 2173: 27, 908: 27, 246: 27, 1437: 27, 595: 27, 682: 27, 1363: 27, 640: 27, 396: 27, 637: 27, 1313: 27, 2519: 27, 1986: 27, 1164: 27, 1626: 27, 793: 26, 207: 26, 579: 26, 1246: 26, 684: 26, 822: 26, 1133: 26, 1517: 26, 2562: 26, 96: 26, 510: 26, 1851: 26, 1099: 26, 928: 26, 756: 26, 474: 26, 690: 26, 1036: 25, 1541: 25, 3904: 25, 722: 25, 1652: 25, 1619: 25, 921: 25, 2447: 25, 1067: 25, 343: 25, 1617: 25, 2537: 25, 2688: 25, 565: 24, 1216: 24, 260: 24, 933: 24, 1147: 24, 578: 24, 1824: 24, 1149: 24, 2052: 24, 169: 24, 708: 24, 1746: 24, 355: 24, 1735: 24, 519: 24, 1706: 24, 2400: 24, 511: 24, 922: 24, 911: 24, 1187: 24, 2276: 23, 1810: 23, 598: 23, 2358: 23, 1194: 23, 1118: 23, 860: 23, 118: 23, 114: 23, 751: 23, 1666: 23, 2405: 23, 3711: 23, 2717: 23, 1345: 23, 564: 23, 445: 23, 2237: 23, 1087: 23, 1404: 23, 1053: 23, 1725: 23, 1585: 23, 1259: 23, 803: 23, 900: 23, 2105: 23, 435: 22, 740: 22, 1357: 22, 1214: 22, 1943: 22, 777: 22, 2860: 22, 183: 22, 536: 22, 198: 22, 2349: 22, 1027: 22, 1624: 22, 2149: 22, 1826: 22, 1829: 21, 561: 21, 1218: 21, 2457: 21, 1342: 21, 2404: 21, 1911: 21, 799: 21, 100: 21, 2026: 21, 1025: 21, 320: 21, 2330: 21, 1774: 21, 629: 21, 574: 20, 2994: 20, 3612: 20, 2541: 20, 1015: 20, 1569: 20, 1724: 19, 252: 19, 1368: 19, 805: 19, 636: 19, 2935: 19, 1497: 19, 1212: 19, 3302: 19, 1910: 19, 2257: 19, 2116: 19, 1912: 19, 996: 19, 2777: 19, 1516: 19, 1131: 19, 2701: 19, 714: 19, 816: 19, 1174: 19, 910: 19, 3169: 18, 704: 18, 892: 18, 3874: 18, 1823: 18, 1033: 18, 3365: 18, 2724: 18, 1770: 18, 975: 18, 2327: 18, 90: 18, 1778: 18, 121: 18, 3497: 18, 916: 18, 1756: 18, 1355: 18, 1698: 18, 3801: 18, 2161: 18, 1678: 18, 879: 18, 966: 18, 1694: 18, 4243: 18, 144: 18, 1016: 17, 745: 17, 934: 17, 942: 17, 894: 17, 1582: 17, 128: 17, 1340: 17, 2007: 17, 1838: 17, 1843: 17, 1572: 17, 2576: 17, 743: 17, 2466: 17, 2714: 17, 412: 17, 1599: 17, 1224: 17, 194: 17, 2036: 16, 384: 16, 107: 16, 537: 16, 2350: 16, 3391: 16, 848: 16, 779: 16, 705: 16, 3824: 16, 3724: 16, 2569: 16, 1809: 16, 185: 16, 3037: 16, 1450: 16, 2131: 16, 2480: 16, 676: 16, 857: 16, 1790: 16, 2089: 16, 2391: 16, 1888: 16, 467: 16, 727: 16, 3732: 16, 1781: 16, 3850: 16, 1154: 16, 878: 16, 1282: 16, 1430: 16, 2740: 16, 2334: 16, 279: 15, 3979: 15, 1548: 15, 792: 15, 450: 15, 3346: 15, 901: 15, 1998: 15, 3183: 15, 233: 15, 3634: 15, 1663: 15, 701: 15, 1699: 15, 2031: 15, 2979: 15, 3130: 15, 3805: 15, 617: 15, 1081: 15, 2684: 15, 3879: 15, 3252: 15, 1766: 15, 2435: 15, 3455: 15, 1179: 15, 3714: 15, 3528: 15, 2542: 15, 3477: 15, 3919: 15, 2187: 15, 1741: 15, 955: 15, 2773: 15, 3829: 15, 2747: 15, 3601: 15, 3644: 15, 2158: 15, 1300: 15, 3892: 15, 2708: 15, 1679: 15, 1713: 15, 1905: 15, 3234: 15, 1969: 15, 2865: 15, 2304: 15, 2277: 15, 1256: 15, 2042: 14, 2577: 14, 1157: 14, 3987: 14, 661: 14, 298: 14, 3652: 14, 1064: 14, 182: 14, 851: 14, 2233: 14, 3392: 14, 2574: 14, 523: 14, 1768: 14, 340: 14, 3226: 14, 3301: 14, 898: 14, 1975: 14, 193: 14, 3200: 14, 2297: 14, 3389: 14, 1184: 14, 1845: 14, 3465: 14, 1384: 14, 3581: 14, 2610: 14, 2506: 14, 609: 14, 3179: 14, 3613: 14, 2681: 14, 3473: 14, 2053: 14, 3700: 14, 2254: 14, 1312: 14, 3790: 14, 2738: 14, 1391: 14, 3282: 14, 3240: 14, 1722: 14, 2835: 14, 2205: 14, 2212: 14, 2407: 14, 3325: 14, 2531: 14, 2374: 14, 2938: 14, 1937: 14, 2363: 14, 3857: 14, 1917: 14, 1496: 14, 3038: 14, 2266: 14, 1710: 14, 1436: 14, 2602: 14, 2377: 14, 2134: 14, 3018: 14, 2063: 14, 3942: 14, 3766: 13, 3660: 13, 2999: 13, 2282: 13, 3380: 13, 202: 13, 1304: 13, 1717: 13, 2154: 13, 3474: 13, 2772: 13, 2449: 13, 3003: 13, 1827: 13, 2408: 13, 2235: 13, 3293: 13, 1315: 13, 2808: 13, 665: 13, 3810: 13, 2715: 13, 1896: 13, 3090: 13, 410: 13, 3926: 13, 3322: 13, 3457: 13, 2049: 13, 3094: 13, 3131: 13, 3101: 13, 1961: 13, 3616: 13, 2078: 13, 2041: 13, 3720: 13, 2950: 13, 2045: 13, 2590: 13, 1796: 13, 2992: 13, 3851: 13, 3256: 13, 3377: 13, 3640: 13, 2916: 13, 322: 13, 3955: 13, 2798: 13, 1968: 13, 1930: 13, 2191: 13, 1701: 13, 1226: 13, 490: 13, 2965: 13, 3337: 13, 2129: 13, 2500: 13, 2627: 13, 2899: 13, 3785: 13, 115: 13, 1842: 13, 1939: 13, 3635: 13, 2815: 13, 3309: 13, 1555: 13, 3447: 13, 3598: 13, 3774: 13, 2369: 13, 378: 13, 3534: 13, 1700: 13, 1763: 13, 3993: 13, 3277: 13, 1834: 13, 1130: 13, 1897: 13, 3967: 13, 382: 13, 2527: 13, 3247: 13, 2829: 13, 1544: 13, 3466: 13, 2654: 13, 573: 13, 3162: 13, 2230: 13, 2863: 13, 3666: 13, 2000: 13, 4963: 13, 2728: 13, 1634: 13, 2432: 13, 3093: 13, 1672: 13, 2236: 13, 2867: 13, 2441: 13, 464: 13, 3764: 13, 2043: 13, 3733: 13, 2366: 13, 2455: 13, 3875: 13, 3178: 13, 3719: 13, 3133: 12, 2650: 12, 3637: 12, 3338: 12, 3558: 12, 2444: 12, 1780: 12, 3080: 12, 2951: 12, 3137: 12, 3736: 12, 3583: 12, 1628: 12, 3845: 12, 2699: 12, 3157: 12, 3415: 12, 3907: 12, 1784: 12, 3653: 12, 3849: 12, 2579: 12, 2944: 12, 3868: 12, 2689: 12, 1646: 12, 2753: 12, 1560: 12, 1525: 12, 512: 12, 2162: 12, 3314: 12, 2461: 12, 3980: 12, 3173: 12, 2401: 12, 1970: 12, 1566: 12, 3656: 12, 2029: 12, 1729: 12, 3540: 12, 310: 12, 3207: 12, 2645: 12, 3758: 12, 350: 12, 426: 12, 786: 12, 2275: 12, 3789: 12, 2613: 12, 3492: 12, 2018: 12, 2421: 12, 3228: 12, 254: 12, 3537: 12, 3431: 12, 1695: 12, 3230: 12, 3531: 12, 3399: 12, 1992: 12, 2633: 12, 1554: 12, 2907: 12, 2620: 12, 3182: 12, 3206: 12, 2142: 12, 2068: 12, 3923: 12, 2651: 12, 818: 12, 1973: 12, 3259: 12, 1578: 12, 3281: 12, 3382: 12, 2976: 12, 1832: 12, 3499: 12, 3361: 12, 3033: 12, 1215: 12, 2734: 12, 2644: 12, 2215: 12, 3326: 12, 2448: 12, 3405: 12, 2813: 12, 2721: 12, 2787: 12, 2960: 12, 3117: 12, 3222: 12, 1007: 12, 1538: 12, 1960: 12, 2417: 12, 1606: 12, 1447: 12, 2303: 12, 1079: 12, 3341: 12, 2055: 12, 3147: 12, 2353: 12, 3768: 12, 3145: 12, 1530: 12, 3931: 12, 2788: 12, 3004: 12, 1983: 12, 2243: 12, 3159: 12, 1543: 12, 2861: 12, 1564: 12, 1621: 12, 3036: 12, 1835: 12, 2551: 12, 1953: 12, 3376: 12, 1895: 12, 2799: 12, 2202: 12, 3636: 12, 1798: 12, 3743: 12, 2388: 12, 3889: 12, 3755: 12, 2895: 12, 2903: 12, 3587: 12, 3848: 12, 2392: 12, 1549: 12, 1819: 12, 3175: 12, 2013: 12, 1685: 12, 2748: 12, 1503: 12, 4983: 12, 3709: 12, 3665: 12, 3529: 12, 2930: 12, 3657: 12, 3306: 12, 3081: 12, 2270: 12, 2267: 12, 3472: 12, 3136: 12, 1220: 12, 889: 12, 2163: 12, 1885: 11, 3974: 11, 1873: 11, 2919: 11, 2836: 11, 2978: 11, 2694: 11, 2251: 11, 2372: 11, 2084: 11, 3463: 11, 2600: 11, 3493: 11, 3536: 11, 3324: 11, 2783: 11, 2249: 11, 2030: 11, 3854: 11, 3535: 11, 3752: 11, 2328: 11, 3983: 11, 1000: 11, 1677: 11, 3407: 11, 2811: 11, 3403: 11, 3982: 11, 3778: 11, 1636: 11, 3541: 11, 1904: 11, 2429: 11, 2503: 11, 2260: 11, 3965: 11, 1812: 11, 3482: 11, 2291: 11, 1803: 11, 2436: 11, 3048: 11, 3553: 11, 195: 11, 3767: 11, 1964: 11, 2307: 11, 1689: 11, 3043: 11, 3795: 11, 126: 11, 3331: 11, 2146: 11, 2390: 11, 2667: 11, 2159: 11, 3375: 11, 840: 11, 3103: 11, 3488: 11, 2529: 11, 2814: 11, 1967: 11, 2934: 11, 3591: 11, 2984: 11, 3611: 11, 4000: 11, 3930: 11, 2632: 11, 3826: 11, 1758: 11, 1902: 11, 2198: 11, 1463: 11, 1907: 11, 3740: 11, 3873: 11, 3059: 11, 1688: 11, 3694: 11, 959: 11, 2940: 11, 1731: 11, 1884: 11, 2889: 11, 615: 11, 1920: 11, 3809: 11, 2790: 11, 3859: 11, 2751: 11, 2871: 11, 2271: 11, 3580: 11, 3416: 11, 3913: 11, 1633: 11, 2572: 11, 1591: 11, 2657: 11, 1889: 11, 2472: 11, 2853: 11, 2859: 11, 3648: 11, 3095: 11, 3107: 11, 3065: 11, 2384: 11, 2274: 11, 1833: 11, 3607: 11, 1489: 11, 961: 11, 2103: 11, 2676: 11, 2730: 11, 2904: 11, 1752: 11, 3360: 11, 2086: 11, 3922: 11, 2560: 11, 3559: 11, 3414: 11, 3836: 11, 3689: 11, 2741: 11, 1794: 11, 2520: 11, 2597: 11, 1914: 11, 2263: 11, 3895: 11, 3639: 11, 2204: 11, 1638: 11, 1454: 11, 2489: 11, 2040: 11, 2035: 11, 2638: 11, 3034: 11, 1867: 11, 1586: 11, 2530: 11, 2283: 11, 1529: 11, 3132: 11, 2483: 11, 2513: 11, 1697: 11, 3716: 11, 3163: 11, 2536: 11, 1871: 11, 244: 11, 3433: 11, 1971: 11, 3470: 11, 1138: 11, 388: 11, 2802: 11, 1966: 11, 2532: 11, 1859: 11, 935: 11, 1951: 11, 3664: 11, 1622: 11, 1175: 11, 2246: 11, 3631: 11, 3890: 11, 2800: 11, 3294: 11, 3335: 11, 1734: 11, 2387: 11, 1759: 11, 2573: 11, 3771: 11, 2942: 11, 2004: 11, 3675: 11, 2046: 11, 3150: 11, 2047: 11, 2214: 11, 797: 11, 3227: 11, 2746: 11, 3087: 11, 1026: 11, 1987: 11, 2923: 11, 3962: 10, 3712: 10, 3425: 10, 3170: 10, 3402: 10, 3579: 10, 2308: 10, 2928: 10, 3533: 10, 4502: 10, 2725: 10, 505: 10, 1711: 10, 2664: 10, 2502: 10, 2241: 10, 1032: 10, 3837: 10, 2553: 10, 2690: 10, 2113: 10, 2292: 10, 2440: 10, 1782: 10, 2539: 10, 3142: 10, 2286: 10, 1959: 10, 1944: 10, 3262: 10, 278: 10, 2630: 10, 3997: 10, 3576: 10, 1614: 10, 2080: 10, 769: 10, 2902: 10, 3318: 10, 3498: 10, 1545: 10, 3011: 10, 1639: 10, 3496: 10, 3765: 10, 2943: 10, 3777: 10, 2567: 10, 952: 10, 3418: 10, 2360: 10, 3833: 10, 1712: 10, 3386: 10, 1630: 10, 1816: 10, 1875: 10, 2048: 10, 2582: 10, 3236: 10, 2264: 10, 1613: 10, 3428: 10, 3490: 10, 2901: 10, 2963: 10, 2410: 10, 3424: 10, 2321: 10, 3144: 10, 3991: 10, 3005: 10, 1988: 10, 750: 10, 3799: 10, 798: 10, 2884: 10, 3690: 10, 3936: 10, 3187: 10, 3744: 10, 2411: 10, 2462: 10, 3231: 10, 2563: 10, 3484: 10, 3369: 10, 3185: 10, 2333: 10, 3871: 10, 3885: 10, 2652: 10, 1882: 10, 1742: 10, 3937: 10, 2948: 10, 3586: 10, 3677: 10, 3216: 10, 2969: 10, 2975: 10, 1575: 10, 2117: 10, 2178: 10, 3444: 10, 1732: 10, 3592: 10, 2438: 10, 2033: 10, 3906: 10, 3556: 10, 3149: 10, 3513: 10, 2637: 10, 2256: 10, 3423: 10, 1922: 10, 2104: 10, 3471: 10, 1507: 10, 1236: 10, 1886: 10, 1924: 10, 3843: 10, 2123: 10, 2596: 10, 269: 10, 2067: 10, 3835: 10, 2661: 10, 3604: 10, 2801: 10, 3273: 10, 3085: 10, 2143: 10, 3422: 10, 3959: 10, 3437: 10, 2433: 10, 2195: 10, 3075: 10, 2957: 10, 1563: 10, 3697: 10, 3270: 10, 3053: 10, 2722: 10, 774: 10, 2589: 10, 2356: 10, 1813: 10, 3218: 10, 1820: 10, 2716: 10, 3800: 10, 1757: 10, 2858: 10, 2927: 10, 1923: 10, 1675: 10, 2203: 10, 2625: 10, 3135: 10, 2736: 10, 2945: 10, 3925: 10, 1536: 10, 801: 10, 2009: 10, 2720: 10, 2010: 10, 2232: 10, 1949: 10, 3194: 10, 1595: 10, 2071: 10, 2323: 10, 3703: 10, 3491: 10, 2238: 10, 1860: 10, 3024: 10, 2846: 10, 123: 10, 3651: 10, 2002: 10, 567: 10, 1811: 10, 3381: 10, 2252: 10, 3989: 10, 2346: 10, 1640: 10, 2193: 10, 2528: 10, 3888: 10, 2437: 10, 3510: 10, 2240: 10, 841: 10, 2467: 10, 2501: 10, 2898: 10, 2875: 10, 3257: 10, 1362: 10, 3454: 10, 2347: 10, 3808: 10, 2672: 10, 1940: 10, 2908: 10, 1718: 10, 3068: 10, 2023: 10, 2427: 10, 1997: 10, 2710: 10, 2265: 10, 2456: 10, 3235: 10, 2900: 10, 2497: 10, 3578: 10, 3947: 10, 133: 10, 3945: 10, 2818: 10, 3267: 10, 3358: 10, 2820: 10, 3464: 10, 2222: 10, 3286: 10, 2595: 10, 3753: 10, 1891: 10, 3681: 10, 3208: 10, 3025: 10, 1908: 10, 1039: 10, 1918: 10, 2890: 10, 3449: 10, 1802: 10, 2949: 10, 1898: 10, 2038: 10, 3949: 10, 2864: 10, 2712: 10, 2118: 10, 2946: 10, 2076: 10, 3567: 10, 2397: 10, 434: 10, 2874: 9, 3332: 9, 3973: 9, 2150: 9, 2196: 9, 2164: 9, 1518: 9, 2718: 9, 2817: 9, 1945: 9, 1738: 9, 1667: 9, 3184: 9, 3221: 9, 3683: 9, 3052: 9, 2206: 9, 3538: 9, 2340: 9, 3610: 9, 3975: 9, 31: 9, 3114: 9, 2336: 9, 3217: 9, 3883: 9, 3076: 9, 2185: 9, 2897: 9, 3685: 9, 3480: 9, 2739: 9, 2014: 9, 3823: 9, 2100: 9, 2642: 9, 1903: 9, 3212: 9, 2024: 9, 2221: 9, 3141: 9, 3605: 9, 1708: 9, 1510: 9, 2121: 9, 2807: 9, 2337: 9, 2175: 9, 2290: 9, 3092: 9, 2310: 9, 3918: 9, 3166: 9, 1853: 9, 2727: 9, 3441: 9, 1537: 9, 2090: 9, 3001: 9, 1294: 9, 3902: 9, 3307: 9, 3954: 9, 2093: 9, 2550: 9, 3624: 9, 2713: 9, 2199: 9, 3121: 9, 2111: 9, 2558: 9, 1977: 9, 2793: 9, 3560: 9, 2922: 9, 1588: 9, 3710: 9, 2849: 9, 1352: 9, 3696: 9, 2244: 9, 2091: 9, 2120: 9, 3780: 9, 3509: 9, 2229: 9, 3070: 9, 2687: 9, 3287: 9, 344: 9, 1691: 9, 3164: 9, 3858: 9, 2115: 9, 1958: 9, 2628: 9, 3887: 9, 3731: 9, 2561: 9, 1696: 9, 3984: 9, 2140: 9, 1982: 9, 2668: 9, 3050: 9, 2135: 9, 3158: 9, 2389: 9, 2765: 9, 3728: 9, 3759: 9, 3525: 9, 2771: 9, 3802: 9, 3629: 9, 3861: 9, 1135: 9, 3177: 9, 2354: 9, 3897: 9, 2322: 9, 2629: 9, 2272: 9, 970: 9, 2643: 9, 2099: 9, 1650: 9, 3129: 9, 3061: 9, 2064: 9, 2210: 9, 171: 9, 2396: 9, 1203: 9, 3828: 9, 3948: 9, 2580: 9, 2166: 9, 1654: 9, 3772: 9, 2474: 9, 2768: 9, 3489: 9, 3532: 9, 2847: 9, 1991: 9, 2141: 9, 2809: 9, 2873: 9, 3866: 9, 3734: 9, 1936: 9, 3621: 9, 2156: 9, 1631: 9, 2398: 9, 2544: 9, 1965: 9, 2357: 9, 3517: 9, 3877: 9, 3078: 9, 1511: 9, 2631: 9, 3007: 9, 1818: 9, 2653: 9, 2868: 9, 2110: 9, 3404: 9, 1793: 9, 2970: 9, 1658: 9, 2882: 9, 2795: 9, 1805: 9, 2778: 9, 3815: 9, 3998: 9, 168: 9, 2920: 9, 968: 9, 3939: 9, 3846: 9, 3354: 9, 3818: 9, 2797: 9, 3204: 9, 2015: 9, 2130: 9, 3893: 9, 3088: 9, 3000: 9, 1553: 9, 3232: 9, 2473: 9, 3680: 9, 3750: 9, 3155: 9, 2207: 9, 3847: 9, 3363: 9, 1581: 9, 2189: 9, 3876: 9, 3783: 9, 1649: 9, 3040: 9, 1559: 9, 2351: 9, 3475: 9, 3481: 9, 3334: 9, 3249: 9, 3898: 9, 2034: 9, 720: 9, 3518: 9, 3958: 9, 2380: 9, 2956: 9, 3761: 9, 3292: 9, 2749: 9, 1523: 9, 3596: 9, 3284: 9, 2763: 9, 1801: 9, 3516: 9, 1502: 9, 2987: 9, 3749: 9, 3108: 9, 3544: 9, 1539: 9, 2608: 9, 3770: 9, 1629: 9, 2269: 9, 3832: 9, 3255: 9, 2623: 9, 3699: 9, 3602: 9, 3264: 9, 2505: 9, 3521: 9, 1933: 9, 3946: 9, 2468: 9, 2685: 9, 2522: 9, 2842: 9, 2201: 9, 2499: 9, 2634: 9, 2909: 9, 2891: 9, 2343: 9, 2225: 9, 2691: 9, 1610: 9, 3161: 9, 1645: 9, 3201: 9, 1760: 9, 2851: 9, 2981: 9, 1643: 9, 3679: 9, 3886: 9, 2887: 9, 2857: 9, 1890: 9, 2069: 9, 2027: 9, 2828: 9, 3825: 9, 3106: 9, 2686: 9, 3662: 9, 2464: 9, 1926: 9, 2005: 9, 3019: 9, 3891: 9, 3663: 9, 2669: 9, 3584: 9, 1083: 8, 3109: 8, 3737: 8, 2119: 8, 3692: 8, 3546: 8, 3571: 8, 3344: 8, 56: 8, 2258: 8, 1567: 8, 2418: 8, 2737: 8, 2518: 8, 2609: 8, 3995: 8, 973: 8, 3387: 8, 2850: 8, 1909: 8, 1879: 8, 2491: 8, 2767: 8, 1779: 8, 2394: 8, 3545: 8, 3138: 8, 1584: 8, 1611: 8, 2083: 8, 3313: 8, 2656: 8, 3524: 8, 3122: 8, 2006: 8, 3066: 8, 2217: 8, 2658: 8, 2697: 8, 3347: 8, 1925: 8, 3395: 8, 3924: 8, 3867: 8, 2213: 8, 2493: 8, 949: 8, 3143: 8, 3494: 8, 3977: 8, 3023: 8, 2234: 8, 3548: 8, 3577: 8, 2177: 8, 1114: 8, 1561: 8, 1899: 8, 3814: 8, 2893: 8, 2484: 8, 3807: 8, 1288: 8, 1948: 8, 2733: 8, 3319: 8, 876: 8, 3291: 8, 3058: 8, 2869: 8, 1993: 8, 3896: 8, 3154: 8, 1686: 8, 3116: 8, 1962: 8, 2186: 8, 3916: 8, 3367: 8, 2584: 8, 3073: 8, 2675: 8, 2794: 8, 3268: 8, 3315: 8, 1029: 8, 3787: 8, 3239: 8, 3882: 8, 2122: 8, 3646: 8, 3305: 8, 3620: 8, 3440: 8, 3894: 8, 3519: 8, 3617: 8, 3396: 8, 1637: 8, 1777: 8, 3430: 8, 2635: 8, 2924: 8, 2695: 8, 3570: 8, 2157: 8, 1719: 8, 3788: 8, 3012: 8, 1789: 8, 2050: 8, 2682: 8, 3044: 8, 2514: 8, 3899: 8, 2827: 8, 318: 8, 3113: 8, 3727: 8, 1783: 8, 2423: 8, 3238: 8, 3791: 8, 2982: 8, 2932: 8, 1104: 8, 2180: 8, 2426: 8, 1702: 8, 3590: 8, 2759: 8, 3195: 8, 3872: 8, 2939: 8, 3655: 8, 3554: 8, 3098: 8, 3933: 8, 3561: 8, 2011: 8, 2147: 8, 2833: 8, 3530: 8, 1929: 8, 3821: 8, 1632: 8, 3963: 8, 2993: 8, 1938: 8, 2070: 8, 2758: 8, 1981: 8, 3745: 8, 2107: 8, 3747: 8, 2430: 8, 3409: 8, 2278: 8, 1837: 8, 1243: 8, 1786: 8, 1848: 8, 3229: 8, 3917: 8, 1869: 8, 2568: 8, 3032: 8, 2659: 8, 1176: 8, 3487: 8, 2816: 8, 2479: 8, 499: 8, 3298: 8, 3569: 8, 3165: 8, 2190: 8, 3776: 8, 1857: 8, 2458: 8, 1571: 8, 3932: 8, 2679: 8, 3643: 8, 2414: 8, 3123: 8, 1298: 8, 2784: 8, 902: 8, 2137: 8, 3051: 8, 3303: 8, 2745: 8, 1807: 8, 3297: 8, 3446: 8, 3781: 8, 1792: 8, 1883: 8, 2028: 8, 1648: 8, 2766: 8, 2452: 8, 146: 8, 3623: 8, 1800: 8, 2194: 8, 2989: 8, 3336: 8, 3458: 8, 3064: 8, 3632: 8, 2420: 8, 2719: 8, 2848: 8, 2365: 8, 3299: 8, 2639: 8, 2601: 8, 1682: 8, 112: 8, 3834: 8, 2831: 8, 3754: 8, 1815: 8, 2250: 8, 3316: 8, 2921: 8, 3384: 8, 3198: 8, 2806: 8, 1520: 8, 1528: 8, 3372: 8, 1935: 8, 3010: 8, 2445: 8, 2108: 8, 1847: 8, 3410: 8, 1665: 8, 1716: 8, 3934: 8, 3563: 8, 1748: 8, 1655: 8, 1901: 8, 3462: 8, 3320: 8, 1828: 8, 2255: 8, 3796: 8, 3953: 8, 613: 8, 3311: 8, 3597: 8, 1839: 8, 3667: 8, 3672: 8, 3964: 8, 3486: 8, 3340: 8, 1946: 8, 2764: 8, 2490: 8, 3572: 8, 1730: 8, 1676: 8, 2879: 8, 3996: 8, 3276: 8, 2958: 8, 3550: 8, 2991: 8, 3543: 8, 3028: 8, 3269: 8, 267: 8, 1601: 8, 2488: 8, 2671: 8, 2305: 8, 3730: 8, 1841: 8, 3139: 8, 1568: 8, 2145: 8, 2021: 8, 2680: 8, 3938: 8, 3272: 8, 1705: 8, 2883: 8, 2617: 8, 3390: 8, 3951: 8, 3328: 8, 3742: 8, 1795: 8, 2299: 8, 3840: 8, 3128: 8, 3434: 8, 2599: 8, 2510: 8, 2415: 8, 2208: 8, 1952: 8, 2148: 8, 2525: 8, 2406: 8, 2616: 8, 1680: 8, 2538: 8, 3485: 8, 2285: 8, 2961: 8, 3630: 8, 3469: 8, 3574: 8, 2591: 8, 2298: 8, 3091: 8, 2383: 8, 3071: 8, 1858: 8, 2231: 8, 1866: 8, 2517: 8, 3762: 8, 3351: 8, 3869: 8, 3467: 8, 3547: 8, 3565: 8, 2197: 7, 1681: 7, 2209: 7, 3968: 7, 2988: 7, 2566: 7, 3831: 7, 1950: 7, 3364: 7, 3196: 7, 1519: 7, 2843: 7, 2309: 7, 1822: 7, 2168: 7, 3119: 7, 3310: 7, 3956: 7, 2752: 7, 3452: 7, 3642: 7, 1551: 7, 3641: 7, 1552: 7, 2990: 7, 2812: 7, 3274: 7, 2211: 7, 1817: 7, 3086: 7, 1854: 7, 3355: 7, 2152: 7, 3060: 7, 2888: 7, 3798: 7, 3426: 7, 2698: 7, 3687: 7, 2132: 7, 1106: 7, 2101: 7, 3100: 7, 2941: 7, 3203: 7, 3739: 7, 3952: 7, 3160: 7, 2803: 7, 2082: 7, 1508: 7, 2665: 7, 2463: 7, 2220: 7, 1985: 7, 3557: 7, 3209: 7, 2723: 7, 2968: 7, 2760: 7, 1200: 7, 1785: 7, 2364: 7, 2413: 7, 3684: 7, 1767: 7, 3633: 7, 3797: 7, 2673: 7, 3295: 7, 3568: 7, 654: 7, 2844: 7, 2605: 7, 2073: 7, 3619: 7, 1687: 7, 3920: 7, 3008: 7, 3595: 7, 2247: 7, 3822: 7, 3820: 7, 2102: 7, 2515: 7, 3104: 7, 2947: 7, 1664: 7, 1864: 7, 2273: 7, 2744: 7, 2345: 7, 2259: 7, 3702: 7, 2587: 7, 3941: 7, 1583: 7, 2959: 7, 3588: 7, 3245: 7, 1850: 7, 3459: 7, 3248: 7, 2711: 7, 2805: 7, 1880: 7, 3943: 7, 2962: 7, 3626: 7, 1659: 7, 154: 7, 1603: 7, 3476: 7, 2974: 7, 3841: 7, 2453: 7, 3388: 7, 1870: 7, 1297: 7, 2862: 7, 2683: 7, 3042: 7, 3442: 7, 932: 7, 2516: 7, 2973: 7, 3215: 7, 3500: 7, 2905: 7, 2593: 7, 2470: 7, 3015: 7, 2373: 7, 2726: 7, 2834: 7, 2169: 7, 3127: 7, 1996: 7, 3483: 7, 3242: 7, 2774: 7, 2471: 7, 3026: 7, 3339: 7, 3357: 7, 2339: 7, 3097: 7, 1755: 7, 3860: 7, 3199: 7, 2494: 7, 3439: 7, 1906: 7, 1579: 7, 1593: 7, 1720: 7, 2481: 7, 2184: 7, 2866: 7, 348: 7, 3394: 7, 2624: 7, 3503: 7, 3830: 7, 3609: 7, 1557: 7, 3606: 7, 2051: 7, 3760: 7, 3903: 7, 3152: 7, 1602: 7, 2559: 7, 1942: 7, 3280: 7, 2478: 7, 3838: 7, 1743: 7, 3549: 7, 1963: 7, 2280: 7, 3748: 7, 3205: 7, 3063: 7, 2368: 7, 2913: 7, 2732: 7, 3031: 7, 3990: 7, 2706: 7, 3041: 7, 3523: 7, 3110: 7, 1570: 7, 2088: 7, 3986: 7, 3156: 7, 3912: 7, 2709: 7, 2804: 7, 3250: 7, 206: 7, 2450: 7, 2012: 7, 3972: 7, 1647: 7, 1994: 7, 2578: 7, 1765: 7, 2855: 7, 2696: 7, 1753: 7, 2314: 7, 3562: 7, 2985: 7, 3647: 7, 2647: 7, 3385: 7, 2057: 7, 132: 7, 2796: 7, 2301: 7, 2114: 7, 3539: 7, 3321: 7, 3111: 7, 3374: 7, 1872: 7, 3072: 7, 1063: 7, 82: 7, 232: 7, 3383: 7, 1651: 7, 2606: 7, 3099: 7, 3908: 7, 1604: 7, 1505: 7, 2822: 7, 1887: 7, 2443: 7, 1668: 7, 1669: 7, 2769: 7, 1856: 7, 3083: 7, 3126: 7, 3738: 7, 2592: 7, 3864: 7, 3669: 7, 3676: 7, 2896: 7, 2361: 7, 2626: 7, 2854: 7, 3397: 7, 3928: 7, 2641: 7, 1831: 7, 3927: 7, 3112: 7, 1921: 7, 2937: 7, 2967: 7, 3782: 7, 3125: 7, 3757: 7, 2636: 7, 203: 7, 3057: 7, 3254: 7, 3658: 7, 3304: 7, 3408: 7, 3708: 7, 1641: 7, 3935: 7, 3411: 7, 3880: 7, 2618: 7, 2151: 7, 3401: 7, 2995: 7, 2098: 7, 742: 7, 2660: 7, 2918: 7, 2612: 7, 3921: 7, 3448: 7, 2066: 7, 2540: 7, 3333: 7, 2929: 7, 3961: 7, 3713: 7, 1894: 7, 2886: 6, 2037: 6, 3585: 6, 3417: 6, 2341: 6, 2872: 6, 2535: 6, 1109: 6, 753: 6, 1615: 6, 1531: 6, 2242: 6, 4817: 6, 1862: 6, 3176: 6, 3438: 6, 2931: 6, 3413: 6, 2775: 6, 2495: 6, 2302: 6, 2268: 6, 1974: 6, 2782: 6, 2755: 6, 2936: 6, 2870: 6, 2662: 6, 3870: 6, 180: 6, 2598: 6, 3283: 6, 1861: 6, 274: 6, 2160: 6, 3002: 6, 3016: 6, 3193: 6, 3124: 6, 2386: 6, 3615: 6, 3237: 6, 3468: 6, 2379: 6, 3432: 6, 3263: 6, 3994: 6, 3045: 6, 3189: 6, 3436: 6, 3312: 6, 3265: 6, 1934: 6, 2700: 6, 3082: 6, 3929: 6, 2219: 6, 2894: 6, 3625: 6, 3146: 6, 2192: 6, 3706: 6, 3451: 6, 2284: 6, 3627: 6, 3992: 6, 2281: 6, 2546: 6, 2678: 6, 1740: 6, 2170: 6, 2216: 6, 2320: 6, 3017: 6, 3077: 6, 1836: 6, 3514: 6, 2754: 6, 2362: 6, 2332: 6, 1714: 6, 3171: 6, 2223: 6, 215: 6, 2852: 6, 1852: 6, 2786: 6, 2761: 6, 1690: 6, 2892: 6, 3105: 6, 2953: 6, 3950: 6, 3140: 6, 1596: 6, 1715: 6, 3852: 6, 2375: 6, 1791: 6, 796: 6, 3084: 6, 2838: 6, 3356: 6, 2019: 6, 3803: 6, 1623: 6, 2171: 6, 1060: 6, 2977: 6, 2096: 6, 2880: 6, 1863: 6, 2094: 6, 3134: 6, 2792: 6, 3502: 6, 3756: 6, 2619: 6, 2646: 6, 3863: 6, 3678: 6, 1653: 6, 3504: 6, 2382: 6, 3479: 6, 2604: 6, 2533: 6, 2319: 6, 1776: 6, 2431: 6, 439: 6, 2262: 6, 1662: 6, 2693: 6, 1775: 6, 3555: 6, 2348: 6, 2791: 6, 2403: 6, 3960: 6, 1088: 6, 2534: 6, 3054: 6, 1881: 6, 2498: 6, 3352: 6, 2126: 6, 2352: 6, 2097: 6, 3649: 6, 1821: 6, 3214: 6, 3804: 6, 3074: 6, 2511: 6, 3813: 6, 1101: 6, 1103: 6, 2825: 6, 3370: 6, 3296: 6, 1978: 6, 2548: 6, 3429: 6, 3180: 6, 3013: 6, 2876: 6, 2081: 6, 2061: 6, 2460: 6, 2655: 6, 3379: 6, 3014: 6, 1573: 6, 3445: 6, 3055: 6, 3729: 6, 3461: 6, 3910: 6, 2998: 6, 1772: 6, 2649: 6, 1031: 6, 3069: 6, 2914: 6, 3278: 6, 1095: 6, 1976: 6, 3049: 6, 2025: 6, 1600: 6, 3378: 6, 3817: 6, 2621: 6, 3881: 6, 1684: 6, 1893: 6, 2757: 6, 3288: 6, 3021: 6, 3188: 6, 2986: 6, 2555: 6, 2770: 6, 2477: 6, 2509: 6, 3668: 6, 2001: 6, 2756: 6, 2729: 6, 3746: 6, 1736: 6, 3792: 6, 2933: 6, 3670: 6, 3603: 6, 3600: 6, 2564: 6, 3511: 6, 1840: 6, 3261: 6, 3353: 6, 3582: 6, 2056: 6, 2543: 6, 2226: 6, 3718: 6, 2837: 6, 3944: 6, 3350: 6, 2109: 6, 3914: 6, 2824: 6, 3575: 6, 3342: 6, 586: 6, 3224: 6, 2054: 6, 1769: 6, 2841: 6, 3220: 6, 2996: 6, 1040: 6, 2832: 6, 2926: 6, 1512: 6, 1683: 6, 2228: 6, 3988: 6, 2335: 6, 3842: 6, 2095: 6, 3213: 6, 3786: 6, 2581: 6, 3225: 6, 3608: 6, 2318: 6, 3317: 6, 3722: 6, 1627: 6, 1644: 6, 3366: 6, 2810: 6, 2127: 5, 1673: 5, 2523: 5, 2138: 5, 3329: 5, 1128: 5, 2060: 5, 2840: 5, 2183: 5, 1764: 5, 2144: 5, 3726: 5, 969: 5, 424: 5, 2971: 5, 3811: 5, 3806: 5, 249: 5, 2416: 5, 3167: 5, 807: 5, 3520: 5, 3551: 5, 3398: 5, 3971: 5, 1704: 5, 2482: 5, 1941: 5, 3089: 5, 1612: 5, 739: 5, 2881: 5, 3266: 5, 3816: 5, 1534: 5, 375: 5, 3862: 5, 2906: 5, 3046: 5, 3190: 5, 2261: 5, 1787: 5, 3682: 5, 3453: 5, 1509: 5, 3285: 5, 3393: 5, 3118: 5, 2703: 5, 2735: 5, 3362: 5, 2344: 5, 3911: 5, 1878: 5, 3210: 5, 3515: 5, 3456: 5, 2776: 5, 3542: 5, 1761: 5, 1059: 5, 3659: 5, 1186: 5, 1265: 5, 3096: 5, 3705: 5, 2972: 5, 2878: 5, 2674: 5, 3661: 5, 2128: 5, 3650: 5, 2017: 5, 3148: 5, 3271: 5, 1526: 5, 2692: 5, 3723: 5, 766: 5, 3940: 5, 3593: 5, 1932: 5, 3969: 5, 2167: 5, 2997: 5, 3172: 5, 1422: 5, 2020: 5, 2385: 5, 3769: 5, 3673: 5, 1877: 5, 2702: 5, 832: 5, 3406: 5, 3827: 5, 1513: 5, 2359: 5, 2966: 5, 3251: 5, 2911: 5, 2826: 5, 3153: 5, 1594: 5, 3505: 5, 2955: 5, 3359: 5, 3275: 5, 3704: 5, 3027: 5, 2085: 5, 2312: 5, 2476: 5, 2507: 5, 3243: 5, 2750: 5, 3400: 5, 3779: 5, 2124: 5, 3253: 5, 2789: 5, 3348: 5, 3970: 5, 2575: 5, 3373: 5, 3999: 5, 3506: 5, 1955: 5, 1556: 5, 3460: 5, 2155: 5, 3233: 5, 1148: 5, 3645: 5, 1625: 5, 1707: 5, 3695: 5, 1140: 5, 3246: 5, 3323: 5, 3599: 5, 3905: 5, 3151: 5, 2469: 5, 1657: 5, 3427: 5, 3618: 5, 3115: 5, 2293: 5, 3527: 5, 3300: 5, 1980: 5, 3197: 5, 2317: 5, 2062: 5, 858: 5, 3638: 5, 2954: 5, 2451: 5, 98: 5, 1156: 5, 3628: 5, 2316: 5, 2395: 5, 2512: 5, 3715: 5, 556: 5, 2983: 5, 3909: 5, 3512: 5, 2856: 5, 1661: 5, 2952: 5, 3566: 5, 3035: 5, 2044: 5, 1957: 5, 1804: 5, 2885: 5, 2571: 5, 3693: 5, 2670: 5, 2743: 5, 2179: 5, 2087: 5, 1574: 5, 2058: 5, 3614: 5, 2964: 5, 3258: 5, 3856: 5, 3079: 5, 2032: 5, 1277: 4, 1799: 4, 2524: 4, 1108: 4, 2287: 4, 982: 4, 662: 4, 3966: 4, 3349: 4, 3794: 4, 3290: 4, 2059: 4, 1383: 4, 3594: 4, 625: 4, 1141: 4, 3191: 4, 3308: 4, 3102: 4, 3241: 4, 2224: 4, 3522: 4, 3839: 4, 2594: 4, 3622: 4, 1353: 4, 2245: 4, 3289: 4, 906: 4, 3421: 4, 2731: 4, 3855: 4, 3343: 4, 1550: 4, 2326: 4, 2910: 4, 3985: 4, 2549: 4, 3915: 4, 245: 4, 3244: 4, 3526: 4, 1146: 4, 1656: 4, 863: 4, 1915: 4, 2839: 4, 3020: 4, 3725: 4, 2289: 4, 729: 4, 381: 4, 3345: 4, 1071: 4, 2830: 4, 623: 4, 3192: 4, 3419: 4, 1808: 4, 3006: 4, 520: 4, 3878: 4, 1155: 4, 1577: 4, 1417: 4, 2545: 4, 2877: 4, 3174: 4, 3751: 4, 2487: 4, 380: 4, 3793: 4, 1989: 4, 3957: 4, 1692: 4, 2313: 4, 2324: 4, 3507: 4, 2570: 4, 1527: 4, 3775: 4, 1322: 4, 3741: 4, 1377: 4, 3067: 4, 2492: 4, 2821: 4, 3420: 4, 2003: 4, 3279: 4, 1369: 4, 2376: 4, 3819: 4, 1928: 4, 2912: 4, 2915: 4, 3327: 4, 3978: 4, 3686: 4, 2393: 4, 3976: 4, 3368: 4, 1913: 4, 2666: 4, 2294: 4, 2648: 4, 768: 4, 3721: 4, 736: 4, 1868: 4, 3717: 4, 1693: 4, 3901: 4, 2016: 4, 1515: 4, 2439: 4, 3260: 4, 211: 4, 2485: 4, 3735: 4, 3435: 4, 2112: 4, 2315: 4, 3844: 4, 2459: 4, 1745: 4, 2742: 4, 2785: 4, 2508: 4, 3884: 4, 3589: 4, 1876: 4, 3181: 4, 2428: 4, 3674: 4, 3698: 4, 1038: 4, 3853: 4, 870: 4, 790: 4, 3671: 4, 3039: 4, 702: 4, 3223: 4, 428: 3, 487: 3, 149: 3, 1580: 3, 1474: 3, 1233: 3, 1365: 3, 3495: 3, 660: 3, 1366: 3, 2980: 3, 1266: 3, 1177: 3, 3691: 3, 1540: 3, 2008: 3, 995: 3, 1049: 3, 3168: 3, 1285: 3, 3654: 3, 1022: 3, 1462: 3, 2622: 3, 1006: 3, 1806: 3, 2371: 3, 1004: 3, 724: 3, 1153: 3, 824: 3, 653: 3, 2779: 3, 1234: 3, 3478: 3, 1425: 3, 3707: 3, 2181: 3, 2819: 3, 3186: 3, 1272: 3, 3688: 3, 443: 3, 2331: 3, 3812: 3, 2707: 3, 1423: 3, 3202: 3, 1360: 3, 2781: 3, 3552: 3, 3573: 3, 263: 3, 2557: 3, 1112: 3, 1387: 3, 3443: 3, 572: 3, 686: 3, 1954: 3, 1264: 3, 2424: 3, 1283: 3, 830: 3, 3371: 3, 2663: 3, 1178: 3, 3120: 3, 2925: 3, 3501: 3, 2022: 3, 3701: 3, 389: 3, 2526: 3, 2705: 3, 1244: 3, 1830: 3, 2823: 3, 3865: 3, 886: 3, 3030: 3, 1388: 3, 1289: 3, 2074: 3, 454: 3, 1493: 3, 1351: 3, 3056: 3, 3211: 3, 1455: 3, 3047: 3, 3062: 3, 1225: 2, 165: 2, 1359: 2, 275: 2, 1339: 2, 1018: 2, 923: 2, 1465: 2, 3009: 2, 1412: 2, 568: 2, 80: 2, 1332: 2, 747: 2, 1470: 2, 3330: 2, 732: 2, 3900: 2, 709: 2, 498: 2, 1247: 2, 1486: 2, 1273: 2, 242: 2, 885: 2, 1238: 2, 1115: 2, 2200: 2, 2325: 2, 142: 2, 437: 2, 2547: 2, 1267: 2, 1255: 2, 1284: 2, 1271: 2, 1344: 2, 218: 2, 1125: 2, 1274: 2, 492: 2, 3029: 2, 176: 2, 3219: 2, 1386: 2, 673: 2, 535: 2, 755: 2, 1261: 2, 3022: 2, 699: 2, 716: 2, 518: 2, 1287: 2, 831: 2, 1338: 2, 1169: 2, 1324: 2, 1442: 2, 494: 2, 1498: 2, 940: 2, 1132: 2, 1275: 2, 1409: 2, 1110: 2, 791: 2, 2188: 2, 1231: 2, 890: 2, 2780: 2, 1473: 2, 1435: 2, 1333: 2, 1207: 2, 1137: 2, 1281: 2, 1445: 2, 1331: 2, 1209: 2, 1260: 2, 291: 2, 1152: 2, 1319: 2, 1443: 2, 1385: 2, 217: 2, 608: 2, 1327: 2, 1252: 2, 1394: 2, 1408: 2, 1472: 2, 225: 2, 1483: 2, 117: 2, 614: 2, 1070: 2, 3412: 2, 1295: 2, 881: 2, 1378: 2, 1321: 2, 2412: 2, 1494: 2, 947: 2, 1240: 2, 1077: 2, 243: 2, 1341: 2, 1358: 2, 856: 2, 1314: 2, 938: 2, 1762: 2, 1170: 2, 960: 2, 1413: 2, 891: 2, 3981: 2, 635: 2, 593: 2, 855: 2, 904: 2, 478: 2, 1376: 2, 3508: 2, 941: 2, 3773: 2, 1043: 2, 1100: 2, 1367: 2, 1122: 1, 1305: 1, 1373: 1, 875: 1, 155: 1, 1253: 1, 400: 1, 877: 1, 1094: 1, 513: 1, 3450: 1, 111: 1, 360: 1, 827: 1, 1309: 1, 1219: 1, 905: 1, 1202: 1, 974: 1, 810: 1, 1479: 1, 1459: 1, 754: 1, 3763: 1, 1292: 1, 1410: 1, 1248: 1, 1082: 1, 1478: 1, 1348: 1, 1168: 1, 1160: 1, 1239: 1, 1434: 1, 1181: 1, 943: 1, 1293: 1, 1223: 1, 1317: 1, 1279: 1, 1161: 1, 887: 1, 988: 1, 1328: 1, 1198: 1, 1150: 1, 1477: 1, 1330: 1, 1241: 1, 1347: 1, 1393: 1, 103: 1, 131: 1, 1380: 1, 1405: 1, 800: 1, 76: 1, 1210: 1, 1163: 1, 1466: 1, 1432: 1, 681: 1, 136: 1, 394: 1, 1361: 1, 939: 1, 914: 1, 981: 1, 1221: 1, 1457: 1, 367: 1, 1336: 1, 1492: 1, 1446: 1, 1316: 1, 652: 1, 1356: 1, 527: 1, 1415: 1, 1257: 1, 1270: 1, 1291: 1, 1421: 1, 1206: 1, 915: 1, 1370: 1, 1392: 1, 1397: 1, 815: 1, 1485: 1, 1311: 1, 1196: 1, 730: 1, 161: 1, 1019: 1, 392: 1, 1280: 1, 1429: 1, 1343: 1, 1318: 1, 1054: 1, 1232: 1, 1406: 1, 656: 1, 3564: 1, 1116: 1, 1320: 1, 917: 1, 1419: 1, 1302: 1, 658: 1, 1375: 1, 1078: 1, 963: 1, 1484: 1, 778: 1, 1001: 1, 976: 1, 398: 1, 897: 1, 1364: 1, 1193: 1, 1030: 1, 1395: 1} \n",
      "\n",
      "Mode of the Flight Distance is [337] \n",
      " \n",
      "\n",
      "Unique values in column  Inflight wifi service  :  [3 2 4 1 5 0] \n",
      "\n",
      "Frequency counts for column  Inflight wifi service :\n",
      "{3: 26546, 2: 26485, 4: 20297, 1: 18293, 5: 11779, 0: 3178} \n",
      "\n",
      "Mode of the Inflight wifi service is [3] \n",
      " \n",
      "\n",
      "Unique values in column  Departure/Arrival time convenient  :  [4 2 5 3 1 0] \n",
      "\n",
      "Frequency counts for column  Departure/Arrival time convenient :\n",
      "{4: 26178, 5: 22962, 3: 18455, 2: 17674, 1: 15878, 0: 5431} \n",
      "\n",
      "Mode of the Departure/Arrival time convenient is [4] \n",
      " \n",
      "\n",
      "Unique values in column  Ease of Online booking  :  [3 2 5 4 1 0] \n",
      "\n",
      "Frequency counts for column  Ease of Online booking :\n",
      "{3: 25098, 2: 24644, 4: 20061, 1: 17974, 5: 14197, 0: 4604} \n",
      "\n",
      "Mode of the Ease of Online booking is [3] \n",
      " \n",
      "\n",
      "Unique values in column  Gate location  :  [1 3 2 5 4 0] \n",
      "\n",
      "Frequency counts for column  Gate location :\n",
      "{3: 29300, 4: 25034, 2: 19979, 1: 18017, 5: 14247, 0: 1} \n",
      "\n",
      "Mode of the Gate location is [3] \n",
      " \n",
      "\n",
      "Unique values in column  Food and drink  :  [5 1 2 4 3 0] \n",
      "\n",
      "Frequency counts for column  Food and drink :\n",
      "{4: 25010, 5: 22928, 3: 22850, 2: 22533, 1: 13149, 0: 108} \n",
      "\n",
      "Mode of the Food and drink is [4] \n",
      " \n",
      "\n",
      "Unique values in column  Online boarding  :  [3 5 2 1 4 0] \n",
      "\n",
      "Frequency counts for column  Online boarding :\n",
      "{4: 31560, 3: 22372, 5: 21246, 2: 17938, 1: 10966, 0: 2496} \n",
      "\n",
      "Mode of the Online boarding is [4] \n",
      " \n",
      "\n",
      "Unique values in column  Seat comfort  :  [5 1 2 3 4 0] \n",
      "\n",
      "Frequency counts for column  Seat comfort :\n",
      "{4: 32569, 5: 27197, 3: 19168, 2: 15251, 1: 12392, 0: 1} \n",
      "\n",
      "Mode of the Seat comfort is [4] \n",
      " \n",
      "\n",
      "Unique values in column  Inflight entertainment  :  [5 1 2 3 4 0] \n",
      "\n",
      "Frequency counts for column  Inflight entertainment :\n",
      "{4: 30205, 5: 25878, 3: 19624, 2: 18097, 1: 12760, 0: 14} \n",
      "\n",
      "Mode of the Inflight entertainment is [4] \n",
      " \n",
      "\n",
      "Unique values in column  On-board service  :  [4 1 2 3 5 0] \n",
      "\n",
      "Frequency counts for column  On-board service :\n",
      "{4: 31688, 5: 24239, 3: 23408, 2: 15076, 1: 12164, 0: 3} \n",
      "\n",
      "Mode of the On-board service is [4] \n",
      " \n",
      "\n",
      "Unique values in column  Leg room service  :  [3 5 4 2 1 0] \n",
      "\n",
      "Frequency counts for column  Leg room service :\n",
      "{4: 29561, 5: 25303, 3: 20596, 2: 20036, 1: 10593, 0: 489} \n",
      "\n",
      "Mode of the Leg room service is [4] \n",
      " \n",
      "\n",
      "Unique values in column  Baggage handling  :  [4 3 5 1 2] \n",
      "\n",
      "Frequency counts for column  Baggage handling :\n",
      "{4: 38334, 5: 27806, 3: 21210, 2: 11823, 1: 7405} \n",
      "\n",
      "Mode of the Baggage handling is [4] \n",
      " \n",
      "\n",
      "Unique values in column  Checkin service  :  [4 1 3 5 2 0] \n",
      "\n",
      "Frequency counts for column  Checkin service :\n",
      "{4: 29825, 3: 29141, 5: 21136, 1: 13249, 2: 13226, 0: 1} \n",
      "\n",
      "Mode of the Checkin service is [4] \n",
      " \n",
      "\n",
      "Unique values in column  Inflight service  :  [5 4 3 1 2 0] \n",
      "\n",
      "Frequency counts for column  Inflight service :\n",
      "{4: 38955, 5: 27827, 3: 20818, 2: 11751, 1: 7224, 0: 3} \n",
      "\n",
      "Mode of the Inflight service is [4] \n",
      " \n",
      "\n",
      "Unique values in column  Cleanliness  :  [5 1 2 3 4 0] \n",
      "\n",
      "Frequency counts for column  Cleanliness :\n",
      "{4: 27873, 3: 25184, 5: 23312, 2: 16539, 1: 13658, 0: 12} \n",
      "\n",
      "Mode of the Cleanliness is [4] \n",
      " \n",
      "\n",
      "Unique values in column  Departure Delay in Minutes  :  [  25    1    0   11    9    4   28   43   49    7   17   52   54   27\n",
      "   18   19    3  109   23    8   14   10   51   39   13   30   64   20\n",
      "   45   44   31   81   35   67   22   40   91   21   15   29  105   12\n",
      "  162   24  141    6   34    2   97   16   99   37   66   53   36  209\n",
      "   60  149   26    5   59   62  113   38   83  176   46   73  199   56\n",
      "   93   70   80   96   57   95   74  172   63  175  143   48   47  101\n",
      "  118   76  220   33   55  232  170  173  124  112   94  243  128   92\n",
      "  270   90  110   50  144   71  315  158   88   65  111   32  156   41\n",
      "  154  150  228   72  137  126  161   42  174  103  313  136  160  412\n",
      "   69  185  114  135  142  147   85  235  125  391   84  138  102  196\n",
      "  140   77  187  131   82  100   86  165   87  129  204  435  166  177\n",
      "  123  139  116  108  167  285   61  117  106  190  168  211   89  324\n",
      "   75  202  290  189  203  120  157  119   68  299  292   78  258  104\n",
      "  121   58  222  317  320  200  134  248   79  240  169   98  249  145\n",
      "  238  246  132  107  127  180  151  480  241  130  268  115  133  171\n",
      "  164  330  438  472  163  122  326  186  155  223  332  447 1305  208\n",
      "  201  233  210  182  221  159  188  184  224  178  266  191  219  652\n",
      "  148  226  236  153  276  212  152  198  245  726  302  283  505  242\n",
      "  215  394  206  311  293  566  225  146  218  227  252  291  193  323\n",
      "  281  287  339  183  259  192  319  207  195  179  194  537  181  257\n",
      "  213  300  295  262  312  383  392  294  250  419  216  308  423  346\n",
      "  272  197  205  303  251  344  333  355  454  459  269  254  231  253\n",
      "  265  301  263  381  214  310  244  239  255  328  348  278  859  692\n",
      "  321  465  426  340  274  267  519  286  414  559  382  237  260  401\n",
      "  247  376  288  271  450  230  217  279  264  448  398  750  365  316\n",
      "  351  327  341  306  353  358  514  334  277  275  352  371  437  229\n",
      "  600  296  460  338  307  234  289  452  318  256  368  626  729  362\n",
      "  360  853  446  399  396  463  364  342  372  298  273  427  429  373\n",
      "  420  579  930 1017  921  370  378  595  491  469  345  410  610  388\n",
      "  748  336  433  455  347  444  282  978  322  496  389  359  415  329\n",
      "  933  402  331  280  407 1592  501  384  377  503  400  430  570  357\n",
      "  350  297  309  531  304  363  411  390  314  343  724  337  493  416\n",
      "  951] \n",
      "\n",
      "Frequency counts for column  Departure Delay in Minutes :\n",
      "{0: 60165, 1: 3018, 2: 2337, 3: 2058, 4: 1895, 5: 1741, 6: 1551, 7: 1430, 8: 1332, 9: 1288, 10: 1174, 11: 1076, 12: 1049, 14: 961, 13: 954, 15: 894, 16: 804, 17: 725, 19: 710, 18: 686, 20: 664, 21: 645, 25: 555, 22: 552, 23: 544, 24: 532, 27: 495, 26: 484, 29: 459, 30: 456, 28: 438, 31: 434, 32: 372, 33: 349, 34: 346, 35: 338, 37: 334, 39: 316, 36: 313, 38: 295, 42: 293, 40: 273, 43: 268, 41: 259, 44: 249, 45: 248, 46: 226, 47: 224, 50: 222, 52: 205, 48: 203, 49: 198, 51: 185, 55: 182, 57: 176, 53: 175, 60: 166, 54: 165, 56: 160, 58: 158, 61: 151, 59: 148, 65: 146, 67: 141, 64: 136, 63: 132, 68: 128, 69: 126, 66: 123, 62: 123, 72: 116, 71: 116, 70: 114, 73: 110, 77: 105, 74: 103, 75: 102, 76: 101, 84: 92, 80: 91, 81: 91, 88: 87, 79: 86, 83: 85, 87: 84, 86: 83, 78: 82, 82: 79, 95: 79, 89: 79, 85: 79, 93: 78, 96: 77, 92: 77, 100: 71, 91: 67, 94: 66, 106: 66, 90: 64, 105: 61, 112: 57, 98: 57, 108: 57, 97: 56, 102: 55, 113: 53, 111: 52, 110: 52, 104: 51, 99: 50, 116: 50, 114: 49, 118: 49, 103: 46, 107: 45, 101: 45, 109: 44, 120: 42, 126: 42, 123: 41, 119: 41, 117: 41, 124: 39, 127: 37, 115: 36, 129: 36, 134: 36, 152: 35, 122: 34, 125: 34, 130: 34, 138: 34, 128: 33, 132: 33, 145: 31, 142: 31, 151: 31, 140: 31, 131: 30, 167: 30, 139: 29, 121: 29, 133: 28, 136: 28, 150: 28, 156: 28, 137: 28, 154: 27, 146: 26, 147: 26, 141: 26, 148: 26, 158: 26, 160: 25, 135: 25, 165: 23, 186: 23, 157: 23, 168: 23, 144: 22, 184: 22, 202: 21, 180: 21, 173: 21, 161: 20, 163: 20, 171: 20, 170: 20, 172: 19, 183: 19, 185: 19, 153: 19, 143: 19, 149: 18, 182: 17, 187: 17, 174: 16, 178: 16, 164: 16, 155: 16, 176: 16, 181: 15, 179: 15, 175: 15, 204: 15, 159: 15, 209: 14, 200: 14, 162: 14, 188: 14, 196: 14, 199: 13, 193: 13, 169: 13, 205: 13, 194: 13, 190: 12, 192: 12, 177: 12, 212: 11, 214: 11, 201: 11, 189: 11, 191: 10, 206: 10, 166: 10, 210: 10, 236: 9, 258: 9, 197: 9, 211: 9, 222: 9, 203: 8, 221: 8, 259: 8, 266: 8, 219: 8, 228: 8, 215: 8, 218: 8, 233: 8, 243: 8, 198: 8, 195: 8, 276: 8, 242: 8, 231: 8, 226: 7, 264: 7, 315: 7, 207: 7, 225: 7, 235: 7, 238: 7, 253: 6, 208: 6, 245: 6, 232: 6, 248: 6, 213: 6, 223: 6, 271: 6, 255: 6, 290: 6, 294: 6, 244: 6, 240: 5, 252: 5, 279: 5, 293: 5, 230: 5, 277: 5, 313: 5, 286: 5, 275: 5, 330: 5, 265: 5, 274: 5, 220: 5, 250: 5, 267: 4, 237: 4, 272: 4, 216: 4, 247: 4, 254: 4, 328: 4, 239: 4, 246: 4, 454: 4, 326: 4, 217: 4, 299: 4, 324: 4, 338: 4, 296: 4, 318: 4, 358: 4, 306: 4, 249: 4, 394: 4, 241: 4, 273: 3, 298: 3, 368: 3, 282: 3, 301: 3, 263: 3, 342: 3, 288: 3, 256: 3, 289: 3, 310: 3, 348: 3, 229: 3, 371: 3, 334: 3, 355: 3, 327: 3, 351: 3, 307: 3, 340: 3, 333: 3, 312: 3, 302: 3, 332: 3, 227: 3, 291: 3, 281: 3, 287: 3, 262: 3, 319: 3, 423: 3, 303: 3, 503: 2, 260: 2, 401: 2, 362: 2, 400: 2, 353: 2, 331: 2, 323: 2, 360: 2, 336: 2, 251: 2, 280: 2, 398: 2, 317: 2, 365: 2, 452: 2, 316: 2, 410: 2, 414: 2, 308: 2, 295: 2, 300: 2, 437: 2, 389: 2, 224: 2, 381: 2, 383: 2, 304: 2, 480: 2, 234: 2, 309: 2, 269: 2, 350: 2, 1017: 1, 444: 1, 347: 1, 370: 1, 455: 1, 433: 1, 921: 1, 378: 1, 978: 1, 748: 1, 388: 1, 610: 1, 345: 1, 469: 1, 491: 1, 595: 1, 268: 1, 501: 1, 322: 1, 357: 1, 416: 1, 493: 1, 337: 1, 724: 1, 343: 1, 314: 1, 390: 1, 411: 1, 363: 1, 531: 1, 297: 1, 570: 1, 496: 1, 430: 1, 377: 1, 384: 1, 579: 1, 1592: 1, 407: 1, 402: 1, 933: 1, 329: 1, 415: 1, 359: 1, 930: 1, 626: 1, 420: 1, 373: 1, 341: 1, 311: 1, 566: 1, 750: 1, 448: 1, 412: 1, 450: 1, 376: 1, 339: 1, 382: 1, 559: 1, 270: 1, 519: 1, 537: 1, 257: 1, 426: 1, 465: 1, 321: 1, 692: 1, 859: 1, 278: 1, 392: 1, 419: 1, 346: 1, 344: 1, 505: 1, 283: 1, 514: 1, 853: 1, 429: 1, 427: 1, 320: 1, 438: 1, 372: 1, 472: 1, 364: 1, 463: 1, 396: 1, 399: 1, 446: 1, 729: 1, 726: 1, 459: 1, 292: 1, 447: 1, 1305: 1, 460: 1, 652: 1, 600: 1, 285: 1, 435: 1, 352: 1, 391: 1, 951: 1} \n",
      "\n",
      "Mode of the Departure Delay in Minutes is [0] \n",
      " \n",
      "\n",
      "Unique values in column  Arrival Delay in Minutes  :  [1.800e+01 6.000e+00 0.000e+00 9.000e+00 2.300e+01 8.000e+00 3.500e+01\n",
      " 5.100e+01 1.000e+01 5.000e+00 4.000e+00 2.900e+01 4.400e+01 2.800e+01\n",
      " 1.200e+01 1.200e+02 2.400e+01 1.000e+00 2.000e+01 3.100e+01 1.500e+01\n",
      " 4.800e+01 2.600e+01 4.900e+01 2.000e+00 3.700e+01 5.000e+01 3.000e+00\n",
      " 1.900e+01 7.200e+01 1.100e+01 3.400e+01 6.200e+01 2.700e+01 5.200e+01\n",
      " 1.300e+01 8.200e+01 3.000e+01 1.600e+01 7.000e+00 1.220e+02 1.790e+02\n",
      " 1.250e+02 1.700e+01 8.900e+01 1.010e+02 1.400e+01 6.100e+01 3.200e+01\n",
      " 3.300e+01 4.100e+01 1.910e+02 1.380e+02 5.300e+01 2.200e+01 5.700e+01\n",
      " 6.500e+01 7.600e+01 1.070e+02 9.200e+01 1.640e+02 2.100e+01 4.000e+01\n",
      " 5.500e+01 1.850e+02 6.300e+01 7.700e+01 8.600e+01 9.100e+01 1.000e+02\n",
      " 5.400e+01 3.600e+01 7.000e+01 1.390e+02 6.700e+01 1.630e+02 1.280e+02\n",
      " 1.800e+02 9.300e+01 1.210e+02 4.500e+01 1.050e+02 1.260e+02 5.600e+01\n",
      " 7.300e+01 2.120e+02 8.800e+01 2.410e+02 1.720e+02 1.750e+02 1.110e+02\n",
      " 9.900e+01 2.500e+01 4.200e+01 2.260e+02 4.600e+01 1.310e+02 2.600e+02\n",
      " 6.900e+01 1.420e+02 5.800e+01 7.500e+01 3.800e+01 6.600e+01 3.900e+01\n",
      " 1.030e+02 3.070e+02 1.560e+02 7.400e+01 1.090e+02 1.550e+02 6.000e+01\n",
      " 1.540e+02 4.300e+01 1.470e+02 2.170e+02 1.240e+02 4.700e+01 1.500e+02\n",
      " 1.160e+02 1.710e+02 8.400e+01 1.230e+02 1.650e+02 9.400e+01 8.300e+01\n",
      " 3.360e+02 5.900e+01 2.190e+02 8.700e+01 4.590e+02 6.800e+01 1.040e+02\n",
      " 1.330e+02 1.340e+02 8.100e+01 2.590e+02 8.000e+01 7.900e+01 2.220e+02\n",
      " 2.030e+02 3.540e+02 2.140e+02 7.800e+01 9.500e+01 7.100e+01 1.100e+02\n",
      " 8.500e+01 1.460e+02 1.960e+02 9.800e+01 4.700e+02 2.640e+02 1.490e+02\n",
      " 1.130e+02 1.190e+02 1.060e+02 2.160e+02 1.600e+02 2.850e+02 1.150e+02\n",
      " 1.860e+02 2.110e+02 3.230e+02 1.760e+02 1.670e+02 2.420e+02 2.840e+02\n",
      " 2.000e+02 1.450e+02 1.080e+02 1.740e+02 1.320e+02 3.130e+02 3.310e+02\n",
      " 2.880e+02 1.180e+02 2.250e+02 6.400e+01 3.240e+02 1.900e+02 1.770e+02\n",
      " 1.360e+02 3.200e+02 2.010e+02 2.710e+02 9.600e+01 1.520e+02 2.800e+02\n",
      " 1.410e+02 1.570e+02 1.530e+02 1.300e+02 1.400e+02 1.120e+02 2.570e+02\n",
      " 1.170e+02 2.350e+02 9.000e+01 1.810e+02 1.830e+02 1.270e+02 4.710e+02\n",
      " 2.270e+02 1.020e+02 1.350e+02 1.290e+02 2.550e+02 1.920e+02 3.480e+02\n",
      " 4.380e+02 4.460e+02 1.840e+02 1.680e+02 1.660e+02 3.100e+02 1.730e+02\n",
      " 2.610e+02 1.610e+02 2.360e+02 1.510e+02 1.820e+02 3.210e+02 2.330e+02\n",
      " 1.370e+02 4.330e+02 1.280e+03 2.180e+02 1.480e+02 1.440e+02 1.870e+02\n",
      " 2.060e+02 1.700e+02 2.090e+02 1.140e+02 2.240e+02 2.810e+02 2.230e+02\n",
      " 6.380e+02 2.200e+02 2.340e+02 9.700e+01 2.650e+02 3.880e+02 2.620e+02\n",
      " 2.210e+02 1.620e+02 2.670e+02 3.740e+02 2.280e+02 2.440e+02 2.470e+02\n",
      " 6.910e+02 1.430e+02 1.890e+02 1.970e+02 2.040e+02 3.190e+02 2.730e+02\n",
      " 3.290e+02 1.950e+02 4.860e+02 1.780e+02 2.700e+02 1.580e+02 1.990e+02\n",
      " 2.130e+02 3.830e+02 3.020e+02 6.000e+02 2.150e+02 1.690e+02 1.880e+02\n",
      " 2.660e+02 2.920e+02 2.870e+02 2.300e+02 2.390e+02 2.890e+02 2.980e+02\n",
      " 2.320e+02 3.630e+02 2.050e+02 2.950e+02 2.830e+02 5.240e+02 3.270e+02\n",
      " 2.460e+02 2.900e+02 3.140e+02 3.160e+02 3.040e+02 2.020e+02 2.960e+02\n",
      " 2.480e+02 3.860e+02 3.810e+02 1.590e+02 3.220e+02 4.600e+02 4.180e+02\n",
      " 3.490e+02 2.560e+02 2.490e+02 1.940e+02 3.150e+02 2.080e+02 1.930e+02\n",
      " 3.710e+02 2.290e+02 3.910e+02 4.540e+02 4.450e+02 2.100e+02 2.680e+02\n",
      " 2.530e+02 2.450e+02 3.370e+02 2.970e+02 4.360e+02 2.790e+02 3.000e+02\n",
      " 2.400e+02 2.370e+02 2.070e+02 1.980e+02 4.040e+02 2.430e+02 3.410e+02\n",
      " 2.780e+02 3.050e+02 8.600e+02 2.580e+02 7.020e+02 3.600e+02 4.930e+02\n",
      " 4.270e+02 3.350e+02 5.160e+02 2.720e+02 4.100e+02 5.550e+02 3.920e+02\n",
      " 2.520e+02 3.300e+02 3.820e+02 2.930e+02 2.770e+02 2.310e+02 2.750e+02\n",
      " 3.620e+02 2.760e+02 7.290e+02 3.570e+02 3.260e+02 2.500e+02 4.580e+02\n",
      " 3.340e+02 2.910e+02 3.800e+02 3.590e+02 3.460e+02 6.240e+02 3.770e+02\n",
      " 3.720e+02 4.290e+02 5.890e+02 3.010e+02 5.020e+02 2.990e+02 4.570e+02\n",
      " 2.380e+02 4.010e+02 4.400e+02 2.860e+02 2.740e+02 3.110e+02 3.030e+02\n",
      " 6.040e+02 7.170e+02 3.560e+02 4.090e+02 8.230e+02 2.940e+02 2.510e+02\n",
      " 4.310e+02 4.320e+02 4.030e+02 3.180e+02 5.030e+02 3.380e+02 3.640e+02\n",
      " 4.070e+02 3.680e+02 3.080e+02 2.540e+02 4.350e+02 2.630e+02 4.170e+02\n",
      " 3.580e+02 4.160e+02 5.610e+02 3.510e+02 9.520e+02 1.011e+03 9.240e+02\n",
      " 3.060e+02 4.240e+02 4.850e+02 4.430e+02 3.170e+02 5.180e+02 3.500e+02\n",
      " 4.440e+02 3.120e+02 3.970e+02 5.930e+02 3.930e+02 7.200e+02 3.660e+02\n",
      " 4.550e+02 2.690e+02 4.340e+02 9.700e+02 3.470e+02 3.090e+02 3.780e+02\n",
      " 3.790e+02 3.950e+02 3.700e+02 4.480e+02 9.200e+02 3.890e+02 3.550e+02\n",
      " 3.420e+02 1.584e+03 5.000e+02 4.020e+02 4.060e+02 4.840e+02 4.120e+02\n",
      " 5.670e+02 4.200e+02 3.990e+02 3.450e+02 3.530e+02 4.220e+02 2.820e+02\n",
      " 5.070e+02 4.250e+02 3.390e+02 3.520e+02 3.850e+02 7.050e+02 3.690e+02\n",
      " 9.400e+02] \n",
      "\n",
      "Frequency counts for column  Arrival Delay in Minutes :\n",
      "{0.0: 59672, 1.0: 2271, 2.0: 2106, 3.0: 1997, 4.0: 1953, 5.0: 1705, 6.0: 1666, 7.0: 1514, 8.0: 1424, 9.0: 1280, 10.0: 1205, 11.0: 1166, 12.0: 1104, 13.0: 1087, 14.0: 977, 15.0: 877, 16.0: 862, 17.0: 854, 18.0: 761, 19.0: 716, 21.0: 666, 20.0: 663, 24.0: 592, 22.0: 591, 23.0: 586, 27.0: 528, 26.0: 527, 25.0: 517, 30.0: 459, 28.0: 450, 29.0: 435, 33.0: 376, 34.0: 368, 36.0: 364, 32.0: 361, 31.0: 361, 38.0: 336, 35.0: 325, 37.0: 314, 40.0: 305, 39.0: 301, 41.0: 292, 44.0: 274, 42.0: 261, 46.0: 241, 43.0: 235, 45.0: 232, 49.0: 214, 48.0: 211, 52.0: 207, 47.0: 204, 51.0: 200, 53.0: 197, 50.0: 192, 55.0: 180, 57.0: 177, 56.0: 173, 60.0: 165, 58.0: 157, 54.0: 155, 62.0: 151, 61.0: 149, 59.0: 149, 63.0: 146, 65.0: 143, 66.0: 129, 64.0: 128, 70.0: 124, 67.0: 120, 68.0: 120, 69.0: 120, 72.0: 116, 73.0: 116, 78.0: 113, 71.0: 106, 75.0: 98, 76.0: 95, 77.0: 95, 79.0: 94, 81.0: 93, 88.0: 90, 82.0: 88, 80.0: 88, 74.0: 87, 83.0: 86, 84.0: 85, 91.0: 81, 87.0: 81, 85.0: 80, 92.0: 76, 89.0: 76, 86.0: 75, 99.0: 71, 100.0: 71, 90.0: 68, 94.0: 68, 93.0: 67, 102.0: 64, 97.0: 64, 96.0: 62, 103.0: 62, 98.0: 61, 95.0: 60, 109.0: 58, 104.0: 58, 105.0: 55, 107.0: 54, 129.0: 53, 110.0: 50, 116.0: 50, 101.0: 50, 115.0: 49, 120.0: 49, 119.0: 49, 108.0: 48, 111.0: 47, 113.0: 46, 106.0: 46, 125.0: 44, 121.0: 43, 118.0: 43, 114.0: 43, 124.0: 42, 117.0: 42, 134.0: 41, 135.0: 41, 112.0: 41, 122.0: 37, 123.0: 36, 138.0: 35, 133.0: 35, 139.0: 34, 131.0: 34, 128.0: 32, 127.0: 31, 158.0: 31, 164.0: 30, 150.0: 30, 126.0: 29, 137.0: 29, 149.0: 29, 160.0: 29, 152.0: 28, 142.0: 28, 146.0: 27, 136.0: 27, 151.0: 27, 155.0: 26, 143.0: 26, 141.0: 26, 165.0: 25, 175.0: 25, 147.0: 24, 140.0: 24, 130.0: 24, 185.0: 24, 132.0: 23, 171.0: 23, 157.0: 23, 145.0: 23, 186.0: 22, 162.0: 22, 156.0: 22, 163.0: 20, 174.0: 20, 177.0: 20, 154.0: 20, 167.0: 20, 144.0: 20, 184.0: 19, 153.0: 19, 190.0: 18, 180.0: 18, 179.0: 18, 159.0: 18, 169.0: 18, 161.0: 18, 183.0: 17, 178.0: 17, 168.0: 17, 176.0: 17, 206.0: 16, 194.0: 16, 148.0: 16, 196.0: 16, 172.0: 16, 219.0: 16, 188.0: 15, 166.0: 15, 181.0: 14, 173.0: 14, 203.0: 14, 195.0: 13, 187.0: 13, 221.0: 13, 189.0: 13, 213.0: 13, 255.0: 12, 200.0: 12, 191.0: 12, 205.0: 12, 170.0: 12, 182.0: 12, 208.0: 11, 217.0: 11, 216.0: 10, 204.0: 10, 193.0: 10, 210.0: 10, 243.0: 9, 223.0: 9, 224.0: 9, 197.0: 9, 199.0: 8, 201.0: 8, 242.0: 8, 192.0: 8, 270.0: 8, 262.0: 8, 214.0: 7, 228.0: 7, 225.0: 7, 226.0: 7, 232.0: 7, 284.0: 7, 257.0: 7, 222.0: 7, 258.0: 7, 229.0: 7, 198.0: 7, 207.0: 7, 237.0: 7, 253.0: 7, 239.0: 7, 256.0: 6, 230.0: 6, 248.0: 6, 317.0: 6, 288.0: 6, 250.0: 6, 212.0: 6, 240.0: 6, 246.0: 6, 247.0: 6, 202.0: 5, 283.0: 5, 278.0: 5, 252.0: 5, 290.0: 5, 215.0: 5, 238.0: 5, 350.0: 5, 279.0: 5, 233.0: 5, 220.0: 5, 209.0: 5, 211.0: 5, 285.0: 5, 227.0: 5, 264.0: 5, 235.0: 5, 265.0: 5, 218.0: 5, 244.0: 5, 295.0: 4, 259.0: 4, 287.0: 4, 268.0: 4, 276.0: 4, 341.0: 4, 272.0: 4, 314.0: 4, 330.0: 4, 293.0: 4, 336.0: 4, 274.0: 4, 299.0: 4, 307.0: 4, 245.0: 4, 319.0: 4, 329.0: 4, 297.0: 4, 296.0: 4, 263.0: 4, 254.0: 4, 234.0: 4, 261.0: 4, 302.0: 4, 281.0: 4, 392.0: 3, 313.0: 3, 337.0: 3, 260.0: 3, 357.0: 3, 277.0: 3, 231.0: 3, 275.0: 3, 362.0: 3, 334.0: 3, 346.0: 3, 301.0: 3, 251.0: 3, 318.0: 3, 338.0: 3, 407.0: 3, 485.0: 3, 324.0: 3, 320.0: 3, 470.0: 3, 326.0: 3, 273.0: 3, 241.0: 3, 289.0: 3, 322.0: 3, 267.0: 3, 236.0: 3, 327.0: 3, 304.0: 3, 310.0: 3, 372.0: 2, 409.0: 2, 331.0: 2, 342.0: 2, 335.0: 2, 359.0: 2, 410.0: 2, 381.0: 2, 393.0: 2, 303.0: 2, 321.0: 2, 403.0: 2, 383.0: 2, 316.0: 2, 298.0: 2, 589.0: 2, 347.0: 2, 380.0: 2, 305.0: 2, 445.0: 2, 440.0: 2, 438.0: 2, 371.0: 2, 286.0: 2, 358.0: 2, 417.0: 2, 271.0: 2, 300.0: 2, 249.0: 2, 354.0: 2, 471.0: 2, 349.0: 2, 404.0: 2, 266.0: 2, 435.0: 2, 323.0: 2, 366.0: 2, 269.0: 1, 434.0: 1, 391.0: 1, 455.0: 1, 720.0: 1, 593.0: 1, 397.0: 1, 312.0: 1, 970.0: 1, 374.0: 1, 518.0: 1, 443.0: 1, 424.0: 1, 306.0: 1, 924.0: 1, 444.0: 1, 355.0: 1, 309.0: 1, 378.0: 1, 369.0: 1, 705.0: 1, 385.0: 1, 352.0: 1, 339.0: 1, 425.0: 1, 507.0: 1, 282.0: 1, 422.0: 1, 353.0: 1, 345.0: 1, 399.0: 1, 420.0: 1, 567.0: 1, 412.0: 1, 484.0: 1, 406.0: 1, 402.0: 1, 500.0: 1, 1584.0: 1, 952.0: 1, 389.0: 1, 920.0: 1, 448.0: 1, 370.0: 1, 395.0: 1, 379.0: 1, 1011.0: 1, 294.0: 1, 351.0: 1, 561.0: 1, 459.0: 1, 458.0: 1, 691.0: 1, 363.0: 1, 729.0: 1, 524.0: 1, 1280.0: 1, 433.0: 1, 382.0: 1, 386.0: 1, 555.0: 1, 516.0: 1, 427.0: 1, 493.0: 1, 360.0: 1, 702.0: 1, 860.0: 1, 460.0: 1, 418.0: 1, 436.0: 1, 315.0: 1, 446.0: 1, 348.0: 1, 291.0: 1, 624.0: 1, 377.0: 1, 431.0: 1, 416.0: 1, 486.0: 1, 388.0: 1, 308.0: 1, 368.0: 1, 364.0: 1, 600.0: 1, 503.0: 1, 638.0: 1, 432.0: 1, 454.0: 1, 429.0: 1, 823.0: 1, 356.0: 1, 717.0: 1, 604.0: 1, 311.0: 1, 401.0: 1, 280.0: 1, 457.0: 1, 292.0: 1, 502.0: 1, 940.0: 1} \n",
      "\n",
      "Mode of the Arrival Delay in Minutes is [0.0] \n",
      " \n",
      "\n",
      "Unique values in column  satisfaction  :  ['neutral or dissatisfied' 'satisfied'] \n",
      "\n",
      "Frequency counts for column  satisfaction :\n",
      "{'neutral or dissatisfied': 60373, 'satisfied': 46205} \n",
      "\n",
      "Mode of the satisfaction is ['neutral or dissatisfied'] \n",
      " \n",
      "\n"
     ]
    }
   ],
   "source": [
    "columnnames = list(renamed_data.columns) # Get the column names of the DataFrame\n",
    " \n",
    " \n",
    "for column in columnnames: # Loop through each column to calculate unique value counts only for numeric columns\n",
    "    if \"id\" in column.lower() or \"index\" in column.lower(): # Skip columns containing 'id' or 'index' in the name\n",
    "        continue\n",
    "\n",
    "    if renamed_data[column].dtype in ['int64', 'float64', 'object']:# Check if the column is of type int or float\n",
    "        unique_values = dataset_new[column].unique()\n",
    "        frequency_counts = renamed_data[column].value_counts() # Get the frequency counts of unique values in the numeric column\n",
    "        column_mode = list(renamed_data[column].mode())\n",
    "\n",
    "        print(\"Unique values in column \" ,  column , \" : \",  unique_values, \"\\n\")\n",
    "        print(\"Frequency counts for column \",  column , \":\")# Print the frequency counts for the current column\n",
    "        print(dict(frequency_counts), \"\\n\")\n",
    "\n",
    "        print(\"Mode of the\" , column,  \"is\",column_mode , \"\\n\", \"\\n\")"
   ]
  },
  {
   "cell_type": "code",
   "execution_count": 23,
   "id": "09544fb5-c5b8-4014-8ea0-c60b7e4c92e2",
   "metadata": {},
   "outputs": [
    {
     "name": "stdout",
     "output_type": "stream",
     "text": [
      "\n",
      "RunTime:  1.6291210651397705\n"
     ]
    }
   ],
   "source": [
    "duration = time.time() - start #calculating the duration\n",
    "print(\"\\n\"\"RunTime: \",duration) #printing duration"
   ]
  },
  {
   "cell_type": "code",
   "execution_count": null,
   "id": "c7af350e",
   "metadata": {},
   "outputs": [],
   "source": []
  }
 ],
 "metadata": {
  "kernelspec": {
   "display_name": "Python 3 (ipykernel)",
   "language": "python",
   "name": "python3"
  },
  "language_info": {
   "codemirror_mode": {
    "name": "ipython",
    "version": 3
   },
   "file_extension": ".py",
   "mimetype": "text/x-python",
   "name": "python",
   "nbconvert_exporter": "python",
   "pygments_lexer": "ipython3",
   "version": "3.9.13"
  }
 },
 "nbformat": 4,
 "nbformat_minor": 5
}
