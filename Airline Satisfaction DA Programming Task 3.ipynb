{
 "cells": [
  {
   "cell_type": "markdown",
   "id": "7bf371ed-0e67-4fd7-bd85-824498c7df21",
   "metadata": {},
   "source": [
    "# Analysing the Airline Passenger Satisfactory Dataset using Numpy & Pandas\n"
   ]
  },
  {
   "cell_type": "markdown",
   "id": "36a11cb6-a845-433e-972b-41b0a5e68859",
   "metadata": {},
   "source": [
    "### Sumit Trivedi -- K00302092"
   ]
  },
  {
   "cell_type": "markdown",
   "id": "90ba52b5-acee-49c3-84b8-652d0e9470fd",
   "metadata": {},
   "source": [
    "#### Dataset link: https://www.kaggle.com/datasets/brsahan/e-commerce-dataset"
   ]
  },
  {
   "cell_type": "markdown",
   "id": "14ce9bae-1e54-4519-a799-4500d221d783",
   "metadata": {},
   "source": [
    "## TASK 3"
   ]
  },
  {
   "cell_type": "markdown",
   "id": "de1df73f-2c2e-4b99-a2ad-ec3c97fa1185",
   "metadata": {},
   "source": [
    "#### First step is to import pandas and numpy library "
   ]
  },
  {
   "cell_type": "code",
   "execution_count": 4,
   "id": "d1a42fda",
   "metadata": {},
   "outputs": [],
   "source": [
    "import pandas as pd\n",
    "import numpy as np\n",
    "import time"
   ]
  },
  {
   "cell_type": "markdown",
   "id": "b8749f53-5dce-420d-8920-a49f6efd78dd",
   "metadata": {},
   "source": [
    "#### Using the read_csv Function to read the Dataset."
   ]
  },
  {
   "cell_type": "code",
   "execution_count": 6,
   "id": "670ab2e7",
   "metadata": {},
   "outputs": [
    {
     "name": "stdout",
     "output_type": "stream",
     "text": [
      "\n",
      "RunTime:  0.01874709129333496\n"
     ]
    }
   ],
   "source": [
    "start = time.time() #starting time function\n",
    "\n",
    "data = pd.read_csv('realistic_e_commerce_sales_data.csv') #reading csv and storing it as data\n",
    "\n",
    "duration = time.time() - start #calculating the duration\n",
    "print(\"\\n\"\"RunTime: \",duration) #printing duration"
   ]
  },
  {
   "cell_type": "markdown",
   "id": "aa7a418d-7fb9-4336-bf32-9b217254f8fc",
   "metadata": {},
   "source": [
    "#### Now we will be printing the first 5 rows of our data."
   ]
  },
  {
   "cell_type": "code",
   "execution_count": 7,
   "id": "652b161c",
   "metadata": {},
   "outputs": [
    {
     "data": {
      "text/html": [
       "<div>\n",
       "<style scoped>\n",
       "    .dataframe tbody tr th:only-of-type {\n",
       "        vertical-align: middle;\n",
       "    }\n",
       "\n",
       "    .dataframe tbody tr th {\n",
       "        vertical-align: top;\n",
       "    }\n",
       "\n",
       "    .dataframe thead th {\n",
       "        text-align: right;\n",
       "    }\n",
       "</style>\n",
       "<table border=\"1\" class=\"dataframe\">\n",
       "  <thead>\n",
       "    <tr style=\"text-align: right;\">\n",
       "      <th></th>\n",
       "      <th>Customer ID</th>\n",
       "      <th>Gender</th>\n",
       "      <th>Region</th>\n",
       "      <th>Age</th>\n",
       "      <th>Product Name</th>\n",
       "      <th>Category</th>\n",
       "      <th>Unit Price</th>\n",
       "      <th>Quantity</th>\n",
       "      <th>Total Price</th>\n",
       "      <th>Shipping Fee</th>\n",
       "      <th>Shipping Status</th>\n",
       "      <th>Order Date</th>\n",
       "    </tr>\n",
       "  </thead>\n",
       "  <tbody>\n",
       "    <tr>\n",
       "      <th>0</th>\n",
       "      <td>CUST0268</td>\n",
       "      <td>Male</td>\n",
       "      <td>North</td>\n",
       "      <td>NaN</td>\n",
       "      <td>Monitor</td>\n",
       "      <td>Electronics</td>\n",
       "      <td>300.0</td>\n",
       "      <td>5</td>\n",
       "      <td>1500</td>\n",
       "      <td>13.31</td>\n",
       "      <td>Returned</td>\n",
       "      <td>2023-12-08</td>\n",
       "    </tr>\n",
       "    <tr>\n",
       "      <th>1</th>\n",
       "      <td>CUST0046</td>\n",
       "      <td>Male</td>\n",
       "      <td>West</td>\n",
       "      <td>22.0</td>\n",
       "      <td>Headphones</td>\n",
       "      <td>Accessories</td>\n",
       "      <td>100.0</td>\n",
       "      <td>2</td>\n",
       "      <td>200</td>\n",
       "      <td>6.93</td>\n",
       "      <td>In Transit</td>\n",
       "      <td>2023-04-09</td>\n",
       "    </tr>\n",
       "    <tr>\n",
       "      <th>2</th>\n",
       "      <td>CUST0169</td>\n",
       "      <td>Female</td>\n",
       "      <td>South</td>\n",
       "      <td>54.0</td>\n",
       "      <td>Monitor</td>\n",
       "      <td>Electronics</td>\n",
       "      <td>300.0</td>\n",
       "      <td>1</td>\n",
       "      <td>300</td>\n",
       "      <td>11.31</td>\n",
       "      <td>Returned</td>\n",
       "      <td>2023-08-28</td>\n",
       "    </tr>\n",
       "    <tr>\n",
       "      <th>3</th>\n",
       "      <td>CUST0002</td>\n",
       "      <td>Male</td>\n",
       "      <td>North</td>\n",
       "      <td>23.0</td>\n",
       "      <td>Headphones</td>\n",
       "      <td>Accessories</td>\n",
       "      <td>100.0</td>\n",
       "      <td>5</td>\n",
       "      <td>500</td>\n",
       "      <td>12.22</td>\n",
       "      <td>Delivered</td>\n",
       "      <td>2023-01-18</td>\n",
       "    </tr>\n",
       "    <tr>\n",
       "      <th>4</th>\n",
       "      <td>CUST0173</td>\n",
       "      <td>Female</td>\n",
       "      <td>South</td>\n",
       "      <td>NaN</td>\n",
       "      <td>Laptop</td>\n",
       "      <td>Electronics</td>\n",
       "      <td>1500.0</td>\n",
       "      <td>3</td>\n",
       "      <td>4500</td>\n",
       "      <td>5.40</td>\n",
       "      <td>Delivered</td>\n",
       "      <td>2023-01-19</td>\n",
       "    </tr>\n",
       "  </tbody>\n",
       "</table>\n",
       "</div>"
      ],
      "text/plain": [
       "  Customer ID  Gender Region   Age Product Name     Category  Unit Price  \\\n",
       "0    CUST0268    Male  North   NaN      Monitor  Electronics       300.0   \n",
       "1    CUST0046    Male   West  22.0   Headphones  Accessories       100.0   \n",
       "2    CUST0169  Female  South  54.0      Monitor  Electronics       300.0   \n",
       "3    CUST0002    Male  North  23.0   Headphones  Accessories       100.0   \n",
       "4    CUST0173  Female  South   NaN       Laptop  Electronics      1500.0   \n",
       "\n",
       "   Quantity  Total Price  Shipping Fee Shipping Status  Order Date  \n",
       "0         5         1500         13.31        Returned  2023-12-08  \n",
       "1         2          200          6.93      In Transit  2023-04-09  \n",
       "2         1          300         11.31        Returned  2023-08-28  \n",
       "3         5          500         12.22       Delivered  2023-01-18  \n",
       "4         3         4500          5.40       Delivered  2023-01-19  "
      ]
     },
     "execution_count": 7,
     "metadata": {},
     "output_type": "execute_result"
    }
   ],
   "source": [
    "data.head(5)"
   ]
  },
  {
   "cell_type": "markdown",
   "id": "c92c46e1-85b0-422f-b6a2-1c5c75b444d3",
   "metadata": {},
   "source": [
    "Checking the datatype of loaded dataset."
   ]
  },
  {
   "cell_type": "code",
   "execution_count": 8,
   "id": "a94d1c34",
   "metadata": {},
   "outputs": [
    {
     "data": {
      "text/plain": [
       "pandas.core.frame.DataFrame"
      ]
     },
     "execution_count": 8,
     "metadata": {},
     "output_type": "execute_result"
    }
   ],
   "source": [
    "type(data)"
   ]
  },
  {
   "cell_type": "markdown",
   "id": "cb9d5461-aab3-4729-bd4d-d48cc8af0787",
   "metadata": {},
   "source": [
    "#### Length of dataset or no of columns"
   ]
  },
  {
   "cell_type": "code",
   "execution_count": 9,
   "id": "68173ed7",
   "metadata": {},
   "outputs": [
    {
     "data": {
      "text/plain": [
       "12"
      ]
     },
     "execution_count": 9,
     "metadata": {},
     "output_type": "execute_result"
    }
   ],
   "source": [
    "data.shape[1]"
   ]
  },
  {
   "cell_type": "markdown",
   "id": "5f87663c-bb16-4cec-8131-bed759c366b5",
   "metadata": {},
   "source": [
    "#### Length of data or no of rows"
   ]
  },
  {
   "cell_type": "code",
   "execution_count": 10,
   "id": "b854192f",
   "metadata": {},
   "outputs": [
    {
     "data": {
      "text/plain": [
       "1000"
      ]
     },
     "execution_count": 10,
     "metadata": {},
     "output_type": "execute_result"
    }
   ],
   "source": [
    "len(data)"
   ]
  },
  {
   "cell_type": "markdown",
   "id": "ebc2ca1a-677d-4ff5-92a9-28659bc26f34",
   "metadata": {},
   "source": [
    "Reading the first element in our dataset."
   ]
  },
  {
   "cell_type": "code",
   "execution_count": 11,
   "id": "60790716",
   "metadata": {},
   "outputs": [
    {
     "ename": "KeyError",
     "evalue": "'id'",
     "output_type": "error",
     "traceback": [
      "\u001b[0;31m---------------------------------------------------------------------------\u001b[0m",
      "\u001b[0;31mKeyError\u001b[0m                                  Traceback (most recent call last)",
      "\u001b[0;32m~/opt/anaconda3/lib/python3.9/site-packages/pandas/core/indexes/base.py\u001b[0m in \u001b[0;36mget_loc\u001b[0;34m(self, key, method, tolerance)\u001b[0m\n\u001b[1;32m   3628\u001b[0m             \u001b[0;32mtry\u001b[0m\u001b[0;34m:\u001b[0m\u001b[0;34m\u001b[0m\u001b[0;34m\u001b[0m\u001b[0m\n\u001b[0;32m-> 3629\u001b[0;31m                 \u001b[0;32mreturn\u001b[0m \u001b[0mself\u001b[0m\u001b[0;34m.\u001b[0m\u001b[0m_engine\u001b[0m\u001b[0;34m.\u001b[0m\u001b[0mget_loc\u001b[0m\u001b[0;34m(\u001b[0m\u001b[0mcasted_key\u001b[0m\u001b[0;34m)\u001b[0m\u001b[0;34m\u001b[0m\u001b[0;34m\u001b[0m\u001b[0m\n\u001b[0m\u001b[1;32m   3630\u001b[0m             \u001b[0;32mexcept\u001b[0m \u001b[0mKeyError\u001b[0m \u001b[0;32mas\u001b[0m \u001b[0merr\u001b[0m\u001b[0;34m:\u001b[0m\u001b[0;34m\u001b[0m\u001b[0;34m\u001b[0m\u001b[0m\n",
      "\u001b[0;32m~/opt/anaconda3/lib/python3.9/site-packages/pandas/_libs/index.pyx\u001b[0m in \u001b[0;36mpandas._libs.index.IndexEngine.get_loc\u001b[0;34m()\u001b[0m\n",
      "\u001b[0;32m~/opt/anaconda3/lib/python3.9/site-packages/pandas/_libs/index.pyx\u001b[0m in \u001b[0;36mpandas._libs.index.IndexEngine.get_loc\u001b[0;34m()\u001b[0m\n",
      "\u001b[0;32mpandas/_libs/hashtable_class_helper.pxi\u001b[0m in \u001b[0;36mpandas._libs.hashtable.PyObjectHashTable.get_item\u001b[0;34m()\u001b[0m\n",
      "\u001b[0;32mpandas/_libs/hashtable_class_helper.pxi\u001b[0m in \u001b[0;36mpandas._libs.hashtable.PyObjectHashTable.get_item\u001b[0;34m()\u001b[0m\n",
      "\u001b[0;31mKeyError\u001b[0m: 'id'",
      "\nThe above exception was the direct cause of the following exception:\n",
      "\u001b[0;31mKeyError\u001b[0m                                  Traceback (most recent call last)",
      "\u001b[0;32m/var/folders/2d/gd1dhxgj3zn8xwpcnhj9q2180000gn/T/ipykernel_65564/2128898378.py\u001b[0m in \u001b[0;36m<module>\u001b[0;34m\u001b[0m\n\u001b[0;32m----> 1\u001b[0;31m \u001b[0mdata\u001b[0m\u001b[0;34m[\u001b[0m\u001b[0;34m\"id\"\u001b[0m\u001b[0;34m]\u001b[0m\u001b[0;34m\u001b[0m\u001b[0;34m\u001b[0m\u001b[0m\n\u001b[0m",
      "\u001b[0;32m~/opt/anaconda3/lib/python3.9/site-packages/pandas/core/frame.py\u001b[0m in \u001b[0;36m__getitem__\u001b[0;34m(self, key)\u001b[0m\n\u001b[1;32m   3503\u001b[0m             \u001b[0;32mif\u001b[0m \u001b[0mself\u001b[0m\u001b[0;34m.\u001b[0m\u001b[0mcolumns\u001b[0m\u001b[0;34m.\u001b[0m\u001b[0mnlevels\u001b[0m \u001b[0;34m>\u001b[0m \u001b[0;36m1\u001b[0m\u001b[0;34m:\u001b[0m\u001b[0;34m\u001b[0m\u001b[0;34m\u001b[0m\u001b[0m\n\u001b[1;32m   3504\u001b[0m                 \u001b[0;32mreturn\u001b[0m \u001b[0mself\u001b[0m\u001b[0;34m.\u001b[0m\u001b[0m_getitem_multilevel\u001b[0m\u001b[0;34m(\u001b[0m\u001b[0mkey\u001b[0m\u001b[0;34m)\u001b[0m\u001b[0;34m\u001b[0m\u001b[0;34m\u001b[0m\u001b[0m\n\u001b[0;32m-> 3505\u001b[0;31m             \u001b[0mindexer\u001b[0m \u001b[0;34m=\u001b[0m \u001b[0mself\u001b[0m\u001b[0;34m.\u001b[0m\u001b[0mcolumns\u001b[0m\u001b[0;34m.\u001b[0m\u001b[0mget_loc\u001b[0m\u001b[0;34m(\u001b[0m\u001b[0mkey\u001b[0m\u001b[0;34m)\u001b[0m\u001b[0;34m\u001b[0m\u001b[0;34m\u001b[0m\u001b[0m\n\u001b[0m\u001b[1;32m   3506\u001b[0m             \u001b[0;32mif\u001b[0m \u001b[0mis_integer\u001b[0m\u001b[0;34m(\u001b[0m\u001b[0mindexer\u001b[0m\u001b[0;34m)\u001b[0m\u001b[0;34m:\u001b[0m\u001b[0;34m\u001b[0m\u001b[0;34m\u001b[0m\u001b[0m\n\u001b[1;32m   3507\u001b[0m                 \u001b[0mindexer\u001b[0m \u001b[0;34m=\u001b[0m \u001b[0;34m[\u001b[0m\u001b[0mindexer\u001b[0m\u001b[0;34m]\u001b[0m\u001b[0;34m\u001b[0m\u001b[0;34m\u001b[0m\u001b[0m\n",
      "\u001b[0;32m~/opt/anaconda3/lib/python3.9/site-packages/pandas/core/indexes/base.py\u001b[0m in \u001b[0;36mget_loc\u001b[0;34m(self, key, method, tolerance)\u001b[0m\n\u001b[1;32m   3629\u001b[0m                 \u001b[0;32mreturn\u001b[0m \u001b[0mself\u001b[0m\u001b[0;34m.\u001b[0m\u001b[0m_engine\u001b[0m\u001b[0;34m.\u001b[0m\u001b[0mget_loc\u001b[0m\u001b[0;34m(\u001b[0m\u001b[0mcasted_key\u001b[0m\u001b[0;34m)\u001b[0m\u001b[0;34m\u001b[0m\u001b[0;34m\u001b[0m\u001b[0m\n\u001b[1;32m   3630\u001b[0m             \u001b[0;32mexcept\u001b[0m \u001b[0mKeyError\u001b[0m \u001b[0;32mas\u001b[0m \u001b[0merr\u001b[0m\u001b[0;34m:\u001b[0m\u001b[0;34m\u001b[0m\u001b[0;34m\u001b[0m\u001b[0m\n\u001b[0;32m-> 3631\u001b[0;31m                 \u001b[0;32mraise\u001b[0m \u001b[0mKeyError\u001b[0m\u001b[0;34m(\u001b[0m\u001b[0mkey\u001b[0m\u001b[0;34m)\u001b[0m \u001b[0;32mfrom\u001b[0m \u001b[0merr\u001b[0m\u001b[0;34m\u001b[0m\u001b[0;34m\u001b[0m\u001b[0m\n\u001b[0m\u001b[1;32m   3632\u001b[0m             \u001b[0;32mexcept\u001b[0m \u001b[0mTypeError\u001b[0m\u001b[0;34m:\u001b[0m\u001b[0;34m\u001b[0m\u001b[0;34m\u001b[0m\u001b[0m\n\u001b[1;32m   3633\u001b[0m                 \u001b[0;31m# If we have a listlike key, _check_indexing_error will raise\u001b[0m\u001b[0;34m\u001b[0m\u001b[0;34m\u001b[0m\u001b[0m\n",
      "\u001b[0;31mKeyError\u001b[0m: 'id'"
     ]
    }
   ],
   "source": [
    "data[\"id\"]"
   ]
  },
  {
   "cell_type": "markdown",
   "id": "e7562258-15d0-42a3-8fa1-e22c3fee5130",
   "metadata": {},
   "source": [
    "#### Printing our dataset"
   ]
  },
  {
   "cell_type": "code",
   "execution_count": 12,
   "id": "602177e6",
   "metadata": {},
   "outputs": [
    {
     "data": {
      "text/html": [
       "<div>\n",
       "<style scoped>\n",
       "    .dataframe tbody tr th:only-of-type {\n",
       "        vertical-align: middle;\n",
       "    }\n",
       "\n",
       "    .dataframe tbody tr th {\n",
       "        vertical-align: top;\n",
       "    }\n",
       "\n",
       "    .dataframe thead th {\n",
       "        text-align: right;\n",
       "    }\n",
       "</style>\n",
       "<table border=\"1\" class=\"dataframe\">\n",
       "  <thead>\n",
       "    <tr style=\"text-align: right;\">\n",
       "      <th></th>\n",
       "      <th>Customer ID</th>\n",
       "      <th>Gender</th>\n",
       "      <th>Region</th>\n",
       "      <th>Age</th>\n",
       "      <th>Product Name</th>\n",
       "      <th>Category</th>\n",
       "      <th>Unit Price</th>\n",
       "      <th>Quantity</th>\n",
       "      <th>Total Price</th>\n",
       "      <th>Shipping Fee</th>\n",
       "      <th>Shipping Status</th>\n",
       "      <th>Order Date</th>\n",
       "    </tr>\n",
       "  </thead>\n",
       "  <tbody>\n",
       "    <tr>\n",
       "      <th>0</th>\n",
       "      <td>CUST0268</td>\n",
       "      <td>Male</td>\n",
       "      <td>North</td>\n",
       "      <td>NaN</td>\n",
       "      <td>Monitor</td>\n",
       "      <td>Electronics</td>\n",
       "      <td>300.0</td>\n",
       "      <td>5</td>\n",
       "      <td>1500</td>\n",
       "      <td>13.31</td>\n",
       "      <td>Returned</td>\n",
       "      <td>2023-12-08</td>\n",
       "    </tr>\n",
       "    <tr>\n",
       "      <th>1</th>\n",
       "      <td>CUST0046</td>\n",
       "      <td>Male</td>\n",
       "      <td>West</td>\n",
       "      <td>22.0</td>\n",
       "      <td>Headphones</td>\n",
       "      <td>Accessories</td>\n",
       "      <td>100.0</td>\n",
       "      <td>2</td>\n",
       "      <td>200</td>\n",
       "      <td>6.93</td>\n",
       "      <td>In Transit</td>\n",
       "      <td>2023-04-09</td>\n",
       "    </tr>\n",
       "    <tr>\n",
       "      <th>2</th>\n",
       "      <td>CUST0169</td>\n",
       "      <td>Female</td>\n",
       "      <td>South</td>\n",
       "      <td>54.0</td>\n",
       "      <td>Monitor</td>\n",
       "      <td>Electronics</td>\n",
       "      <td>300.0</td>\n",
       "      <td>1</td>\n",
       "      <td>300</td>\n",
       "      <td>11.31</td>\n",
       "      <td>Returned</td>\n",
       "      <td>2023-08-28</td>\n",
       "    </tr>\n",
       "    <tr>\n",
       "      <th>3</th>\n",
       "      <td>CUST0002</td>\n",
       "      <td>Male</td>\n",
       "      <td>North</td>\n",
       "      <td>23.0</td>\n",
       "      <td>Headphones</td>\n",
       "      <td>Accessories</td>\n",
       "      <td>100.0</td>\n",
       "      <td>5</td>\n",
       "      <td>500</td>\n",
       "      <td>12.22</td>\n",
       "      <td>Delivered</td>\n",
       "      <td>2023-01-18</td>\n",
       "    </tr>\n",
       "    <tr>\n",
       "      <th>4</th>\n",
       "      <td>CUST0173</td>\n",
       "      <td>Female</td>\n",
       "      <td>South</td>\n",
       "      <td>NaN</td>\n",
       "      <td>Laptop</td>\n",
       "      <td>Electronics</td>\n",
       "      <td>1500.0</td>\n",
       "      <td>3</td>\n",
       "      <td>4500</td>\n",
       "      <td>5.40</td>\n",
       "      <td>Delivered</td>\n",
       "      <td>2023-01-19</td>\n",
       "    </tr>\n",
       "    <tr>\n",
       "      <th>...</th>\n",
       "      <td>...</td>\n",
       "      <td>...</td>\n",
       "      <td>...</td>\n",
       "      <td>...</td>\n",
       "      <td>...</td>\n",
       "      <td>...</td>\n",
       "      <td>...</td>\n",
       "      <td>...</td>\n",
       "      <td>...</td>\n",
       "      <td>...</td>\n",
       "      <td>...</td>\n",
       "      <td>...</td>\n",
       "    </tr>\n",
       "    <tr>\n",
       "      <th>995</th>\n",
       "      <td>CUST0201</td>\n",
       "      <td>Female</td>\n",
       "      <td>South</td>\n",
       "      <td>49.0</td>\n",
       "      <td>Headphones</td>\n",
       "      <td>Accessories</td>\n",
       "      <td>100.0</td>\n",
       "      <td>1</td>\n",
       "      <td>100</td>\n",
       "      <td>17.21</td>\n",
       "      <td>In Transit</td>\n",
       "      <td>2023-01-05</td>\n",
       "    </tr>\n",
       "    <tr>\n",
       "      <th>996</th>\n",
       "      <td>CUST0133</td>\n",
       "      <td>Male</td>\n",
       "      <td>East</td>\n",
       "      <td>47.0</td>\n",
       "      <td>Laptop</td>\n",
       "      <td>Electronics</td>\n",
       "      <td>1500.0</td>\n",
       "      <td>1</td>\n",
       "      <td>1500</td>\n",
       "      <td>19.19</td>\n",
       "      <td>Delivered</td>\n",
       "      <td>2023-04-01</td>\n",
       "    </tr>\n",
       "    <tr>\n",
       "      <th>997</th>\n",
       "      <td>CUST0055</td>\n",
       "      <td>Female</td>\n",
       "      <td>North</td>\n",
       "      <td>NaN</td>\n",
       "      <td>Mouse</td>\n",
       "      <td>Accessories</td>\n",
       "      <td>30.0</td>\n",
       "      <td>5</td>\n",
       "      <td>150</td>\n",
       "      <td>19.35</td>\n",
       "      <td>Delivered</td>\n",
       "      <td>2023-10-20</td>\n",
       "    </tr>\n",
       "    <tr>\n",
       "      <th>998</th>\n",
       "      <td>CUST0023</td>\n",
       "      <td>Female</td>\n",
       "      <td>South</td>\n",
       "      <td>29.0</td>\n",
       "      <td>Laptop</td>\n",
       "      <td>Electronics</td>\n",
       "      <td>1500.0</td>\n",
       "      <td>5</td>\n",
       "      <td>7500</td>\n",
       "      <td>10.36</td>\n",
       "      <td>Returned</td>\n",
       "      <td>2023-01-07</td>\n",
       "    </tr>\n",
       "    <tr>\n",
       "      <th>999</th>\n",
       "      <td>CUST0040</td>\n",
       "      <td>Male</td>\n",
       "      <td>NaN</td>\n",
       "      <td>29.0</td>\n",
       "      <td>Smartwatch</td>\n",
       "      <td>Wearables</td>\n",
       "      <td>200.0</td>\n",
       "      <td>1</td>\n",
       "      <td>200</td>\n",
       "      <td>7.53</td>\n",
       "      <td>Delivered</td>\n",
       "      <td>2023-01-30</td>\n",
       "    </tr>\n",
       "  </tbody>\n",
       "</table>\n",
       "<p>1000 rows × 12 columns</p>\n",
       "</div>"
      ],
      "text/plain": [
       "    Customer ID  Gender Region   Age Product Name     Category  Unit Price  \\\n",
       "0      CUST0268    Male  North   NaN      Monitor  Electronics       300.0   \n",
       "1      CUST0046    Male   West  22.0   Headphones  Accessories       100.0   \n",
       "2      CUST0169  Female  South  54.0      Monitor  Electronics       300.0   \n",
       "3      CUST0002    Male  North  23.0   Headphones  Accessories       100.0   \n",
       "4      CUST0173  Female  South   NaN       Laptop  Electronics      1500.0   \n",
       "..          ...     ...    ...   ...          ...          ...         ...   \n",
       "995    CUST0201  Female  South  49.0   Headphones  Accessories       100.0   \n",
       "996    CUST0133    Male   East  47.0       Laptop  Electronics      1500.0   \n",
       "997    CUST0055  Female  North   NaN        Mouse  Accessories        30.0   \n",
       "998    CUST0023  Female  South  29.0       Laptop  Electronics      1500.0   \n",
       "999    CUST0040    Male    NaN  29.0   Smartwatch    Wearables       200.0   \n",
       "\n",
       "     Quantity  Total Price  Shipping Fee Shipping Status  Order Date  \n",
       "0           5         1500         13.31        Returned  2023-12-08  \n",
       "1           2          200          6.93      In Transit  2023-04-09  \n",
       "2           1          300         11.31        Returned  2023-08-28  \n",
       "3           5          500         12.22       Delivered  2023-01-18  \n",
       "4           3         4500          5.40       Delivered  2023-01-19  \n",
       "..        ...          ...           ...             ...         ...  \n",
       "995         1          100         17.21      In Transit  2023-01-05  \n",
       "996         1         1500         19.19       Delivered  2023-04-01  \n",
       "997         5          150         19.35       Delivered  2023-10-20  \n",
       "998         5         7500         10.36        Returned  2023-01-07  \n",
       "999         1          200          7.53       Delivered  2023-01-30  \n",
       "\n",
       "[1000 rows x 12 columns]"
      ]
     },
     "execution_count": 12,
     "metadata": {},
     "output_type": "execute_result"
    }
   ],
   "source": [
    "data"
   ]
  },
  {
   "cell_type": "markdown",
   "id": "a47914b2",
   "metadata": {},
   "source": [
    "#### Number of Rows in the dataset"
   ]
  },
  {
   "cell_type": "code",
   "execution_count": 13,
   "id": "418f8360",
   "metadata": {},
   "outputs": [
    {
     "name": "stdout",
     "output_type": "stream",
     "text": [
      "Total Number of Rows :-  1000\n"
     ]
    }
   ],
   "source": [
    "Total_Number_of_Rows = len(data)\n",
    "\n",
    "print(\"Total Number of Rows :- \", Total_Number_of_Rows)"
   ]
  },
  {
   "cell_type": "markdown",
   "id": "fcb16e5f",
   "metadata": {},
   "source": [
    "#### Number of Columns in the dataset"
   ]
  },
  {
   "cell_type": "code",
   "execution_count": 14,
   "id": "1920789a",
   "metadata": {},
   "outputs": [
    {
     "name": "stdout",
     "output_type": "stream",
     "text": [
      "Total Number of Columns :-  12\n"
     ]
    }
   ],
   "source": [
    "Total_Number_of_Column = data.shape[1]\n",
    "\n",
    "print(\"Total Number of Columns :- \" , Total_Number_of_Column)"
   ]
  },
  {
   "cell_type": "markdown",
   "id": "e684c86f-0914-4827-8283-849ae3ededa9",
   "metadata": {},
   "source": [
    "#### Column names are :"
   ]
  },
  {
   "cell_type": "code",
   "execution_count": 15,
   "id": "28279b35",
   "metadata": {},
   "outputs": [
    {
     "data": {
      "text/plain": [
       "Index(['Customer ID', 'Gender', 'Region', 'Age', 'Product Name', 'Category',\n",
       "       'Unit Price', 'Quantity', 'Total Price', 'Shipping Fee',\n",
       "       'Shipping Status', 'Order Date'],\n",
       "      dtype='object')"
      ]
     },
     "execution_count": 15,
     "metadata": {},
     "output_type": "execute_result"
    }
   ],
   "source": [
    "data.columns"
   ]
  },
  {
   "cell_type": "markdown",
   "id": "59e20087-6920-40d7-866d-3c452dd277b4",
   "metadata": {},
   "source": [
    "If the first column name is blank then the column name will be assigned as Index"
   ]
  },
  {
   "cell_type": "code",
   "execution_count": 16,
   "id": "d94cc68e",
   "metadata": {},
   "outputs": [
    {
     "data": {
      "text/plain": [
       "Index(['Customer ID', 'Gender', 'Region', 'Age', 'Product Name', 'Category',\n",
       "       'Unit Price', 'Quantity', 'Total Price', 'Shipping Fee',\n",
       "       'Shipping Status', 'Order Date'],\n",
       "      dtype='object')"
      ]
     },
     "execution_count": 16,
     "metadata": {},
     "output_type": "execute_result"
    }
   ],
   "source": [
    "renamed_data = data.rename(columns ={'Unnamed: 0' : 'Index'})\n",
    "\n",
    "renamed_data.columns"
   ]
  },
  {
   "cell_type": "markdown",
   "id": "e5006e68-c0cd-4829-9e9a-5c877964f28f",
   "metadata": {},
   "source": [
    "#### Checking the datatype of values in columns"
   ]
  },
  {
   "cell_type": "code",
   "execution_count": 17,
   "id": "0018849c",
   "metadata": {},
   "outputs": [
    {
     "data": {
      "text/plain": [
       "Customer ID         object\n",
       "Gender              object\n",
       "Region              object\n",
       "Age                float64\n",
       "Product Name        object\n",
       "Category            object\n",
       "Unit Price         float64\n",
       "Quantity             int64\n",
       "Total Price          int64\n",
       "Shipping Fee       float64\n",
       "Shipping Status     object\n",
       "Order Date          object\n",
       "dtype: object"
      ]
     },
     "execution_count": 17,
     "metadata": {},
     "output_type": "execute_result"
    }
   ],
   "source": [
    "renamed_data.dtypes"
   ]
  },
  {
   "cell_type": "markdown",
   "id": "f8877dac-461f-47d8-8191-b9ffb483c984",
   "metadata": {},
   "source": [
    "#### Checking for missing values"
   ]
  },
  {
   "cell_type": "code",
   "execution_count": 18,
   "id": "b24a0c3b",
   "metadata": {},
   "outputs": [
    {
     "data": {
      "text/plain": [
       "Customer ID          0\n",
       "Gender               0\n",
       "Region              50\n",
       "Age                100\n",
       "Product Name         0\n",
       "Category             0\n",
       "Unit Price           0\n",
       "Quantity             0\n",
       "Total Price          0\n",
       "Shipping Fee         0\n",
       "Shipping Status     50\n",
       "Order Date           0\n",
       "dtype: int64"
      ]
     },
     "execution_count": 18,
     "metadata": {},
     "output_type": "execute_result"
    }
   ],
   "source": [
    "renamed_data.isna().sum()"
   ]
  },
  {
   "cell_type": "markdown",
   "id": "ccf6c4ab-4032-42ca-82e2-b5a2f04cca8a",
   "metadata": {},
   "source": [
    "#### Replacing the missing values with zero."
   ]
  },
  {
   "cell_type": "code",
   "execution_count": 19,
   "id": "d9ae672b",
   "metadata": {},
   "outputs": [],
   "source": [
    "dataset_new = renamed_data.fillna(value = 0)"
   ]
  },
  {
   "cell_type": "markdown",
   "id": "b588ec33-dfac-4ad4-a4b1-4f95c1fd6e64",
   "metadata": {},
   "source": [
    "#### Validating"
   ]
  },
  {
   "cell_type": "code",
   "execution_count": 20,
   "id": "5064dfe2",
   "metadata": {},
   "outputs": [
    {
     "data": {
      "text/plain": [
       "Customer ID        0\n",
       "Gender             0\n",
       "Region             0\n",
       "Age                0\n",
       "Product Name       0\n",
       "Category           0\n",
       "Unit Price         0\n",
       "Quantity           0\n",
       "Total Price        0\n",
       "Shipping Fee       0\n",
       "Shipping Status    0\n",
       "Order Date         0\n",
       "dtype: int64"
      ]
     },
     "execution_count": 20,
     "metadata": {},
     "output_type": "execute_result"
    }
   ],
   "source": [
    "dataset_new.isna().sum()"
   ]
  },
  {
   "cell_type": "markdown",
   "id": "a8f92195-6040-4e90-b543-87a560433f68",
   "metadata": {},
   "source": [
    "### Deep Dive Into Summary Statistics"
   ]
  },
  {
   "cell_type": "markdown",
   "id": "bbbd4e23",
   "metadata": {},
   "source": [
    "##### .describe() gives the summary stats of the dataset i.e total count, mean, stadard deviation , minimum value , maximum value, and percentile values as well.\n",
    "##### making it easier for us to analyse the dataset."
   ]
  },
  {
   "cell_type": "code",
   "execution_count": 21,
   "id": "8aaaf387",
   "metadata": {},
   "outputs": [
    {
     "data": {
      "text/html": [
       "<div>\n",
       "<style scoped>\n",
       "    .dataframe tbody tr th:only-of-type {\n",
       "        vertical-align: middle;\n",
       "    }\n",
       "\n",
       "    .dataframe tbody tr th {\n",
       "        vertical-align: top;\n",
       "    }\n",
       "\n",
       "    .dataframe thead th {\n",
       "        text-align: right;\n",
       "    }\n",
       "</style>\n",
       "<table border=\"1\" class=\"dataframe\">\n",
       "  <thead>\n",
       "    <tr style=\"text-align: right;\">\n",
       "      <th></th>\n",
       "      <th>Age</th>\n",
       "      <th>Unit Price</th>\n",
       "      <th>Quantity</th>\n",
       "      <th>Total Price</th>\n",
       "      <th>Shipping Fee</th>\n",
       "    </tr>\n",
       "  </thead>\n",
       "  <tbody>\n",
       "    <tr>\n",
       "      <th>count</th>\n",
       "      <td>1000.000000</td>\n",
       "      <td>1000.000000</td>\n",
       "      <td>1000.000000</td>\n",
       "      <td>1000.000000</td>\n",
       "      <td>1000.000000</td>\n",
       "    </tr>\n",
       "    <tr>\n",
       "      <th>mean</th>\n",
       "      <td>42.026000</td>\n",
       "      <td>457.703777</td>\n",
       "      <td>3.008000</td>\n",
       "      <td>1346.600000</td>\n",
       "      <td>12.416390</td>\n",
       "    </tr>\n",
       "    <tr>\n",
       "      <th>std</th>\n",
       "      <td>19.980604</td>\n",
       "      <td>537.231434</td>\n",
       "      <td>1.404246</td>\n",
       "      <td>1834.037877</td>\n",
       "      <td>4.412185</td>\n",
       "    </tr>\n",
       "    <tr>\n",
       "      <th>min</th>\n",
       "      <td>0.000000</td>\n",
       "      <td>30.000000</td>\n",
       "      <td>1.000000</td>\n",
       "      <td>30.000000</td>\n",
       "      <td>5.000000</td>\n",
       "    </tr>\n",
       "    <tr>\n",
       "      <th>25%</th>\n",
       "      <td>29.000000</td>\n",
       "      <td>50.000000</td>\n",
       "      <td>2.000000</td>\n",
       "      <td>200.000000</td>\n",
       "      <td>8.560000</td>\n",
       "    </tr>\n",
       "    <tr>\n",
       "      <th>50%</th>\n",
       "      <td>45.000000</td>\n",
       "      <td>200.000000</td>\n",
       "      <td>3.000000</td>\n",
       "      <td>600.000000</td>\n",
       "      <td>12.315000</td>\n",
       "    </tr>\n",
       "    <tr>\n",
       "      <th>75%</th>\n",
       "      <td>58.000000</td>\n",
       "      <td>800.000000</td>\n",
       "      <td>4.000000</td>\n",
       "      <td>1500.000000</td>\n",
       "      <td>16.075000</td>\n",
       "    </tr>\n",
       "    <tr>\n",
       "      <th>max</th>\n",
       "      <td>69.000000</td>\n",
       "      <td>3109.560612</td>\n",
       "      <td>5.000000</td>\n",
       "      <td>7500.000000</td>\n",
       "      <td>19.980000</td>\n",
       "    </tr>\n",
       "  </tbody>\n",
       "</table>\n",
       "</div>"
      ],
      "text/plain": [
       "               Age   Unit Price     Quantity  Total Price  Shipping Fee\n",
       "count  1000.000000  1000.000000  1000.000000  1000.000000   1000.000000\n",
       "mean     42.026000   457.703777     3.008000  1346.600000     12.416390\n",
       "std      19.980604   537.231434     1.404246  1834.037877      4.412185\n",
       "min       0.000000    30.000000     1.000000    30.000000      5.000000\n",
       "25%      29.000000    50.000000     2.000000   200.000000      8.560000\n",
       "50%      45.000000   200.000000     3.000000   600.000000     12.315000\n",
       "75%      58.000000   800.000000     4.000000  1500.000000     16.075000\n",
       "max      69.000000  3109.560612     5.000000  7500.000000     19.980000"
      ]
     },
     "execution_count": 21,
     "metadata": {},
     "output_type": "execute_result"
    }
   ],
   "source": [
    "dataset_new.describe()\n"
   ]
  },
  {
   "cell_type": "markdown",
   "id": "ea3f34db",
   "metadata": {},
   "source": [
    "##### Printing the Unique values their,  count and mode for each column in our dataset."
   ]
  },
  {
   "cell_type": "code",
   "execution_count": 22,
   "id": "b1094404-ce98-4e31-bec4-a0a5a68ae395",
   "metadata": {},
   "outputs": [
    {
     "name": "stdout",
     "output_type": "stream",
     "text": [
      "Unique values in column  Gender  :  ['Male' 'Female'] \n",
      "\n",
      "Frequency counts for column  Gender :\n",
      "{'Male': 524, 'Female': 476} \n",
      "\n",
      "Mode of the Gender is ['Male'] \n",
      " \n",
      "\n",
      "Unique values in column  Region  :  ['North' 'West' 'South' 'East' 0] \n",
      "\n",
      "Frequency counts for column  Region :\n",
      "{'West': 246, 'South': 244, 'East': 231, 'North': 229} \n",
      "\n",
      "Mode of the Region is ['West'] \n",
      " \n",
      "\n",
      "Unique values in column  Age  :  [ 0. 22. 54. 23. 64. 27. 18. 29. 49. 67. 41. 60. 66. 36. 57. 30. 32. 59.\n",
      " 37. 52. 58. 25. 31. 28. 53. 35. 43. 61. 19. 38. 44. 68. 42. 51. 46. 62.\n",
      " 33. 24. 21. 50. 48. 63. 47. 45. 40. 55. 69. 26. 20. 65. 39. 56. 34.] \n",
      "\n",
      "Frequency counts for column  Age :\n",
      "{66.0: 38, 57.0: 34, 54.0: 33, 67.0: 31, 64.0: 30, 58.0: 27, 44.0: 25, 68.0: 25, 41.0: 25, 51.0: 24, 37.0: 23, 50.0: 23, 38.0: 23, 69.0: 22, 52.0: 21, 30.0: 21, 61.0: 20, 33.0: 18, 49.0: 18, 29.0: 18, 18.0: 18, 26.0: 17, 55.0: 17, 63.0: 17, 32.0: 16, 46.0: 16, 53.0: 16, 42.0: 16, 40.0: 15, 19.0: 15, 27.0: 15, 65.0: 14, 25.0: 14, 59.0: 14, 60.0: 14, 56.0: 14, 20.0: 13, 35.0: 13, 36.0: 13, 23.0: 13, 21.0: 12, 45.0: 11, 22.0: 11, 43.0: 11, 39.0: 10, 47.0: 9, 48.0: 9, 62.0: 9, 28.0: 8, 34.0: 5, 31.0: 4, 24.0: 2} \n",
      "\n",
      "Mode of the Age is [66.0] \n",
      " \n",
      "\n",
      "Unique values in column  Product Name  :  ['Monitor' 'Headphones' 'Laptop' 'Smartwatch' 'Keyboard' 'Mouse'\n",
      " 'Smartphone'] \n",
      "\n",
      "Frequency counts for column  Product Name :\n",
      "{'Monitor': 181, 'Laptop': 154, 'Keyboard': 145, 'Smartphone': 142, 'Mouse': 136, 'Smartwatch': 122, 'Headphones': 120} \n",
      "\n",
      "Mode of the Product Name is ['Monitor'] \n",
      " \n",
      "\n",
      "Unique values in column  Category  :  ['Electronics' 'Accessories' 'Wearables'] \n",
      "\n",
      "Frequency counts for column  Category :\n",
      "{'Electronics': 477, 'Accessories': 401, 'Wearables': 122} \n",
      "\n",
      "Mode of the Category is ['Electronics'] \n",
      " \n",
      "\n",
      "Unique values in column  Unit Price  :  [ 300.          100.         1500.          200.           50.\n",
      "   30.          800.         1658.43232666   62.19121225  103.65202042\n",
      "  621.9121225   207.30404083 3109.56061249] \n",
      "\n",
      "Frequency counts for column  Unit Price :\n",
      "{300.0: 176, 1500.0: 150, 50.0: 143, 800.0: 139, 30.0: 132, 200.0: 122, 100.0: 118, 621.9121224973303: 5, 62.19121224973304: 4, 3109.560612486652: 4, 1658.4323266595477: 3, 103.65202041622172: 2, 207.30404083244343: 2} \n",
      "\n",
      "Mode of the Unit Price is [300.0] \n",
      " \n",
      "\n",
      "Unique values in column  Quantity  :  [5 2 1 3 4] \n",
      "\n",
      "Frequency counts for column  Quantity :\n",
      "{3: 212, 4: 201, 5: 197, 1: 197, 2: 193} \n",
      "\n",
      "Mode of the Quantity is [3] \n",
      " \n",
      "\n",
      "Unique values in column  Total Price  :  [1500  200  300  500 4500  400  100   30   90  250  600 6000 1600 1000\n",
      " 1200 4000 3200   50  800  150  900 3000 7500   60  120 2400] \n",
      "\n",
      "Frequency counts for column  Total Price :\n",
      "{200: 90, 300: 70, 600: 69, 1500: 58, 150: 55, 800: 47, 400: 44, 100: 42, 900: 39, 1200: 36, 7500: 33, 90: 32, 4000: 32, 3200: 32, 6000: 31, 250: 29, 3000: 29, 4500: 28, 30: 28, 60: 27, 1000: 26, 500: 26, 2400: 26, 50: 24, 1600: 24, 120: 23} \n",
      "\n",
      "Mode of the Total Price is [200] \n",
      " \n",
      "\n",
      "Unique values in column  Shipping Fee  :  [13.31  6.93 11.31 12.22  5.4  11.26 18.38 15.08  8.22 10.7   9.8   5.65\n",
      "  7.13 10.91 11.36  7.89 10.92 11.44  7.16 17.37 12.17 19.41  6.97 12.\n",
      " 18.11  9.6  11.59 14.9  19.22 15.31 12.38 12.91  7.41 11.42  6.55  9.72\n",
      " 18.27  6.01  9.57 13.82  5.32  7.46 17.22  8.15  9.56 18.09  7.01 12.58\n",
      " 13.49 18.15  7.43  5.42 10.62 19.72 12.79  5.16 11.65 19.69 17.27 14.88\n",
      "  8.49  7.71 13.7  17.98 13.06 11.79 19.12  6.17 15.95 10.89  9.22 17.76\n",
      " 13.28 11.29 19.04 10.07  6.53  9.82  8.64  7.77  7.4  11.41  5.66  5.71\n",
      " 13.68 18.29  6.31 13.15 16.23 14.53 11.25 11.11 18.98 18.47 18.5  15.74\n",
      " 18.2  17.94 16.51  9.97  6.85 14.04  6.37 18.66  7.78  6.16  6.92 15.12\n",
      " 16.86 18.76  6.68 11.69 19.28 16.04  6.08 12.64 16.82  9.18 15.3  13.84\n",
      " 13.86 14.23  6.09 19.98 11.1  12.63 10.18 10.16  6.03  6.06  9.21  5.09\n",
      "  8.39  8.59  9.98  7.58  5.69 16.61 18.89 19.81 14.5  16.41  7.32 10.81\n",
      " 13.95  9.55 13.87 10.96  6.45 13.79 16.42  7.99 16.62  6.   16.34  5.07\n",
      "  7.5  15.78 15.92 11.09 18.6  16.45 19.62  8.87 16.58 14.7  11.4  19.08\n",
      "  5.56  5.73  7.11 18.61 13.77 14.78 13.6  15.5  16.96 11.66 11.24  6.27\n",
      " 16.09  8.24 17.91 18.88  7.22  5.05 19.84 16.28 17.36  9.59 16.11  9.48\n",
      " 18.44  8.43  7.38  8.97 11.64 15.13 11.21  5.18  7.93 10.41  9.45  9.01\n",
      " 11.12 19.89 18.55 11.89 14.12  7.56 11.39 10.49 17.92 12.36 19.1  10.03\n",
      "  5.    9.92 18.32  8.82 16.84  8.25 14.61 15.94 16.49  6.66 11.04 11.98\n",
      "  5.93 19.43  8.23 18.58 13.16  8.51 10.82 17.62  9.07 11.27  6.9   7.31\n",
      " 15.29 12.68 19.54 17.82 10.01 18.99  8.36 15.   16.05 12.3  12.03 11.56\n",
      " 17.43 13.57 10.21 18.75 16.7  14.67 18.   10.04 10.23  8.56 10.52  9.19\n",
      " 19.58 15.61 13.78 15.68 14.86 13.34  5.02 18.56 14.22 13.85 18.37 19.63\n",
      "  5.64 15.14 14.02 17.9  13.02  6.25  9.94 10.36  8.45 19.07  8.76  6.43\n",
      " 19.19 11.17 10.65 14.36 11.92 13.43 16.2   7.21  9.87 13.33 19.2  17.61\n",
      " 17.66 14.45 19.17 18.63  5.26 15.69  8.58 11.95  7.86 12.67 16.31 18.24\n",
      " 11.88  5.53  8.01 19.24  7.    6.94  6.62 19.87 10.09  6.22  7.66  5.82\n",
      " 18.4  15.36 16.88 19.94 10.32  7.33  6.41 12.86 13.13 17.21  7.81  5.44\n",
      " 15.79  5.72  9.69 19.31 10.99 16.12  8.71 12.26 19.34 18.81 14.91  5.6\n",
      "  5.25 15.22 15.57  8.03 16.68 12.44  6.39 11.72 14.27 15.91 16.01 19.44\n",
      "  7.34 13.21 11.03 10.43 12.71 12.55 17.23 19.53 18.62 14.71 12.46  8.84\n",
      " 13.46 19.39  5.13  6.23 16.92 15.8   8.53  7.57  5.29 11.22 15.59 13.94\n",
      " 16.32 18.06  8.96 17.16 18.42 11.28  6.91 17.18 18.23 19.02 16.67  5.24\n",
      " 10.39 19.79  7.26 18.72  9.99  6.63  7.76  6.24  5.86  5.35 13.72 13.1\n",
      " 13.54 17.93  5.79  8.99 17.59 13.51 19.15 16.78  9.26 13.09  6.58 12.21\n",
      "  6.4  15.49  6.95 12.95  7.42 15.21 19.8  13.14  5.81  7.98 19.83 16.14\n",
      "  9.   14.   14.68 17.33 17.84 17.69 17.96 11.14  6.54  9.15 10.13 10.57\n",
      " 14.19  5.7  18.21 12.84 18.07 14.29 11.52 15.77 13.08 13.29 13.44 14.98\n",
      "  8.65 14.84 12.33 19.55  5.22 14.62 15.99 13.04 18.45 15.02  8.27  8.66\n",
      " 15.03  7.25 14.75 14.99 17.3   6.47  6.57 13.9  19.71 11.49 13.74 15.23\n",
      " 15.07 15.98 14.13 17.67 15.62 12.62 12.92  7.17 18.79 17.54 12.94 14.11\n",
      "  7.09 18.84 10.06 19.16 19.13 13.    6.14 14.83 15.97 12.48 10.86 16.95\n",
      " 18.95 10.77 10.   12.35 17.34 12.06 14.07 19.49 15.51  9.77 15.64 12.77\n",
      " 14.76 11.71  9.5   5.36 19.93 19.92 14.16  7.52  6.73  5.19  9.28 14.34\n",
      " 17.13 13.55 13.3  18.83  5.45 12.96 11.   13.22 17.75 15.53 13.92 13.73\n",
      "  8.48 11.33 10.9  19.37  8.28 10.84 12.78 12.81 18.19 16.36 14.85 11.73\n",
      " 18.22  8.33  6.86  8.05 11.68 13.18 17.63  7.48  6.7   8.31 19.61 10.58\n",
      " 19.38 14.77 16.66  8.19  5.43 13.53  6.88  8.08 16.71 14.38 11.82 11.78\n",
      " 17.46 10.5  16.44 13.93 14.49 15.88 15.11 11.23 15.38 13.4   7.7  15.44\n",
      "  8.74 18.3  10.14  6.42 18.18  5.62 19.97  6.28  9.3  18.71 14.28 14.73\n",
      "  6.44 11.05  6.76  7.84 15.28  8.79  8.85  9.76  6.18  9.46  6.6  19.59\n",
      " 14.32  6.74 14.97  7.55 18.31 16.39 18.77 11.55 15.27  6.75  5.83  9.42\n",
      "  6.26 19.25 18.17  5.94  9.06 16.25  9.52 12.85  5.14  6.78 12.25 11.5\n",
      " 16.07 18.96  5.98 14.24 17.65  6.67  8.26 18.94 19.78 14.25 12.69 15.85\n",
      " 19.01  9.83  5.17 15.04 18.49  7.67  5.76 16.29 16.99 17.15  5.84  7.61\n",
      " 15.16 15.58  5.57 14.35 10.22 12.89  9.09 19.66  5.41  7.74 17.38  6.96\n",
      "  6.21  7.02 11.06 10.05 19.76 16.93 17.44 12.14 17.09  6.46 14.74 10.69\n",
      "  8.2   9.04  8.68 11.76 15.81 16.   10.46  8.3  19.42  5.92  9.31  5.55\n",
      " 19.36  7.05 12.54 18.67 12.43 19.03 18.92 12.27 14.64  6.36  9.79  9.91\n",
      "  8.06  5.88 18.74 19.05 11.99  7.3  12.37  9.71 19.    7.63 15.46  8.88\n",
      "  5.87 11.97  9.43  5.97  5.11 11.7  17.32  7.14 19.35  7.53] \n",
      "\n",
      "Frequency counts for column  Shipping Fee :\n",
      "{10.03: 5, 9.26: 5, 6.55: 4, 13.94: 4, 18.38: 4, 19.39: 4, 11.24: 4, 12.3: 4, 19.41: 4, 11.39: 4, 16.34: 3, 13.82: 3, 14.86: 3, 9.01: 3, 6.08: 3, 12.79: 3, 5.6: 3, 7.52: 3, 10.39: 3, 14.91: 3, 12.26: 3, 17.21: 3, 10.84: 3, 11.88: 3, 6.85: 3, 9.87: 3, 10.65: 3, 6.43: 3, 19.07: 3, 16.23: 3, 7.41: 3, 14.23: 3, 12.94: 3, 5.79: 3, 13.08: 3, 12.22: 3, 6.45: 3, 15.78: 3, 15.92: 3, 9.55: 3, 10.81: 3, 5.65: 3, 7.32: 3, 14.5: 3, 10.92: 3, 12.0: 3, 19.63: 3, 13.72: 3, 9.45: 2, 8.56: 2, 9.06: 2, 11.09: 2, 18.3: 2, 18.88: 2, 10.21: 2, 11.23: 2, 10.23: 2, 18.44: 2, 19.54: 2, 14.49: 2, 17.36: 2, 19.58: 2, 16.28: 2, 19.84: 2, 15.61: 2, 16.44: 2, 7.22: 2, 18.99: 2, 7.31: 2, 8.24: 2, 6.26: 2, 14.12: 2, 15.5: 2, 10.49: 2, 14.97: 2, 5.56: 2, 11.4: 2, 8.87: 2, 9.92: 2, 19.62: 2, 14.28: 2, 11.21: 2, 15.85: 2, 5.05: 2, 16.49: 2, 19.43: 2, 8.51: 2, 7.38: 2, 9.07: 2, 6.18: 2, 12.55: 2, 18.37: 2, 13.9: 2, 7.57: 2, 5.29: 2, 15.97: 2, 6.14: 2, 11.28: 2, 17.18: 2, 14.11: 2, 5.24: 2, 9.99: 2, 12.92: 2, 17.93: 2, 13.51: 2, 12.21: 2, 15.8: 2, 17.3: 2, 7.25: 2, 8.27: 2, 13.04: 2, 14.0: 2, 14.68: 2, 17.84: 2, 11.14: 2, 10.13: 2, 8.65: 2, 13.29: 2, 12.84: 2, 8.53: 2, 12.06: 2, 15.14: 2, 10.09: 2, 10.36: 2, 19.19: 2, 6.7: 2, 8.05: 2, 19.17: 2, 18.63: 2, 15.69: 2, 16.62: 2, 11.95: 2, 16.31: 2, 8.28: 2, 19.87: 2, 6.22: 2, 19.53: 2, 13.13: 2, 18.83: 2, 15.79: 2, 13.3: 2, 9.69: 2, 15.22: 2, 14.16: 2, 12.44: 2, 7.34: 2, 9.77: 2, 6.93: 2, 17.23: 2, 8.58: 2, 6.66: 2, 13.49: 2, 6.92: 2, 6.06: 2, 5.57: 2, 15.12: 2, 10.62: 2, 12.17: 2, 17.94: 2, 12.63: 2, 13.68: 2, 13.7: 2, 18.29: 2, 19.98: 2, 7.71: 2, 9.6: 2, 13.86: 2, 13.84: 2, 9.57: 2, 19.72: 2, 9.18: 2, 16.82: 2, 14.88: 2, 19.22: 2, 14.53: 2, 5.41: 2, 19.03: 2, 19.69: 2, 11.65: 2, 12.38: 2, 18.27: 2, 9.04: 2, 7.16: 2, 19.12: 2, 5.88: 2, 9.97: 2, 10.89: 2, 13.79: 2, 5.4: 2, 11.26: 2, 13.87: 2, 13.95: 2, 13.28: 2, 6.17: 2, 11.29: 2, 7.01: 2, 19.04: 2, 16.61: 2, 8.15: 2, 5.69: 2, 10.07: 2, 9.72: 2, 11.36: 2, 9.82: 2, 7.13: 2, 19.42: 2, 8.64: 2, 7.77: 2, 16.42: 2, 7.58: 2, 19.93: 1, 12.27: 1, 15.51: 1, 6.36: 1, 12.77: 1, 14.07: 1, 14.64: 1, 19.49: 1, 5.36: 1, 9.5: 1, 11.71: 1, 14.76: 1, 15.64: 1, 15.04: 1, 19.92: 1, 12.96: 1, 19.36: 1, 10.9: 1, 11.33: 1, 8.48: 1, 13.73: 1, 13.92: 1, 15.53: 1, 17.75: 1, 13.22: 1, 11.0: 1, 7.05: 1, 18.92: 1, 5.45: 1, 12.54: 1, 18.67: 1, 9.79: 1, 17.13: 1, 14.34: 1, 9.28: 1, 12.43: 1, 5.19: 1, 6.73: 1, 13.55: 1, 19.05: 1, 17.34: 1, 15.02: 1, 15.46: 1, 13.74: 1, 11.49: 1, 8.88: 1, 19.71: 1, 5.87: 1, 6.57: 1, 6.47: 1, 14.99: 1, 14.75: 1, 11.97: 1, 15.03: 1, 8.66: 1, 9.43: 1, 18.45: 1, 12.35: 1, 15.99: 1, 5.97: 1, 14.62: 1, 5.11: 1, 5.22: 1, 19.55: 1, 11.7: 1, 12.33: 1, 14.84: 1, 17.32: 1, 7.14: 1, 14.98: 1, 13.44: 1, 19.35: 1, 15.23: 1, 15.07: 1, 7.63: 1, 15.98: 1, 10.0: 1, 10.77: 1, 18.95: 1, 16.95: 1, 10.86: 1, 9.91: 1, 8.06: 1, 12.48: 1, 18.74: 1, 5.55: 1, 14.83: 1, 13.0: 1, 19.13: 1, 19.16: 1, 11.99: 1, 10.06: 1, 18.84: 1, 7.09: 1, 7.3: 1, 12.37: 1, 17.54: 1, 18.79: 1, 9.71: 1, 7.17: 1, 12.62: 1, 15.62: 1, 17.67: 1, 19.0: 1, 14.13: 1, 19.37: 1, 6.86: 1, 9.31: 1, 19.66: 1, 5.94: 1, 18.17: 1, 19.25: 1, 12.89: 1, 9.42: 1, 5.83: 1, 6.75: 1, 15.27: 1, 11.55: 1, 18.77: 1, 9.09: 1, 16.39: 1, 18.31: 1, 7.55: 1, 6.74: 1, 11.05: 1, 7.74: 1, 14.32: 1, 19.59: 1, 6.6: 1, 9.46: 1, 17.38: 1, 9.76: 1, 6.96: 1, 11.52: 1, 8.85: 1, 8.79: 1, 15.28: 1, 6.21: 1, 7.84: 1, 10.22: 1, 14.35: 1, 16.25: 1, 9.52: 1, 5.17: 1, 9.83: 1, 19.01: 1, 18.49: 1, 7.67: 1, 12.69: 1, 5.76: 1, 16.29: 1, 14.25: 1, 19.78: 1, 18.94: 1, 8.26: 1, 6.67: 1, 17.65: 1, 14.24: 1, 5.98: 1, 18.96: 1, 16.07: 1, 11.5: 1, 16.99: 1, 12.25: 1, 6.78: 1, 17.15: 1, 5.14: 1, 5.84: 1, 7.61: 1, 15.16: 1, 15.58: 1, 12.85: 1, 6.76: 1, 7.02: 1, 12.78: 1, 10.46: 1, 16.71: 1, 8.68: 1, 8.08: 1, 11.76: 1, 6.88: 1, 13.53: 1, 5.43: 1, 8.19: 1, 16.66: 1, 15.81: 1, 14.77: 1, 19.38: 1, 16.0: 1, 10.58: 1, 19.61: 1, 6.44: 1, 8.31: 1, 8.3: 1, 7.48: 1, 17.63: 1, 13.18: 1, 11.68: 1, 8.33: 1, 18.22: 1, 5.92: 1, 11.73: 1, 14.85: 1, 16.36: 1, 18.19: 1, 12.81: 1, 14.38: 1, 11.82: 1, 11.78: 1, 17.46: 1, 14.73: 1, 18.71: 1, 11.06: 1, 9.3: 1, 6.28: 1, 10.05: 1, 19.97: 1, 5.62: 1, 19.76: 1, 18.18: 1, 6.42: 1, 10.14: 1, 16.93: 1, 17.44: 1, 8.74: 1, 15.44: 1, 7.7: 1, 13.4: 1, 15.38: 1, 12.14: 1, 15.11: 1, 15.88: 1, 17.09: 1, 6.46: 1, 13.93: 1, 14.74: 1, 10.69: 1, 8.2: 1, 10.5: 1, 15.77: 1, 13.31: 1, 14.29: 1, 11.66: 1, 7.11: 1, 18.61: 1, 13.77: 1, 14.78: 1, 13.6: 1, 16.96: 1, 6.27: 1, 11.64: 1, 16.09: 1, 17.91: 1, 9.59: 1, 16.11: 1, 9.48: 1, 8.43: 1, 5.73: 1, 19.08: 1, 14.7: 1, 16.58: 1, 16.45: 1, 18.6: 1, 7.5: 1, 5.07: 1, 6.0: 1, 7.99: 1, 10.96: 1, 16.41: 1, 19.81: 1, 18.89: 1, 9.98: 1, 8.59: 1, 8.39: 1, 8.97: 1, 15.13: 1, 9.21: 1, 10.82: 1, 11.04: 1, 11.98: 1, 5.93: 1, 8.23: 1, 18.58: 1, 13.16: 1, 17.62: 1, 5.18: 1, 11.27: 1, 6.9: 1, 15.29: 1, 12.68: 1, 17.82: 1, 10.01: 1, 15.94: 1, 14.61: 1, 8.25: 1, 16.84: 1, 8.82: 1, 18.32: 1, 5.0: 1, 19.1: 1, 12.36: 1, 17.92: 1, 7.56: 1, 11.89: 1, 18.55: 1, 19.89: 1, 11.12: 1, 10.41: 1, 7.93: 1, 5.09: 1, 6.03: 1, 15.0: 1, 18.15: 1, 5.32: 1, 7.46: 1, 17.22: 1, 9.56: 1, 18.09: 1, 12.58: 1, 7.43: 1, 15.95: 1, 5.42: 1, 5.16: 1, 17.27: 1, 8.49: 1, 17.98: 1, 13.06: 1, 6.01: 1, 11.42: 1, 12.91: 1, 15.31: 1, 14.9: 1, 11.59: 1, 18.11: 1, 6.97: 1, 17.37: 1, 11.44: 1, 7.89: 1, 10.91: 1, 9.8: 1, 10.7: 1, 8.22: 1, 15.08: 1, 11.31: 1, 11.79: 1, 9.22: 1, 10.16: 1, 11.69: 1, 18.66: 1, 7.78: 1, 6.16: 1, 16.86: 1, 18.76: 1, 6.68: 1, 19.28: 1, 17.76: 1, 16.04: 1, 12.64: 1, 15.3: 1, 6.09: 1, 11.1: 1, 10.18: 1, 6.37: 1, 14.04: 1, 16.51: 1, 18.2: 1, 15.74: 1, 18.5: 1, 18.47: 1, 18.98: 1, 11.11: 1, 11.25: 1, 13.15: 1, 6.31: 1, 5.71: 1, 5.66: 1, 11.41: 1, 7.4: 1, 6.53: 1, 8.36: 1, 16.05: 1, 18.07: 1, 18.42: 1, 11.22: 1, 15.59: 1, 16.32: 1, 18.06: 1, 8.96: 1, 17.16: 1, 6.91: 1, 7.76: 1, 18.23: 1, 19.02: 1, 16.67: 1, 19.79: 1, 7.26: 1, 18.72: 1, 16.92: 1, 6.23: 1, 5.13: 1, 13.46: 1, 8.84: 1, 12.46: 1, 14.71: 1, 18.62: 1, 12.71: 1, 10.43: 1, 11.03: 1, 13.21: 1, 19.44: 1, 16.01: 1, 15.91: 1, 14.27: 1, 11.72: 1, 6.63: 1, 6.24: 1, 16.68: 1, 17.69: 1, 5.81: 1, 7.98: 1, 19.83: 1, 16.14: 1, 9.0: 1, 17.33: 1, 17.96: 1, 5.86: 1, 6.54: 1, 9.15: 1, 10.57: 1, 14.19: 1, 5.7: 1, 18.21: 1, 13.14: 1, 19.8: 1, 15.21: 1, 7.42: 1, 12.95: 1, 6.95: 1, 15.49: 1, 6.4: 1, 6.58: 1, 13.09: 1, 16.78: 1, 19.15: 1, 17.59: 1, 8.99: 1, 13.54: 1, 13.1: 1, 5.35: 1, 6.39: 1, 8.03: 1, 12.03: 1, 8.45: 1, 5.64: 1, 14.02: 1, 17.9: 1, 13.02: 1, 6.25: 1, 9.94: 1, 8.76: 1, 19.2: 1, 11.17: 1, 14.36: 1, 11.92: 1, 13.43: 1, 16.2: 1, 7.21: 1, 13.85: 1, 14.22: 1, 18.56: 1, 5.02: 1, 13.34: 1, 15.68: 1, 13.78: 1, 9.19: 1, 10.52: 1, 10.04: 1, 18.0: 1, 14.67: 1, 16.7: 1, 18.75: 1, 13.57: 1, 17.43: 1, 11.56: 1, 13.33: 1, 17.61: 1, 15.57: 1, 5.72: 1, 10.32: 1, 7.33: 1, 6.41: 1, 12.86: 1, 7.81: 1, 5.44: 1, 19.31: 1, 17.66: 1, 10.99: 1, 16.12: 1, 8.71: 1, 19.34: 1, 18.81: 1, 5.25: 1, 19.94: 1, 16.88: 1, 15.36: 1, 18.4: 1, 5.82: 1, 7.66: 1, 6.62: 1, 6.94: 1, 7.0: 1, 19.24: 1, 8.01: 1, 5.53: 1, 18.24: 1, 12.67: 1, 7.86: 1, 5.26: 1, 14.45: 1, 7.53: 1} \n",
      "\n",
      "Mode of the Shipping Fee is [9.26, 10.03] \n",
      " \n",
      "\n",
      "Unique values in column  Shipping Status  :  ['Returned' 'In Transit' 'Delivered' 0] \n",
      "\n",
      "Frequency counts for column  Shipping Status :\n",
      "{'In Transit': 329, 'Delivered': 313, 'Returned': 308} \n",
      "\n",
      "Mode of the Shipping Status is ['In Transit'] \n",
      " \n",
      "\n",
      "Unique values in column  Order Date  :  ['2023-12-08' '2023-04-09' '2023-08-28' '2023-01-18' '2023-01-19'\n",
      " '2023-01-11' '2023-10-23' '2023-06-15' '2023-02-25' '2023-04-23'\n",
      " '2023-06-01' '2023-09-13' '2023-02-17' '2023-12-10' '2023-06-29'\n",
      " '2023-07-14' '2023-05-13' '2023-06-09' '2023-06-21' '2023-11-26'\n",
      " '2023-11-08' '2023-12-27' '2023-06-06' '2023-10-28' '2023-12-30'\n",
      " '2023-12-04' '2023-02-01' '2023-08-14' '2023-12-07' '2023-06-28'\n",
      " '2023-11-17' '2023-01-25' '2023-09-05' '2023-09-17' '2023-12-25'\n",
      " '2023-01-14' '2023-08-01' '2023-02-12' '2023-05-18' '2023-10-03'\n",
      " '2023-08-30' '2023-09-15' '2023-02-14' '2023-02-27' '2023-08-13'\n",
      " '2023-05-09' '2023-12-23' '2023-09-01' '2023-04-16' '2023-12-13'\n",
      " '2023-03-27' '2023-11-16' '2023-06-14' '2023-01-26' '2023-09-29'\n",
      " '2023-03-14' '2023-12-14' '2023-08-08' '2023-04-12' '2023-02-21'\n",
      " '2023-11-03' '2023-01-16' '2024-01-03' '2023-02-05' '2023-02-07'\n",
      " '2023-04-03' '2023-07-25' '2023-10-01' '2023-03-19' '2023-10-05'\n",
      " '2023-04-11' '2023-09-11' '2023-03-16' '2023-11-21' '2023-12-03'\n",
      " '2023-02-08' '2023-12-22' '2023-10-24' '2023-08-20' '2023-05-20'\n",
      " '2023-02-18' '2023-08-02' '2023-04-19' '2023-03-08' '2023-07-04'\n",
      " '2023-03-24' '2023-02-02' '2023-05-23' '2023-08-12' '2023-01-24'\n",
      " '2023-09-14' '2023-11-12' '2023-05-06' '2023-01-03' '2023-10-12'\n",
      " '2023-06-26' '2023-05-26' '2023-07-06' '2023-06-20' '2023-02-11'\n",
      " '2023-03-22' '2023-09-10' '2023-02-22' '2023-10-10' '2023-05-29'\n",
      " '2023-08-22' '2023-05-10' '2023-11-06' '2023-02-06' '2023-11-18'\n",
      " '2023-01-13' '2023-04-21' '2023-06-04' '2023-09-26' '2023-11-23'\n",
      " '2023-05-03' '2023-08-27' '2023-05-15' '2023-05-16' '2023-03-18'\n",
      " '2023-09-19' '2023-09-25' '2023-05-07' '2023-01-05' '2023-11-07'\n",
      " '2023-06-24' '2023-03-04' '2023-07-19' '2023-04-24' '2023-05-01'\n",
      " '2023-07-21' '2023-10-11' '2023-08-16' '2023-04-14' '2023-12-06'\n",
      " '2023-08-31' '2023-09-02' '2023-04-06' '2023-12-29' '2023-10-21'\n",
      " '2023-10-09' '2023-05-27' '2023-03-12' '2023-06-18' '2023-11-24'\n",
      " '2023-08-05' '2023-01-23' '2023-06-22' '2023-04-18' '2023-01-28'\n",
      " '2023-05-08' '2023-06-07' '2023-02-24' '2023-02-16' '2023-08-07'\n",
      " '2023-04-04' '2023-09-28' '2023-08-21' '2023-03-13' '2023-02-28'\n",
      " '2023-07-26' '2023-07-02' '2023-10-17' '2023-10-18' '2023-07-20'\n",
      " '2023-04-08' '2023-01-08' '2023-08-15' '2023-09-18' '2023-02-15'\n",
      " '2023-11-28' '2023-07-29' '2023-07-10' '2023-10-25' '2023-06-12'\n",
      " '2023-07-22' '2023-06-25' '2023-11-29' '2023-05-17' '2023-09-23'\n",
      " '2023-02-19' '2023-11-05' '2023-01-15' '2023-05-11' '2023-03-17'\n",
      " '2023-10-16' '2023-07-17' '2023-06-30' '2023-07-09' '2023-01-17'\n",
      " '2023-01-10' '2023-03-25' '2023-01-29' '2023-09-16' '2023-03-21'\n",
      " '2023-12-01' '2023-01-27' '2023-09-04' '2023-09-24' '2023-09-08'\n",
      " '2023-03-15' '2023-06-08' '2023-07-23' '2023-10-08' '2023-05-25'\n",
      " '2023-04-28' '2023-11-01' '2023-08-03' '2023-03-03' '2023-10-31'\n",
      " '2023-08-11' '2023-11-25' '2023-10-20' '2023-11-27' '2023-10-22'\n",
      " '2023-02-10' '2023-05-21' '2023-06-17' '2023-03-30' '2023-10-07'\n",
      " '2023-11-02' '2023-09-21' '2023-08-23' '2023-08-06' '2023-01-01'\n",
      " '2023-10-02' '2023-04-29' '2023-07-24' '2023-02-13' '2023-06-23'\n",
      " '2023-07-28' '2023-10-30' '2023-11-10' '2023-06-03' '2023-10-06'\n",
      " '2023-05-02' '2023-11-20' '2023-08-10' '2023-04-05' '2023-07-05'\n",
      " '2023-01-20' '2023-02-03' '2023-11-22' '2023-04-26' '2023-04-10'\n",
      " '2023-03-07' '2023-01-02' '2023-10-19' '2023-04-25' '2023-06-11'\n",
      " '2023-09-30' '2023-08-18' '2023-04-07' '2023-05-24' '2023-02-09'\n",
      " '2023-03-02' '2023-03-09' '2023-01-07' '2023-12-16' '2023-09-12'\n",
      " '2023-12-21' '2023-06-05' '2023-07-12' '2023-09-22' '2023-11-15'\n",
      " '2023-12-26' '2023-11-11' '2023-03-11' '2023-12-12' '2023-01-22'\n",
      " '2023-12-31' '2023-09-09' '2023-04-15' '2023-10-26' '2023-07-16'\n",
      " '2023-01-04' '2023-07-15' '2023-05-22' '2023-12-17' '2023-11-04'\n",
      " '2023-11-13' '2023-03-20' '2023-12-18' '2023-01-09' '2023-05-05'\n",
      " '2023-04-20' '2023-12-19' '2023-07-03' '2023-10-15' '2023-06-10'\n",
      " '2023-09-03' '2023-04-02' '2023-09-06' '2023-11-09' '2023-02-23'\n",
      " '2023-06-02' '2023-01-31' '2023-05-04' '2023-11-14' '2023-02-20'\n",
      " '2023-04-13' '2023-03-06' '2023-03-31' '2023-12-09' '2023-07-30'\n",
      " '2023-07-13' '2023-05-28' '2023-01-12' '2023-08-17' '2023-12-02'\n",
      " '2023-03-05' '2023-01-21' '2023-08-19' '2023-05-30' '2023-06-13'\n",
      " '2023-12-28' '2023-09-27' '2023-03-10' '2023-06-27' '2023-10-27'\n",
      " '2023-07-18' '2023-05-12' '2023-04-27' '2023-07-31' '2023-02-26'\n",
      " '2023-07-08' '2023-01-06' '2023-07-01' '2023-01-30' '2023-08-24'\n",
      " '2023-05-14' '2023-11-30' '2023-03-28' '2023-12-24' '2023-11-19'\n",
      " '2023-06-16' '2023-03-26' '2023-07-11' '2023-08-26' '2023-04-01'] \n",
      "\n",
      "Frequency counts for column  Order Date :\n",
      "{'2024-01-03': 20, '2023-12-08': 8, '2023-01-05': 8, '2023-10-28': 8, '2023-06-06': 7, '2023-05-07': 7, '2023-09-19': 7, '2023-09-13': 7, '2023-08-01': 7, '2023-12-07': 7, '2023-11-07': 6, '2023-11-18': 6, '2023-05-20': 6, '2023-07-25': 6, '2023-01-16': 6, '2023-05-22': 6, '2023-03-16': 6, '2023-06-01': 6, '2023-10-20': 5, '2023-02-21': 5, '2023-05-03': 5, '2023-09-26': 5, '2023-09-23': 5, '2023-03-27': 5, '2023-11-06': 5, '2023-10-16': 5, '2023-05-29': 5, '2023-01-10': 5, '2023-06-26': 5, '2023-05-16': 5, '2023-04-23': 5, '2023-06-08': 5, '2023-01-03': 5, '2023-07-23': 5, '2023-11-01': 5, '2023-08-03': 5, '2023-02-02': 5, '2023-03-03': 5, '2023-08-13': 5, '2023-08-20': 5, '2023-12-04': 5, '2023-06-29': 5, '2023-08-16': 5, '2023-05-18': 5, '2023-11-17': 5, '2023-11-08': 5, '2023-10-21': 5, '2023-01-14': 5, '2023-07-29': 5, '2023-07-14': 5, '2023-10-17': 5, '2023-10-08': 4, '2023-08-31': 4, '2023-05-06': 4, '2023-01-11': 4, '2023-04-28': 4, '2023-02-28': 4, '2023-04-18': 4, '2023-08-11': 4, '2023-08-02': 4, '2023-06-15': 4, '2023-09-28': 4, '2023-09-24': 4, '2023-07-26': 4, '2023-10-25': 4, '2023-10-10': 4, '2023-07-21': 4, '2023-05-01': 4, '2023-02-06': 4, '2023-10-23': 4, '2023-08-28': 4, '2023-10-24': 4, '2023-01-18': 4, '2023-08-27': 4, '2023-06-12': 4, '2023-01-19': 4, '2023-07-22': 4, '2023-11-14': 4, '2023-12-22': 4, '2023-04-10': 4, '2023-09-06': 4, '2023-12-27': 4, '2023-06-13': 4, '2023-01-04': 4, '2023-12-25': 4, '2023-10-03': 4, '2023-12-31': 4, '2023-12-26': 4, '2023-11-15': 4, '2023-01-07': 4, '2023-11-16': 4, '2023-09-30': 4, '2023-06-11': 4, '2023-10-19': 4, '2023-12-13': 4, '2023-02-05': 4, '2023-02-03': 4, '2023-08-05': 4, '2023-09-11': 4, '2023-07-28': 4, '2023-10-30': 4, '2023-06-03': 4, '2023-01-23': 4, '2023-07-09': 3, '2023-07-31': 3, '2023-04-08': 3, '2023-07-20': 3, '2023-10-07': 3, '2023-11-25': 3, '2023-03-20': 3, '2023-07-02': 3, '2023-12-18': 3, '2023-01-09': 3, '2023-04-20': 3, '2023-06-10': 3, '2023-03-13': 3, '2023-02-20': 3, '2023-08-07': 3, '2023-03-30': 3, '2023-06-07': 3, '2023-01-28': 3, '2023-05-04': 3, '2023-10-31': 3, '2023-10-26': 3, '2023-04-25': 3, '2023-03-07': 3, '2023-06-30': 3, '2023-08-10': 3, '2023-07-08': 3, '2023-04-07': 3, '2023-11-20': 3, '2023-02-19': 3, '2023-06-17': 3, '2023-06-25': 3, '2023-03-09': 3, '2023-01-17': 3, '2023-12-16': 3, '2023-09-12': 3, '2023-01-02': 3, '2023-12-01': 3, '2023-03-15': 3, '2023-09-04': 3, '2023-07-10': 3, '2023-12-12': 3, '2023-11-28': 3, '2023-03-22': 3, '2023-02-22': 3, '2023-09-25': 3, '2023-05-15': 3, '2023-11-23': 3, '2023-06-21': 3, '2023-02-18': 3, '2023-02-27': 3, '2023-02-14': 3, '2023-12-30': 3, '2023-08-22': 3, '2023-02-01': 3, '2023-04-16': 3, '2023-08-12': 3, '2023-01-24': 3, '2023-08-14': 3, '2023-06-28': 3, '2023-01-25': 3, '2023-02-11': 3, '2023-09-17': 3, '2023-07-06': 3, '2023-08-30': 3, '2023-09-01': 3, '2023-03-18': 3, '2023-05-26': 3, '2023-02-07': 3, '2023-09-02': 3, '2023-11-21': 3, '2023-02-17': 3, '2023-04-14': 3, '2023-02-25': 3, '2023-12-14': 3, '2023-04-06': 3, '2023-10-05': 3, '2023-05-27': 3, '2023-09-29': 3, '2023-01-26': 3, '2023-03-12': 3, '2023-06-14': 3, '2023-11-03': 3, '2023-01-22': 2, '2023-06-18': 2, '2023-01-20': 2, '2023-04-26': 2, '2023-05-24': 2, '2023-03-11': 2, '2023-04-12': 2, '2023-08-08': 2, '2023-07-12': 2, '2023-06-05': 2, '2023-03-14': 2, '2023-12-21': 2, '2023-05-09': 2, '2023-09-09': 2, '2023-08-18': 2, '2023-11-11': 2, '2023-11-24': 2, '2023-02-12': 2, '2023-12-09': 2, '2023-11-30': 2, '2023-08-24': 2, '2023-01-30': 2, '2023-02-26': 2, '2023-04-27': 2, '2023-10-27': 2, '2023-06-27': 2, '2023-12-28': 2, '2023-12-10': 2, '2023-05-30': 2, '2023-08-19': 2, '2023-12-02': 2, '2023-07-13': 2, '2023-07-30': 2, '2023-03-31': 2, '2023-07-16': 2, '2023-03-06': 2, '2023-04-13': 2, '2023-05-13': 2, '2023-06-09': 2, '2023-01-31': 2, '2023-06-02': 2, '2023-11-09': 2, '2023-11-26': 2, '2023-04-02': 2, '2023-10-15': 2, '2023-07-03': 2, '2023-10-01': 2, '2023-05-05': 2, '2023-11-13': 2, '2023-04-03': 2, '2023-11-22': 2, '2023-05-02': 2, '2023-09-16': 2, '2023-12-29': 2, '2023-05-23': 2, '2023-04-09': 2, '2023-05-25': 2, '2023-09-14': 2, '2023-06-20': 2, '2023-10-11': 2, '2023-04-24': 2, '2023-01-27': 2, '2023-03-21': 2, '2023-10-18': 2, '2023-04-19': 2, '2023-07-19': 2, '2023-07-17': 2, '2023-10-06': 2, '2023-03-04': 2, '2023-05-11': 2, '2023-11-05': 2, '2023-01-08': 2, '2023-04-21': 2, '2023-11-29': 2, '2023-09-18': 2, '2023-03-08': 2, '2023-04-04': 2, '2023-02-15': 2, '2023-06-22': 2, '2023-10-22': 2, '2023-10-02': 2, '2023-02-10': 2, '2023-01-01': 2, '2023-05-21': 2, '2023-10-09': 2, '2023-05-08': 2, '2023-08-06': 2, '2023-03-19': 2, '2023-11-10': 2, '2023-02-13': 2, '2023-04-11': 2, '2023-11-02': 2, '2023-08-17': 1, '2023-05-28': 1, '2023-03-26': 1, '2023-01-12': 1, '2023-11-19': 1, '2023-08-15': 1, '2023-07-11': 1, '2023-08-26': 1, '2023-06-16': 1, '2023-01-06': 1, '2023-03-05': 1, '2023-01-21': 1, '2023-02-24': 1, '2023-03-28': 1, '2023-09-27': 1, '2023-03-10': 1, '2023-05-14': 1, '2023-12-06': 1, '2023-08-21': 1, '2023-07-18': 1, '2023-05-12': 1, '2023-07-01': 1, '2023-02-16': 1, '2023-12-24': 1, '2023-05-10': 1, '2023-06-24': 1, '2023-02-09': 1, '2023-03-24': 1, '2023-07-04': 1, '2023-09-22': 1, '2023-11-27': 1, '2023-12-23': 1, '2023-02-08': 1, '2023-03-02': 1, '2023-12-03': 1, '2023-06-04': 1, '2023-09-21': 1, '2023-08-23': 1, '2023-04-29': 1, '2023-07-24': 1, '2023-06-23': 1, '2023-07-05': 1, '2023-04-05': 1, '2023-09-15': 1, '2023-11-12': 1, '2023-04-15': 1, '2023-10-12': 1, '2023-05-17': 1, '2023-01-13': 1, '2023-02-23': 1, '2023-01-15': 1, '2023-09-03': 1, '2023-03-17': 1, '2023-12-19': 1, '2023-09-10': 1, '2023-03-25': 1, '2023-01-29': 1, '2023-11-04': 1, '2023-12-17': 1, '2023-09-05': 1, '2023-07-15': 1, '2023-09-08': 1, '2023-04-01': 1} \n",
      "\n",
      "Mode of the Order Date is ['2024-01-03'] \n",
      " \n",
      "\n"
     ]
    }
   ],
   "source": [
    "columnnames = list(renamed_data.columns) # Get the column names of the DataFrame\n",
    "\n",
    "\n",
    "for column in columnnames: # Loop through each column to calculate unique value counts only for numeric columns\n",
    "   \n",
    "    if \"id\" in column.lower() or \"index\" in column.lower(): # Skip columns containing 'id' or 'index' in the name\n",
    "        continue\n",
    "    \n",
    "    \n",
    "    if renamed_data[column].dtype in ['int64', 'float64', 'object']:# Check if the column is of type int or float\n",
    "        \n",
    "        unique_values = dataset_new[column].unique()\n",
    "        \n",
    "        frequency_counts = renamed_data[column].value_counts() # Get the frequency counts of unique values in the numeric column\n",
    "        \n",
    "        column_mode = list(renamed_data[column].mode())\n",
    "        \n",
    "        \n",
    "        print(\"Unique values in column \" ,  column , \" : \",  unique_values, \"\\n\")\n",
    "        \n",
    "        print(\"Frequency counts for column \",  column , \":\")# Print the frequency counts for the current column\n",
    "        print(dict(frequency_counts), \"\\n\")\n",
    "        \n",
    "        \n",
    "        print(\"Mode of the\" , column,  \"is\",column_mode , \"\\n\", \"\\n\")\n",
    "        "
   ]
  },
  {
   "cell_type": "markdown",
   "id": "53921438",
   "metadata": {},
   "source": [
    "#### Printing the Median of Numerical Columns."
   ]
  },
  {
   "cell_type": "code",
   "execution_count": 23,
   "id": "1e68c1bc",
   "metadata": {},
   "outputs": [
    {
     "name": "stdout",
     "output_type": "stream",
     "text": [
      "Median of the Age is 49.0 \n",
      "\n",
      "Median of the Unit Price is 200.0 \n",
      "\n",
      "Median of the Quantity is 3.0 \n",
      "\n",
      "Median of the Total Price is 600.0 \n",
      "\n",
      "Median of the Shipping Fee is 12.315000000000001 \n",
      "\n"
     ]
    }
   ],
   "source": [
    "columnnames = list(renamed_data.columns)\n",
    "\n",
    "for column in columnnames:\n",
    "    \n",
    "    if renamed_data[column].dtype in ['int64', 'float64']:\n",
    "        \n",
    "        column_median = renamed_data[column].median()\n",
    "        \n",
    "        print(\"Median of the\" , column,  \"is\", column_median , \"\\n\")"
   ]
  },
  {
   "cell_type": "code",
   "execution_count": null,
   "id": "9d496615",
   "metadata": {},
   "outputs": [],
   "source": []
  },
  {
   "cell_type": "code",
   "execution_count": null,
   "id": "422abcd6",
   "metadata": {},
   "outputs": [],
   "source": []
  }
 ],
 "metadata": {
  "kernelspec": {
   "display_name": "Python 3 (ipykernel)",
   "language": "python",
   "name": "python3"
  },
  "language_info": {
   "codemirror_mode": {
    "name": "ipython",
    "version": 3
   },
   "file_extension": ".py",
   "mimetype": "text/x-python",
   "name": "python",
   "nbconvert_exporter": "python",
   "pygments_lexer": "ipython3",
   "version": "3.9.13"
  }
 },
 "nbformat": 4,
 "nbformat_minor": 5
}
